{
  "nbformat": 4,
  "nbformat_minor": 0,
  "metadata": {
    "colab": {
      "provenance": [],
      "authorship_tag": "ABX9TyOu4vFMTkTJXAIxX22FRsoK"
    },
    "kernelspec": {
      "name": "python3",
      "display_name": "Python 3"
    },
    "language_info": {
      "name": "python"
    }
  },
  "cells": [
    {
      "cell_type": "markdown",
      "source": [
        "\n",
        "**Business Problem**\n",
        "\n",
        "The Management team at e-commerce wants to analyze the customer purchase behavior (specifically, purchase amount) against the customer’s gender and the various other factors to help the business make better decisions. They want to understand if the spending habits differ between male and female customers: Do women spend more on Black Friday than men? (Assume 50 million customers are male and 50 million are female)."
      ],
      "metadata": {
        "id": "9J5DxPGnhSwB"
      }
    },
    {
      "cell_type": "code",
      "execution_count": null,
      "metadata": {
        "id": "CoaUtFoVf2L_"
      },
      "outputs": [],
      "source": [
        "import pandas as pd\n",
        "import seaborn as sns\n",
        "import numpy as np\n",
        "import scipy.stats as stats\n",
        "import matplotlib.pyplot as plt"
      ]
    },
    {
      "cell_type": "code",
      "source": [
        "df=pd.read_csv('MaskedURL')"
      ],
      "metadata": {
        "id": "pFVeIw80gO-o"
      },
      "execution_count": null,
      "outputs": []
    },
    {
      "cell_type": "code",
      "source": [
        "df.head()"
      ],
      "metadata": {
        "colab": {
          "base_uri": "https://localhost:8080/",
          "height": 206
        },
        "id": "-ApNBChogdcr",
        "outputId": "9dcdcbfe-d99b-42c7-c378-abdc35fb4319"
      },
      "execution_count": null,
      "outputs": [
        {
          "output_type": "execute_result",
          "data": {
            "text/plain": [
              "   User_ID Product_ID Gender   Age  Occupation City_Category  \\\n",
              "0  1000001  P00069042      F  0-17          10             A   \n",
              "1  1000001  P00248942      F  0-17          10             A   \n",
              "2  1000001  P00087842      F  0-17          10             A   \n",
              "3  1000001  P00085442      F  0-17          10             A   \n",
              "4  1000002  P00285442      M   55+          16             C   \n",
              "\n",
              "  Stay_In_Current_City_Years  Marital_Status  Product_Category  Purchase  \n",
              "0                          2               0                 3      8370  \n",
              "1                          2               0                 1     15200  \n",
              "2                          2               0                12      1422  \n",
              "3                          2               0                12      1057  \n",
              "4                         4+               0                 8      7969  "
            ],
            "text/html": [
              "\n",
              "  <div id=\"df-861a7960-d482-402c-a9b5-767badffafc1\">\n",
              "    <div class=\"colab-df-container\">\n",
              "      <div>\n",
              "<style scoped>\n",
              "    .dataframe tbody tr th:only-of-type {\n",
              "        vertical-align: middle;\n",
              "    }\n",
              "\n",
              "    .dataframe tbody tr th {\n",
              "        vertical-align: top;\n",
              "    }\n",
              "\n",
              "    .dataframe thead th {\n",
              "        text-align: right;\n",
              "    }\n",
              "</style>\n",
              "<table border=\"1\" class=\"dataframe\">\n",
              "  <thead>\n",
              "    <tr style=\"text-align: right;\">\n",
              "      <th></th>\n",
              "      <th>User_ID</th>\n",
              "      <th>Product_ID</th>\n",
              "      <th>Gender</th>\n",
              "      <th>Age</th>\n",
              "      <th>Occupation</th>\n",
              "      <th>City_Category</th>\n",
              "      <th>Stay_In_Current_City_Years</th>\n",
              "      <th>Marital_Status</th>\n",
              "      <th>Product_Category</th>\n",
              "      <th>Purchase</th>\n",
              "    </tr>\n",
              "  </thead>\n",
              "  <tbody>\n",
              "    <tr>\n",
              "      <th>0</th>\n",
              "      <td>1000001</td>\n",
              "      <td>P00069042</td>\n",
              "      <td>F</td>\n",
              "      <td>0-17</td>\n",
              "      <td>10</td>\n",
              "      <td>A</td>\n",
              "      <td>2</td>\n",
              "      <td>0</td>\n",
              "      <td>3</td>\n",
              "      <td>8370</td>\n",
              "    </tr>\n",
              "    <tr>\n",
              "      <th>1</th>\n",
              "      <td>1000001</td>\n",
              "      <td>P00248942</td>\n",
              "      <td>F</td>\n",
              "      <td>0-17</td>\n",
              "      <td>10</td>\n",
              "      <td>A</td>\n",
              "      <td>2</td>\n",
              "      <td>0</td>\n",
              "      <td>1</td>\n",
              "      <td>15200</td>\n",
              "    </tr>\n",
              "    <tr>\n",
              "      <th>2</th>\n",
              "      <td>1000001</td>\n",
              "      <td>P00087842</td>\n",
              "      <td>F</td>\n",
              "      <td>0-17</td>\n",
              "      <td>10</td>\n",
              "      <td>A</td>\n",
              "      <td>2</td>\n",
              "      <td>0</td>\n",
              "      <td>12</td>\n",
              "      <td>1422</td>\n",
              "    </tr>\n",
              "    <tr>\n",
              "      <th>3</th>\n",
              "      <td>1000001</td>\n",
              "      <td>P00085442</td>\n",
              "      <td>F</td>\n",
              "      <td>0-17</td>\n",
              "      <td>10</td>\n",
              "      <td>A</td>\n",
              "      <td>2</td>\n",
              "      <td>0</td>\n",
              "      <td>12</td>\n",
              "      <td>1057</td>\n",
              "    </tr>\n",
              "    <tr>\n",
              "      <th>4</th>\n",
              "      <td>1000002</td>\n",
              "      <td>P00285442</td>\n",
              "      <td>M</td>\n",
              "      <td>55+</td>\n",
              "      <td>16</td>\n",
              "      <td>C</td>\n",
              "      <td>4+</td>\n",
              "      <td>0</td>\n",
              "      <td>8</td>\n",
              "      <td>7969</td>\n",
              "    </tr>\n",
              "  </tbody>\n",
              "</table>\n",
              "</div>\n",
              "      <button class=\"colab-df-convert\" onclick=\"convertToInteractive('df-861a7960-d482-402c-a9b5-767badffafc1')\"\n",
              "              title=\"Convert this dataframe to an interactive table.\"\n",
              "              style=\"display:none;\">\n",
              "        \n",
              "  <svg xmlns=\"http://www.w3.org/2000/svg\" height=\"24px\"viewBox=\"0 0 24 24\"\n",
              "       width=\"24px\">\n",
              "    <path d=\"M0 0h24v24H0V0z\" fill=\"none\"/>\n",
              "    <path d=\"M18.56 5.44l.94 2.06.94-2.06 2.06-.94-2.06-.94-.94-2.06-.94 2.06-2.06.94zm-11 1L8.5 8.5l.94-2.06 2.06-.94-2.06-.94L8.5 2.5l-.94 2.06-2.06.94zm10 10l.94 2.06.94-2.06 2.06-.94-2.06-.94-.94-2.06-.94 2.06-2.06.94z\"/><path d=\"M17.41 7.96l-1.37-1.37c-.4-.4-.92-.59-1.43-.59-.52 0-1.04.2-1.43.59L10.3 9.45l-7.72 7.72c-.78.78-.78 2.05 0 2.83L4 21.41c.39.39.9.59 1.41.59.51 0 1.02-.2 1.41-.59l7.78-7.78 2.81-2.81c.8-.78.8-2.07 0-2.86zM5.41 20L4 18.59l7.72-7.72 1.47 1.35L5.41 20z\"/>\n",
              "  </svg>\n",
              "      </button>\n",
              "      \n",
              "  <style>\n",
              "    .colab-df-container {\n",
              "      display:flex;\n",
              "      flex-wrap:wrap;\n",
              "      gap: 12px;\n",
              "    }\n",
              "\n",
              "    .colab-df-convert {\n",
              "      background-color: #E8F0FE;\n",
              "      border: none;\n",
              "      border-radius: 50%;\n",
              "      cursor: pointer;\n",
              "      display: none;\n",
              "      fill: #1967D2;\n",
              "      height: 32px;\n",
              "      padding: 0 0 0 0;\n",
              "      width: 32px;\n",
              "    }\n",
              "\n",
              "    .colab-df-convert:hover {\n",
              "      background-color: #E2EBFA;\n",
              "      box-shadow: 0px 1px 2px rgba(60, 64, 67, 0.3), 0px 1px 3px 1px rgba(60, 64, 67, 0.15);\n",
              "      fill: #174EA6;\n",
              "    }\n",
              "\n",
              "    [theme=dark] .colab-df-convert {\n",
              "      background-color: #3B4455;\n",
              "      fill: #D2E3FC;\n",
              "    }\n",
              "\n",
              "    [theme=dark] .colab-df-convert:hover {\n",
              "      background-color: #434B5C;\n",
              "      box-shadow: 0px 1px 3px 1px rgba(0, 0, 0, 0.15);\n",
              "      filter: drop-shadow(0px 1px 2px rgba(0, 0, 0, 0.3));\n",
              "      fill: #FFFFFF;\n",
              "    }\n",
              "  </style>\n",
              "\n",
              "      <script>\n",
              "        const buttonEl =\n",
              "          document.querySelector('#df-861a7960-d482-402c-a9b5-767badffafc1 button.colab-df-convert');\n",
              "        buttonEl.style.display =\n",
              "          google.colab.kernel.accessAllowed ? 'block' : 'none';\n",
              "\n",
              "        async function convertToInteractive(key) {\n",
              "          const element = document.querySelector('#df-861a7960-d482-402c-a9b5-767badffafc1');\n",
              "          const dataTable =\n",
              "            await google.colab.kernel.invokeFunction('convertToInteractive',\n",
              "                                                     [key], {});\n",
              "          if (!dataTable) return;\n",
              "\n",
              "          const docLinkHtml = 'Like what you see? Visit the ' +\n",
              "            '<a target=\"_blank\" href=https://colab.research.google.com/notebooks/data_table.ipynb>data table notebook</a>'\n",
              "            + ' to learn more about interactive tables.';\n",
              "          element.innerHTML = '';\n",
              "          dataTable['output_type'] = 'display_data';\n",
              "          await google.colab.output.renderOutput(dataTable, element);\n",
              "          const docLink = document.createElement('div');\n",
              "          docLink.innerHTML = docLinkHtml;\n",
              "          element.appendChild(docLink);\n",
              "        }\n",
              "      </script>\n",
              "    </div>\n",
              "  </div>\n",
              "  "
            ]
          },
          "metadata": {},
          "execution_count": 4
        }
      ]
    },
    {
      "cell_type": "markdown",
      "source": [
        "# **Understanding data**"
      ],
      "metadata": {
        "id": "wEXolV7UkFXZ"
      }
    },
    {
      "cell_type": "code",
      "source": [
        "df.shape"
      ],
      "metadata": {
        "colab": {
          "base_uri": "https://localhost:8080/"
        },
        "id": "lcAxJg7zge1g",
        "outputId": "62970dfd-8600-4700-c73b-b71ab8310b76"
      },
      "execution_count": null,
      "outputs": [
        {
          "output_type": "execute_result",
          "data": {
            "text/plain": [
              "(550068, 10)"
            ]
          },
          "metadata": {},
          "execution_count": 13
        }
      ]
    },
    {
      "cell_type": "code",
      "source": [
        "df.columns"
      ],
      "metadata": {
        "colab": {
          "base_uri": "https://localhost:8080/"
        },
        "id": "uTRtJUk9gieA",
        "outputId": "9cba00bd-4f10-4063-a0f8-80a329dcf427"
      },
      "execution_count": null,
      "outputs": [
        {
          "output_type": "execute_result",
          "data": {
            "text/plain": [
              "Index(['User_ID', 'Product_ID', 'Gender', 'Age', 'Occupation', 'City_Category',\n",
              "       'Stay_In_Current_City_Years', 'Marital_Status', 'Product_Category',\n",
              "       'Purchase'],\n",
              "      dtype='object')"
            ]
          },
          "metadata": {},
          "execution_count": 14
        }
      ]
    },
    {
      "cell_type": "code",
      "source": [
        "df.dtypes"
      ],
      "metadata": {
        "colab": {
          "base_uri": "https://localhost:8080/"
        },
        "id": "93cr4CbnglfE",
        "outputId": "98aacfb3-2979-4a90-9900-112a55cb134e"
      },
      "execution_count": null,
      "outputs": [
        {
          "output_type": "execute_result",
          "data": {
            "text/plain": [
              "User_ID                        int64\n",
              "Product_ID                    object\n",
              "Gender                        object\n",
              "Age                           object\n",
              "Occupation                     int64\n",
              "City_Category                 object\n",
              "Stay_In_Current_City_Years    object\n",
              "Marital_Status                 int64\n",
              "Product_Category               int64\n",
              "Purchase                       int64\n",
              "dtype: object"
            ]
          },
          "metadata": {},
          "execution_count": 10
        }
      ]
    },
    {
      "cell_type": "code",
      "source": [
        "df.head()"
      ],
      "metadata": {
        "colab": {
          "base_uri": "https://localhost:8080/",
          "height": 206
        },
        "id": "9_KoAILqh3YZ",
        "outputId": "b2d6d17a-f643-4709-ca0b-b04aa9b207da"
      },
      "execution_count": null,
      "outputs": [
        {
          "output_type": "execute_result",
          "data": {
            "text/plain": [
              "   User_ID Product_ID Gender   Age  Occupation City_Category  \\\n",
              "0  1000001  P00069042      F  0-17          10             A   \n",
              "1  1000001  P00248942      F  0-17          10             A   \n",
              "2  1000001  P00087842      F  0-17          10             A   \n",
              "3  1000001  P00085442      F  0-17          10             A   \n",
              "4  1000002  P00285442      M   55+          16             C   \n",
              "\n",
              "  Stay_In_Current_City_Years  Marital_Status  Product_Category  Purchase  \n",
              "0                          2               0                 3      8370  \n",
              "1                          2               0                 1     15200  \n",
              "2                          2               0                12      1422  \n",
              "3                          2               0                12      1057  \n",
              "4                         4+               0                 8      7969  "
            ],
            "text/html": [
              "\n",
              "  <div id=\"df-66af086c-5989-4551-b33d-67ce2a23e279\">\n",
              "    <div class=\"colab-df-container\">\n",
              "      <div>\n",
              "<style scoped>\n",
              "    .dataframe tbody tr th:only-of-type {\n",
              "        vertical-align: middle;\n",
              "    }\n",
              "\n",
              "    .dataframe tbody tr th {\n",
              "        vertical-align: top;\n",
              "    }\n",
              "\n",
              "    .dataframe thead th {\n",
              "        text-align: right;\n",
              "    }\n",
              "</style>\n",
              "<table border=\"1\" class=\"dataframe\">\n",
              "  <thead>\n",
              "    <tr style=\"text-align: right;\">\n",
              "      <th></th>\n",
              "      <th>User_ID</th>\n",
              "      <th>Product_ID</th>\n",
              "      <th>Gender</th>\n",
              "      <th>Age</th>\n",
              "      <th>Occupation</th>\n",
              "      <th>City_Category</th>\n",
              "      <th>Stay_In_Current_City_Years</th>\n",
              "      <th>Marital_Status</th>\n",
              "      <th>Product_Category</th>\n",
              "      <th>Purchase</th>\n",
              "    </tr>\n",
              "  </thead>\n",
              "  <tbody>\n",
              "    <tr>\n",
              "      <th>0</th>\n",
              "      <td>1000001</td>\n",
              "      <td>P00069042</td>\n",
              "      <td>F</td>\n",
              "      <td>0-17</td>\n",
              "      <td>10</td>\n",
              "      <td>A</td>\n",
              "      <td>2</td>\n",
              "      <td>0</td>\n",
              "      <td>3</td>\n",
              "      <td>8370</td>\n",
              "    </tr>\n",
              "    <tr>\n",
              "      <th>1</th>\n",
              "      <td>1000001</td>\n",
              "      <td>P00248942</td>\n",
              "      <td>F</td>\n",
              "      <td>0-17</td>\n",
              "      <td>10</td>\n",
              "      <td>A</td>\n",
              "      <td>2</td>\n",
              "      <td>0</td>\n",
              "      <td>1</td>\n",
              "      <td>15200</td>\n",
              "    </tr>\n",
              "    <tr>\n",
              "      <th>2</th>\n",
              "      <td>1000001</td>\n",
              "      <td>P00087842</td>\n",
              "      <td>F</td>\n",
              "      <td>0-17</td>\n",
              "      <td>10</td>\n",
              "      <td>A</td>\n",
              "      <td>2</td>\n",
              "      <td>0</td>\n",
              "      <td>12</td>\n",
              "      <td>1422</td>\n",
              "    </tr>\n",
              "    <tr>\n",
              "      <th>3</th>\n",
              "      <td>1000001</td>\n",
              "      <td>P00085442</td>\n",
              "      <td>F</td>\n",
              "      <td>0-17</td>\n",
              "      <td>10</td>\n",
              "      <td>A</td>\n",
              "      <td>2</td>\n",
              "      <td>0</td>\n",
              "      <td>12</td>\n",
              "      <td>1057</td>\n",
              "    </tr>\n",
              "    <tr>\n",
              "      <th>4</th>\n",
              "      <td>1000002</td>\n",
              "      <td>P00285442</td>\n",
              "      <td>M</td>\n",
              "      <td>55+</td>\n",
              "      <td>16</td>\n",
              "      <td>C</td>\n",
              "      <td>4+</td>\n",
              "      <td>0</td>\n",
              "      <td>8</td>\n",
              "      <td>7969</td>\n",
              "    </tr>\n",
              "  </tbody>\n",
              "</table>\n",
              "</div>\n",
              "      <button class=\"colab-df-convert\" onclick=\"convertToInteractive('df-66af086c-5989-4551-b33d-67ce2a23e279')\"\n",
              "              title=\"Convert this dataframe to an interactive table.\"\n",
              "              style=\"display:none;\">\n",
              "        \n",
              "  <svg xmlns=\"http://www.w3.org/2000/svg\" height=\"24px\"viewBox=\"0 0 24 24\"\n",
              "       width=\"24px\">\n",
              "    <path d=\"M0 0h24v24H0V0z\" fill=\"none\"/>\n",
              "    <path d=\"M18.56 5.44l.94 2.06.94-2.06 2.06-.94-2.06-.94-.94-2.06-.94 2.06-2.06.94zm-11 1L8.5 8.5l.94-2.06 2.06-.94-2.06-.94L8.5 2.5l-.94 2.06-2.06.94zm10 10l.94 2.06.94-2.06 2.06-.94-2.06-.94-.94-2.06-.94 2.06-2.06.94z\"/><path d=\"M17.41 7.96l-1.37-1.37c-.4-.4-.92-.59-1.43-.59-.52 0-1.04.2-1.43.59L10.3 9.45l-7.72 7.72c-.78.78-.78 2.05 0 2.83L4 21.41c.39.39.9.59 1.41.59.51 0 1.02-.2 1.41-.59l7.78-7.78 2.81-2.81c.8-.78.8-2.07 0-2.86zM5.41 20L4 18.59l7.72-7.72 1.47 1.35L5.41 20z\"/>\n",
              "  </svg>\n",
              "      </button>\n",
              "      \n",
              "  <style>\n",
              "    .colab-df-container {\n",
              "      display:flex;\n",
              "      flex-wrap:wrap;\n",
              "      gap: 12px;\n",
              "    }\n",
              "\n",
              "    .colab-df-convert {\n",
              "      background-color: #E8F0FE;\n",
              "      border: none;\n",
              "      border-radius: 50%;\n",
              "      cursor: pointer;\n",
              "      display: none;\n",
              "      fill: #1967D2;\n",
              "      height: 32px;\n",
              "      padding: 0 0 0 0;\n",
              "      width: 32px;\n",
              "    }\n",
              "\n",
              "    .colab-df-convert:hover {\n",
              "      background-color: #E2EBFA;\n",
              "      box-shadow: 0px 1px 2px rgba(60, 64, 67, 0.3), 0px 1px 3px 1px rgba(60, 64, 67, 0.15);\n",
              "      fill: #174EA6;\n",
              "    }\n",
              "\n",
              "    [theme=dark] .colab-df-convert {\n",
              "      background-color: #3B4455;\n",
              "      fill: #D2E3FC;\n",
              "    }\n",
              "\n",
              "    [theme=dark] .colab-df-convert:hover {\n",
              "      background-color: #434B5C;\n",
              "      box-shadow: 0px 1px 3px 1px rgba(0, 0, 0, 0.15);\n",
              "      filter: drop-shadow(0px 1px 2px rgba(0, 0, 0, 0.3));\n",
              "      fill: #FFFFFF;\n",
              "    }\n",
              "  </style>\n",
              "\n",
              "      <script>\n",
              "        const buttonEl =\n",
              "          document.querySelector('#df-66af086c-5989-4551-b33d-67ce2a23e279 button.colab-df-convert');\n",
              "        buttonEl.style.display =\n",
              "          google.colab.kernel.accessAllowed ? 'block' : 'none';\n",
              "\n",
              "        async function convertToInteractive(key) {\n",
              "          const element = document.querySelector('#df-66af086c-5989-4551-b33d-67ce2a23e279');\n",
              "          const dataTable =\n",
              "            await google.colab.kernel.invokeFunction('convertToInteractive',\n",
              "                                                     [key], {});\n",
              "          if (!dataTable) return;\n",
              "\n",
              "          const docLinkHtml = 'Like what you see? Visit the ' +\n",
              "            '<a target=\"_blank\" href=https://colab.research.google.com/notebooks/data_table.ipynb>data table notebook</a>'\n",
              "            + ' to learn more about interactive tables.';\n",
              "          element.innerHTML = '';\n",
              "          dataTable['output_type'] = 'display_data';\n",
              "          await google.colab.output.renderOutput(dataTable, element);\n",
              "          const docLink = document.createElement('div');\n",
              "          docLink.innerHTML = docLinkHtml;\n",
              "          element.appendChild(docLink);\n",
              "        }\n",
              "      </script>\n",
              "    </div>\n",
              "  </div>\n",
              "  "
            ]
          },
          "metadata": {},
          "execution_count": 15
        }
      ]
    },
    {
      "cell_type": "code",
      "source": [
        "df['Product_Category'].unique()"
      ],
      "metadata": {
        "colab": {
          "base_uri": "https://localhost:8080/"
        },
        "id": "YnuzHtd1h93q",
        "outputId": "3dd43395-0e4d-4961-b0d6-69b1c768ec00"
      },
      "execution_count": null,
      "outputs": [
        {
          "output_type": "execute_result",
          "data": {
            "text/plain": [
              "array([ 3,  1, 12,  8,  5,  4,  2,  6, 14, 11, 13, 15,  7, 16, 18, 10, 17,\n",
              "        9, 20, 19])"
            ]
          },
          "metadata": {},
          "execution_count": 15
        }
      ]
    },
    {
      "cell_type": "code",
      "source": [
        "df.describe().drop(['User_ID','Occupation','Marital_Status'],axis=1)"
      ],
      "metadata": {
        "colab": {
          "base_uri": "https://localhost:8080/",
          "height": 300
        },
        "id": "1yqewuaZgqjr",
        "outputId": "1550d979-d445-4555-d0b3-ea5b149a293c"
      },
      "execution_count": null,
      "outputs": [
        {
          "output_type": "execute_result",
          "data": {
            "text/plain": [
              "       Product_Category       Purchase\n",
              "count     550068.000000  550068.000000\n",
              "mean           5.404270    9263.968713\n",
              "std            3.936211    5023.065394\n",
              "min            1.000000      12.000000\n",
              "25%            1.000000    5823.000000\n",
              "50%            5.000000    8047.000000\n",
              "75%            8.000000   12054.000000\n",
              "max           20.000000   23961.000000"
            ],
            "text/html": [
              "\n",
              "  <div id=\"df-bb9eef4d-69da-4dc6-bc48-aa45fde0e0e0\">\n",
              "    <div class=\"colab-df-container\">\n",
              "      <div>\n",
              "<style scoped>\n",
              "    .dataframe tbody tr th:only-of-type {\n",
              "        vertical-align: middle;\n",
              "    }\n",
              "\n",
              "    .dataframe tbody tr th {\n",
              "        vertical-align: top;\n",
              "    }\n",
              "\n",
              "    .dataframe thead th {\n",
              "        text-align: right;\n",
              "    }\n",
              "</style>\n",
              "<table border=\"1\" class=\"dataframe\">\n",
              "  <thead>\n",
              "    <tr style=\"text-align: right;\">\n",
              "      <th></th>\n",
              "      <th>Product_Category</th>\n",
              "      <th>Purchase</th>\n",
              "    </tr>\n",
              "  </thead>\n",
              "  <tbody>\n",
              "    <tr>\n",
              "      <th>count</th>\n",
              "      <td>550068.000000</td>\n",
              "      <td>550068.000000</td>\n",
              "    </tr>\n",
              "    <tr>\n",
              "      <th>mean</th>\n",
              "      <td>5.404270</td>\n",
              "      <td>9263.968713</td>\n",
              "    </tr>\n",
              "    <tr>\n",
              "      <th>std</th>\n",
              "      <td>3.936211</td>\n",
              "      <td>5023.065394</td>\n",
              "    </tr>\n",
              "    <tr>\n",
              "      <th>min</th>\n",
              "      <td>1.000000</td>\n",
              "      <td>12.000000</td>\n",
              "    </tr>\n",
              "    <tr>\n",
              "      <th>25%</th>\n",
              "      <td>1.000000</td>\n",
              "      <td>5823.000000</td>\n",
              "    </tr>\n",
              "    <tr>\n",
              "      <th>50%</th>\n",
              "      <td>5.000000</td>\n",
              "      <td>8047.000000</td>\n",
              "    </tr>\n",
              "    <tr>\n",
              "      <th>75%</th>\n",
              "      <td>8.000000</td>\n",
              "      <td>12054.000000</td>\n",
              "    </tr>\n",
              "    <tr>\n",
              "      <th>max</th>\n",
              "      <td>20.000000</td>\n",
              "      <td>23961.000000</td>\n",
              "    </tr>\n",
              "  </tbody>\n",
              "</table>\n",
              "</div>\n",
              "      <button class=\"colab-df-convert\" onclick=\"convertToInteractive('df-bb9eef4d-69da-4dc6-bc48-aa45fde0e0e0')\"\n",
              "              title=\"Convert this dataframe to an interactive table.\"\n",
              "              style=\"display:none;\">\n",
              "        \n",
              "  <svg xmlns=\"http://www.w3.org/2000/svg\" height=\"24px\"viewBox=\"0 0 24 24\"\n",
              "       width=\"24px\">\n",
              "    <path d=\"M0 0h24v24H0V0z\" fill=\"none\"/>\n",
              "    <path d=\"M18.56 5.44l.94 2.06.94-2.06 2.06-.94-2.06-.94-.94-2.06-.94 2.06-2.06.94zm-11 1L8.5 8.5l.94-2.06 2.06-.94-2.06-.94L8.5 2.5l-.94 2.06-2.06.94zm10 10l.94 2.06.94-2.06 2.06-.94-2.06-.94-.94-2.06-.94 2.06-2.06.94z\"/><path d=\"M17.41 7.96l-1.37-1.37c-.4-.4-.92-.59-1.43-.59-.52 0-1.04.2-1.43.59L10.3 9.45l-7.72 7.72c-.78.78-.78 2.05 0 2.83L4 21.41c.39.39.9.59 1.41.59.51 0 1.02-.2 1.41-.59l7.78-7.78 2.81-2.81c.8-.78.8-2.07 0-2.86zM5.41 20L4 18.59l7.72-7.72 1.47 1.35L5.41 20z\"/>\n",
              "  </svg>\n",
              "      </button>\n",
              "      \n",
              "  <style>\n",
              "    .colab-df-container {\n",
              "      display:flex;\n",
              "      flex-wrap:wrap;\n",
              "      gap: 12px;\n",
              "    }\n",
              "\n",
              "    .colab-df-convert {\n",
              "      background-color: #E8F0FE;\n",
              "      border: none;\n",
              "      border-radius: 50%;\n",
              "      cursor: pointer;\n",
              "      display: none;\n",
              "      fill: #1967D2;\n",
              "      height: 32px;\n",
              "      padding: 0 0 0 0;\n",
              "      width: 32px;\n",
              "    }\n",
              "\n",
              "    .colab-df-convert:hover {\n",
              "      background-color: #E2EBFA;\n",
              "      box-shadow: 0px 1px 2px rgba(60, 64, 67, 0.3), 0px 1px 3px 1px rgba(60, 64, 67, 0.15);\n",
              "      fill: #174EA6;\n",
              "    }\n",
              "\n",
              "    [theme=dark] .colab-df-convert {\n",
              "      background-color: #3B4455;\n",
              "      fill: #D2E3FC;\n",
              "    }\n",
              "\n",
              "    [theme=dark] .colab-df-convert:hover {\n",
              "      background-color: #434B5C;\n",
              "      box-shadow: 0px 1px 3px 1px rgba(0, 0, 0, 0.15);\n",
              "      filter: drop-shadow(0px 1px 2px rgba(0, 0, 0, 0.3));\n",
              "      fill: #FFFFFF;\n",
              "    }\n",
              "  </style>\n",
              "\n",
              "      <script>\n",
              "        const buttonEl =\n",
              "          document.querySelector('#df-bb9eef4d-69da-4dc6-bc48-aa45fde0e0e0 button.colab-df-convert');\n",
              "        buttonEl.style.display =\n",
              "          google.colab.kernel.accessAllowed ? 'block' : 'none';\n",
              "\n",
              "        async function convertToInteractive(key) {\n",
              "          const element = document.querySelector('#df-bb9eef4d-69da-4dc6-bc48-aa45fde0e0e0');\n",
              "          const dataTable =\n",
              "            await google.colab.kernel.invokeFunction('convertToInteractive',\n",
              "                                                     [key], {});\n",
              "          if (!dataTable) return;\n",
              "\n",
              "          const docLinkHtml = 'Like what you see? Visit the ' +\n",
              "            '<a target=\"_blank\" href=https://colab.research.google.com/notebooks/data_table.ipynb>data table notebook</a>'\n",
              "            + ' to learn more about interactive tables.';\n",
              "          element.innerHTML = '';\n",
              "          dataTable['output_type'] = 'display_data';\n",
              "          await google.colab.output.renderOutput(dataTable, element);\n",
              "          const docLink = document.createElement('div');\n",
              "          docLink.innerHTML = docLinkHtml;\n",
              "          element.appendChild(docLink);\n",
              "        }\n",
              "      </script>\n",
              "    </div>\n",
              "  </div>\n",
              "  "
            ]
          },
          "metadata": {},
          "execution_count": 16
        }
      ]
    },
    {
      "cell_type": "code",
      "source": [
        "df.info()"
      ],
      "metadata": {
        "colab": {
          "base_uri": "https://localhost:8080/"
        },
        "id": "mfclOCqkho05",
        "outputId": "b6c08d2e-e794-43f1-e8a2-8c393af66a63"
      },
      "execution_count": null,
      "outputs": [
        {
          "output_type": "stream",
          "name": "stdout",
          "text": [
            "<class 'pandas.core.frame.DataFrame'>\n",
            "RangeIndex: 550068 entries, 0 to 550067\n",
            "Data columns (total 10 columns):\n",
            " #   Column                      Non-Null Count   Dtype \n",
            "---  ------                      --------------   ----- \n",
            " 0   User_ID                     550068 non-null  int64 \n",
            " 1   Product_ID                  550068 non-null  object\n",
            " 2   Gender                      550068 non-null  object\n",
            " 3   Age                         550068 non-null  object\n",
            " 4   Occupation                  550068 non-null  int64 \n",
            " 5   City_Category               550068 non-null  object\n",
            " 6   Stay_In_Current_City_Years  550068 non-null  object\n",
            " 7   Marital_Status              550068 non-null  int64 \n",
            " 8   Product_Category            550068 non-null  int64 \n",
            " 9   Purchase                    550068 non-null  int64 \n",
            "dtypes: int64(5), object(5)\n",
            "memory usage: 42.0+ MB\n"
          ]
        }
      ]
    },
    {
      "cell_type": "code",
      "source": [
        "df.isnull().sum()"
      ],
      "metadata": {
        "colab": {
          "base_uri": "https://localhost:8080/"
        },
        "id": "cC5oE_LUsI__",
        "outputId": "61431d63-7349-4066-cc81-4f3379275c11"
      },
      "execution_count": null,
      "outputs": [
        {
          "output_type": "execute_result",
          "data": {
            "text/plain": [
              "User_ID                       0\n",
              "Product_ID                    0\n",
              "Gender                        0\n",
              "Age                           0\n",
              "Occupation                    0\n",
              "City_Category                 0\n",
              "Stay_In_Current_City_Years    0\n",
              "Marital_Status                0\n",
              "Product_Category              0\n",
              "Purchase                      0\n",
              "dtype: int64"
            ]
          },
          "metadata": {},
          "execution_count": 18
        }
      ]
    },
    {
      "cell_type": "markdown",
      "source": [
        "This implies that there are no null values present in the data set.Hence no Null Data treatment is required."
      ],
      "metadata": {
        "id": "otsulbmliMCp"
      }
    },
    {
      "cell_type": "markdown",
      "source": [
        "# **Outlier Checks**"
      ],
      "metadata": {
        "id": "kuH1RKHtsBcD"
      }
    },
    {
      "cell_type": "code",
      "source": [
        "df.head()"
      ],
      "metadata": {
        "colab": {
          "base_uri": "https://localhost:8080/",
          "height": 206
        },
        "id": "pkYLYnAEtHAw",
        "outputId": "206c89d3-5536-4adb-cec3-be88401668c8"
      },
      "execution_count": null,
      "outputs": [
        {
          "output_type": "execute_result",
          "data": {
            "text/plain": [
              "   User_ID Product_ID Gender   Age  Occupation City_Category  \\\n",
              "0  1000001  P00069042      F  0-17          10             A   \n",
              "1  1000001  P00248942      F  0-17          10             A   \n",
              "2  1000001  P00087842      F  0-17          10             A   \n",
              "3  1000001  P00085442      F  0-17          10             A   \n",
              "4  1000002  P00285442      M   55+          16             C   \n",
              "\n",
              "  Stay_In_Current_City_Years  Marital_Status  Product_Category  Purchase  \n",
              "0                          2               0                 3      8370  \n",
              "1                          2               0                 1     15200  \n",
              "2                          2               0                12      1422  \n",
              "3                          2               0                12      1057  \n",
              "4                         4+               0                 8      7969  "
            ],
            "text/html": [
              "\n",
              "  <div id=\"df-f727e209-9d83-4435-95d5-18fb1e26d6bb\">\n",
              "    <div class=\"colab-df-container\">\n",
              "      <div>\n",
              "<style scoped>\n",
              "    .dataframe tbody tr th:only-of-type {\n",
              "        vertical-align: middle;\n",
              "    }\n",
              "\n",
              "    .dataframe tbody tr th {\n",
              "        vertical-align: top;\n",
              "    }\n",
              "\n",
              "    .dataframe thead th {\n",
              "        text-align: right;\n",
              "    }\n",
              "</style>\n",
              "<table border=\"1\" class=\"dataframe\">\n",
              "  <thead>\n",
              "    <tr style=\"text-align: right;\">\n",
              "      <th></th>\n",
              "      <th>User_ID</th>\n",
              "      <th>Product_ID</th>\n",
              "      <th>Gender</th>\n",
              "      <th>Age</th>\n",
              "      <th>Occupation</th>\n",
              "      <th>City_Category</th>\n",
              "      <th>Stay_In_Current_City_Years</th>\n",
              "      <th>Marital_Status</th>\n",
              "      <th>Product_Category</th>\n",
              "      <th>Purchase</th>\n",
              "    </tr>\n",
              "  </thead>\n",
              "  <tbody>\n",
              "    <tr>\n",
              "      <th>0</th>\n",
              "      <td>1000001</td>\n",
              "      <td>P00069042</td>\n",
              "      <td>F</td>\n",
              "      <td>0-17</td>\n",
              "      <td>10</td>\n",
              "      <td>A</td>\n",
              "      <td>2</td>\n",
              "      <td>0</td>\n",
              "      <td>3</td>\n",
              "      <td>8370</td>\n",
              "    </tr>\n",
              "    <tr>\n",
              "      <th>1</th>\n",
              "      <td>1000001</td>\n",
              "      <td>P00248942</td>\n",
              "      <td>F</td>\n",
              "      <td>0-17</td>\n",
              "      <td>10</td>\n",
              "      <td>A</td>\n",
              "      <td>2</td>\n",
              "      <td>0</td>\n",
              "      <td>1</td>\n",
              "      <td>15200</td>\n",
              "    </tr>\n",
              "    <tr>\n",
              "      <th>2</th>\n",
              "      <td>1000001</td>\n",
              "      <td>P00087842</td>\n",
              "      <td>F</td>\n",
              "      <td>0-17</td>\n",
              "      <td>10</td>\n",
              "      <td>A</td>\n",
              "      <td>2</td>\n",
              "      <td>0</td>\n",
              "      <td>12</td>\n",
              "      <td>1422</td>\n",
              "    </tr>\n",
              "    <tr>\n",
              "      <th>3</th>\n",
              "      <td>1000001</td>\n",
              "      <td>P00085442</td>\n",
              "      <td>F</td>\n",
              "      <td>0-17</td>\n",
              "      <td>10</td>\n",
              "      <td>A</td>\n",
              "      <td>2</td>\n",
              "      <td>0</td>\n",
              "      <td>12</td>\n",
              "      <td>1057</td>\n",
              "    </tr>\n",
              "    <tr>\n",
              "      <th>4</th>\n",
              "      <td>1000002</td>\n",
              "      <td>P00285442</td>\n",
              "      <td>M</td>\n",
              "      <td>55+</td>\n",
              "      <td>16</td>\n",
              "      <td>C</td>\n",
              "      <td>4+</td>\n",
              "      <td>0</td>\n",
              "      <td>8</td>\n",
              "      <td>7969</td>\n",
              "    </tr>\n",
              "  </tbody>\n",
              "</table>\n",
              "</div>\n",
              "      <button class=\"colab-df-convert\" onclick=\"convertToInteractive('df-f727e209-9d83-4435-95d5-18fb1e26d6bb')\"\n",
              "              title=\"Convert this dataframe to an interactive table.\"\n",
              "              style=\"display:none;\">\n",
              "        \n",
              "  <svg xmlns=\"http://www.w3.org/2000/svg\" height=\"24px\"viewBox=\"0 0 24 24\"\n",
              "       width=\"24px\">\n",
              "    <path d=\"M0 0h24v24H0V0z\" fill=\"none\"/>\n",
              "    <path d=\"M18.56 5.44l.94 2.06.94-2.06 2.06-.94-2.06-.94-.94-2.06-.94 2.06-2.06.94zm-11 1L8.5 8.5l.94-2.06 2.06-.94-2.06-.94L8.5 2.5l-.94 2.06-2.06.94zm10 10l.94 2.06.94-2.06 2.06-.94-2.06-.94-.94-2.06-.94 2.06-2.06.94z\"/><path d=\"M17.41 7.96l-1.37-1.37c-.4-.4-.92-.59-1.43-.59-.52 0-1.04.2-1.43.59L10.3 9.45l-7.72 7.72c-.78.78-.78 2.05 0 2.83L4 21.41c.39.39.9.59 1.41.59.51 0 1.02-.2 1.41-.59l7.78-7.78 2.81-2.81c.8-.78.8-2.07 0-2.86zM5.41 20L4 18.59l7.72-7.72 1.47 1.35L5.41 20z\"/>\n",
              "  </svg>\n",
              "      </button>\n",
              "      \n",
              "  <style>\n",
              "    .colab-df-container {\n",
              "      display:flex;\n",
              "      flex-wrap:wrap;\n",
              "      gap: 12px;\n",
              "    }\n",
              "\n",
              "    .colab-df-convert {\n",
              "      background-color: #E8F0FE;\n",
              "      border: none;\n",
              "      border-radius: 50%;\n",
              "      cursor: pointer;\n",
              "      display: none;\n",
              "      fill: #1967D2;\n",
              "      height: 32px;\n",
              "      padding: 0 0 0 0;\n",
              "      width: 32px;\n",
              "    }\n",
              "\n",
              "    .colab-df-convert:hover {\n",
              "      background-color: #E2EBFA;\n",
              "      box-shadow: 0px 1px 2px rgba(60, 64, 67, 0.3), 0px 1px 3px 1px rgba(60, 64, 67, 0.15);\n",
              "      fill: #174EA6;\n",
              "    }\n",
              "\n",
              "    [theme=dark] .colab-df-convert {\n",
              "      background-color: #3B4455;\n",
              "      fill: #D2E3FC;\n",
              "    }\n",
              "\n",
              "    [theme=dark] .colab-df-convert:hover {\n",
              "      background-color: #434B5C;\n",
              "      box-shadow: 0px 1px 3px 1px rgba(0, 0, 0, 0.15);\n",
              "      filter: drop-shadow(0px 1px 2px rgba(0, 0, 0, 0.3));\n",
              "      fill: #FFFFFF;\n",
              "    }\n",
              "  </style>\n",
              "\n",
              "      <script>\n",
              "        const buttonEl =\n",
              "          document.querySelector('#df-f727e209-9d83-4435-95d5-18fb1e26d6bb button.colab-df-convert');\n",
              "        buttonEl.style.display =\n",
              "          google.colab.kernel.accessAllowed ? 'block' : 'none';\n",
              "\n",
              "        async function convertToInteractive(key) {\n",
              "          const element = document.querySelector('#df-f727e209-9d83-4435-95d5-18fb1e26d6bb');\n",
              "          const dataTable =\n",
              "            await google.colab.kernel.invokeFunction('convertToInteractive',\n",
              "                                                     [key], {});\n",
              "          if (!dataTable) return;\n",
              "\n",
              "          const docLinkHtml = 'Like what you see? Visit the ' +\n",
              "            '<a target=\"_blank\" href=https://colab.research.google.com/notebooks/data_table.ipynb>data table notebook</a>'\n",
              "            + ' to learn more about interactive tables.';\n",
              "          element.innerHTML = '';\n",
              "          dataTable['output_type'] = 'display_data';\n",
              "          await google.colab.output.renderOutput(dataTable, element);\n",
              "          const docLink = document.createElement('div');\n",
              "          docLink.innerHTML = docLinkHtml;\n",
              "          element.appendChild(docLink);\n",
              "        }\n",
              "      </script>\n",
              "    </div>\n",
              "  </div>\n",
              "  "
            ]
          },
          "metadata": {},
          "execution_count": 19
        }
      ]
    },
    {
      "cell_type": "markdown",
      "source": [
        "There can only be outlier in Pruchase feature.\n",
        "Purchase is a continous feature."
      ],
      "metadata": {
        "id": "ce2bliAIsTk3"
      }
    },
    {
      "cell_type": "code",
      "source": [
        "# df['Purchase'].quantile()\n",
        "Q1 = df['Purchase'].quantile(0.25)\n",
        "Q3 = df['Purchase'].quantile(0.75)\n",
        "IQR = Q3 - Q1"
      ],
      "metadata": {
        "id": "EFXR4v0UsAvn"
      },
      "execution_count": null,
      "outputs": []
    },
    {
      "cell_type": "markdown",
      "source": [
        "Outlier Removal using IQR"
      ],
      "metadata": {
        "id": "a4w7oYDkxzvk"
      }
    },
    {
      "cell_type": "code",
      "source": [
        "Q1 = df.quantile(0.25)\n",
        "Q3 = df.quantile(0.75)\n",
        "IQR = Q3 - Q1\n",
        "\n",
        "df = df[~((df < (Q1 - 1.5 * IQR)) |(df > (Q3 + 1.5 * IQR))).any(axis=1)]\n",
        "# df=df[(df['Purchase']<Q3+1.5*IQR) & (df['Purchase']>Q1-1.5*IQR)]"
      ],
      "metadata": {
        "id": "p8GYMVwmtD2u",
        "colab": {
          "base_uri": "https://localhost:8080/"
        },
        "outputId": "38551a6f-f6e3-4be7-df28-f2fc13e7a33e"
      },
      "execution_count": null,
      "outputs": [
        {
          "output_type": "stream",
          "name": "stderr",
          "text": [
            "/usr/local/lib/python3.7/dist-packages/ipykernel_launcher.py:5: FutureWarning: Automatic reindexing on DataFrame vs Series comparisons is deprecated and will raise ValueError in a future version.  Do `left, right = left.align(right, axis=1, copy=False)` before e.g. `left == right`\n",
            "  \"\"\"\n"
          ]
        }
      ]
    },
    {
      "cell_type": "markdown",
      "source": [
        "# **Exploratory Data Analysis**"
      ],
      "metadata": {
        "id": "ezQlz_0_kWNh"
      }
    },
    {
      "cell_type": "code",
      "source": [
        "sns.heatmap(df.corr())"
      ],
      "metadata": {
        "colab": {
          "base_uri": "https://localhost:8080/",
          "height": 366
        },
        "id": "O6bpqaZ4lAOT",
        "outputId": "0dad37a7-6df5-478f-a849-35f26a453e0f"
      },
      "execution_count": null,
      "outputs": [
        {
          "output_type": "execute_result",
          "data": {
            "text/plain": [
              "<matplotlib.axes._subplots.AxesSubplot at 0x7f7a33440650>"
            ]
          },
          "metadata": {},
          "execution_count": 22
        },
        {
          "output_type": "display_data",
          "data": {
            "text/plain": [
              "<Figure size 432x288 with 2 Axes>"
            ],
            "image/png": "[encoded data removed]"
          },
          "metadata": {
            "needs_background": "light"
          }
        }
      ]
    },
    {
      "cell_type": "markdown",
      "source": [
        "We can make out from the Correlation Heatmap that none of the features are correlated.So none of the features can be removed."
      ],
      "metadata": {
        "id": "7-R4fkAVlSlo"
      }
    },
    {
      "cell_type": "code",
      "source": [
        "df.head()"
      ],
      "metadata": {
        "colab": {
          "base_uri": "https://localhost:8080/",
          "height": 206
        },
        "id": "c37lyJitiJDt",
        "outputId": "cd873617-e8aa-4d6c-8022-bae2bc212f83"
      },
      "execution_count": null,
      "outputs": [
        {
          "output_type": "execute_result",
          "data": {
            "text/plain": [
              "   User_ID Product_ID Gender   Age  Occupation City_Category  \\\n",
              "0  1000001  P00069042      F  0-17          10             A   \n",
              "1  1000001  P00248942      F  0-17          10             A   \n",
              "2  1000001  P00087842      F  0-17          10             A   \n",
              "3  1000001  P00085442      F  0-17          10             A   \n",
              "4  1000002  P00285442      M   55+          16             C   \n",
              "\n",
              "  Stay_In_Current_City_Years  Marital_Status  Product_Category  Purchase  \n",
              "0                          2               0                 3      8370  \n",
              "1                          2               0                 1     15200  \n",
              "2                          2               0                12      1422  \n",
              "3                          2               0                12      1057  \n",
              "4                         4+               0                 8      7969  "
            ],
            "text/html": [
              "\n",
              "  <div id=\"df-24163bce-29a7-4c91-b6d6-3ce63faf674b\">\n",
              "    <div class=\"colab-df-container\">\n",
              "      <div>\n",
              "<style scoped>\n",
              "    .dataframe tbody tr th:only-of-type {\n",
              "        vertical-align: middle;\n",
              "    }\n",
              "\n",
              "    .dataframe tbody tr th {\n",
              "        vertical-align: top;\n",
              "    }\n",
              "\n",
              "    .dataframe thead th {\n",
              "        text-align: right;\n",
              "    }\n",
              "</style>\n",
              "<table border=\"1\" class=\"dataframe\">\n",
              "  <thead>\n",
              "    <tr style=\"text-align: right;\">\n",
              "      <th></th>\n",
              "      <th>User_ID</th>\n",
              "      <th>Product_ID</th>\n",
              "      <th>Gender</th>\n",
              "      <th>Age</th>\n",
              "      <th>Occupation</th>\n",
              "      <th>City_Category</th>\n",
              "      <th>Stay_In_Current_City_Years</th>\n",
              "      <th>Marital_Status</th>\n",
              "      <th>Product_Category</th>\n",
              "      <th>Purchase</th>\n",
              "    </tr>\n",
              "  </thead>\n",
              "  <tbody>\n",
              "    <tr>\n",
              "      <th>0</th>\n",
              "      <td>1000001</td>\n",
              "      <td>P00069042</td>\n",
              "      <td>F</td>\n",
              "      <td>0-17</td>\n",
              "      <td>10</td>\n",
              "      <td>A</td>\n",
              "      <td>2</td>\n",
              "      <td>0</td>\n",
              "      <td>3</td>\n",
              "      <td>8370</td>\n",
              "    </tr>\n",
              "    <tr>\n",
              "      <th>1</th>\n",
              "      <td>1000001</td>\n",
              "      <td>P00248942</td>\n",
              "      <td>F</td>\n",
              "      <td>0-17</td>\n",
              "      <td>10</td>\n",
              "      <td>A</td>\n",
              "      <td>2</td>\n",
              "      <td>0</td>\n",
              "      <td>1</td>\n",
              "      <td>15200</td>\n",
              "    </tr>\n",
              "    <tr>\n",
              "      <th>2</th>\n",
              "      <td>1000001</td>\n",
              "      <td>P00087842</td>\n",
              "      <td>F</td>\n",
              "      <td>0-17</td>\n",
              "      <td>10</td>\n",
              "      <td>A</td>\n",
              "      <td>2</td>\n",
              "      <td>0</td>\n",
              "      <td>12</td>\n",
              "      <td>1422</td>\n",
              "    </tr>\n",
              "    <tr>\n",
              "      <th>3</th>\n",
              "      <td>1000001</td>\n",
              "      <td>P00085442</td>\n",
              "      <td>F</td>\n",
              "      <td>0-17</td>\n",
              "      <td>10</td>\n",
              "      <td>A</td>\n",
              "      <td>2</td>\n",
              "      <td>0</td>\n",
              "      <td>12</td>\n",
              "      <td>1057</td>\n",
              "    </tr>\n",
              "    <tr>\n",
              "      <th>4</th>\n",
              "      <td>1000002</td>\n",
              "      <td>P00285442</td>\n",
              "      <td>M</td>\n",
              "      <td>55+</td>\n",
              "      <td>16</td>\n",
              "      <td>C</td>\n",
              "      <td>4+</td>\n",
              "      <td>0</td>\n",
              "      <td>8</td>\n",
              "      <td>7969</td>\n",
              "    </tr>\n",
              "  </tbody>\n",
              "</table>\n",
              "</div>\n",
              "      <button class=\"colab-df-convert\" onclick=\"convertToInteractive('df-24163bce-29a7-4c91-b6d6-3ce63faf674b')\"\n",
              "              title=\"Convert this dataframe to an interactive table.\"\n",
              "              style=\"display:none;\">\n",
              "        \n",
              "  <svg xmlns=\"http://www.w3.org/2000/svg\" height=\"24px\"viewBox=\"0 0 24 24\"\n",
              "       width=\"24px\">\n",
              "    <path d=\"M0 0h24v24H0V0z\" fill=\"none\"/>\n",
              "    <path d=\"M18.56 5.44l.94 2.06.94-2.06 2.06-.94-2.06-.94-.94-2.06-.94 2.06-2.06.94zm-11 1L8.5 8.5l.94-2.06 2.06-.94-2.06-.94L8.5 2.5l-.94 2.06-2.06.94zm10 10l.94 2.06.94-2.06 2.06-.94-2.06-.94-.94-2.06-.94 2.06-2.06.94z\"/><path d=\"M17.41 7.96l-1.37-1.37c-.4-.4-.92-.59-1.43-.59-.52 0-1.04.2-1.43.59L10.3 9.45l-7.72 7.72c-.78.78-.78 2.05 0 2.83L4 21.41c.39.39.9.59 1.41.59.51 0 1.02-.2 1.41-.59l7.78-7.78 2.81-2.81c.8-.78.8-2.07 0-2.86zM5.41 20L4 18.59l7.72-7.72 1.47 1.35L5.41 20z\"/>\n",
              "  </svg>\n",
              "      </button>\n",
              "      \n",
              "  <style>\n",
              "    .colab-df-container {\n",
              "      display:flex;\n",
              "      flex-wrap:wrap;\n",
              "      gap: 12px;\n",
              "    }\n",
              "\n",
              "    .colab-df-convert {\n",
              "      background-color: #E8F0FE;\n",
              "      border: none;\n",
              "      border-radius: 50%;\n",
              "      cursor: pointer;\n",
              "      display: none;\n",
              "      fill: #1967D2;\n",
              "      height: 32px;\n",
              "      padding: 0 0 0 0;\n",
              "      width: 32px;\n",
              "    }\n",
              "\n",
              "    .colab-df-convert:hover {\n",
              "      background-color: #E2EBFA;\n",
              "      box-shadow: 0px 1px 2px rgba(60, 64, 67, 0.3), 0px 1px 3px 1px rgba(60, 64, 67, 0.15);\n",
              "      fill: #174EA6;\n",
              "    }\n",
              "\n",
              "    [theme=dark] .colab-df-convert {\n",
              "      background-color: #3B4455;\n",
              "      fill: #D2E3FC;\n",
              "    }\n",
              "\n",
              "    [theme=dark] .colab-df-convert:hover {\n",
              "      background-color: #434B5C;\n",
              "      box-shadow: 0px 1px 3px 1px rgba(0, 0, 0, 0.15);\n",
              "      filter: drop-shadow(0px 1px 2px rgba(0, 0, 0, 0.3));\n",
              "      fill: #FFFFFF;\n",
              "    }\n",
              "  </style>\n",
              "\n",
              "      <script>\n",
              "        const buttonEl =\n",
              "          document.querySelector('#df-24163bce-29a7-4c91-b6d6-3ce63faf674b button.colab-df-convert');\n",
              "        buttonEl.style.display =\n",
              "          google.colab.kernel.accessAllowed ? 'block' : 'none';\n",
              "\n",
              "        async function convertToInteractive(key) {\n",
              "          const element = document.querySelector('#df-24163bce-29a7-4c91-b6d6-3ce63faf674b');\n",
              "          const dataTable =\n",
              "            await google.colab.kernel.invokeFunction('convertToInteractive',\n",
              "                                                     [key], {});\n",
              "          if (!dataTable) return;\n",
              "\n",
              "          const docLinkHtml = 'Like what you see? Visit the ' +\n",
              "            '<a target=\"_blank\" href=https://colab.research.google.com/notebooks/data_table.ipynb>data table notebook</a>'\n",
              "            + ' to learn more about interactive tables.';\n",
              "          element.innerHTML = '';\n",
              "          dataTable['output_type'] = 'display_data';\n",
              "          await google.colab.output.renderOutput(dataTable, element);\n",
              "          const docLink = document.createElement('div');\n",
              "          docLink.innerHTML = docLinkHtml;\n",
              "          element.appendChild(docLink);\n",
              "        }\n",
              "      </script>\n",
              "    </div>\n",
              "  </div>\n",
              "  "
            ]
          },
          "metadata": {},
          "execution_count": 26
        }
      ]
    },
    {
      "cell_type": "markdown",
      "source": [
        "# **UNIVARIATE ANALYSIS**"
      ],
      "metadata": {
        "id": "EUEN9nEdrZgv"
      }
    },
    {
      "cell_type": "code",
      "source": [
        "df['Age'].value_counts()"
      ],
      "metadata": {
        "colab": {
          "base_uri": "https://localhost:8080/"
        },
        "id": "6PuUW_Vlk1my",
        "outputId": "d92216f7-b59c-4e2e-c107-700513a9c6c7"
      },
      "execution_count": null,
      "outputs": [
        {
          "output_type": "execute_result",
          "data": {
            "text/plain": [
              "26-35    217200\n",
              "36-45    108583\n",
              "18-25     98590\n",
              "46-50     45066\n",
              "51-55     37857\n",
              "55+       21059\n",
              "0-17      14883\n",
              "Name: Age, dtype: int64"
            ]
          },
          "metadata": {},
          "execution_count": 23
        }
      ]
    },
    {
      "cell_type": "code",
      "source": [
        "sns.histplot(df['Age'],kde=True)"
      ],
      "metadata": {
        "colab": {
          "base_uri": "https://localhost:8080/",
          "height": 297
        },
        "id": "zHe7lRwxk7M_",
        "outputId": "f6015d29-936c-4bb4-bd94-d60034f0ea15"
      },
      "execution_count": null,
      "outputs": [
        {
          "output_type": "execute_result",
          "data": {
            "text/plain": [
              "<matplotlib.axes._subplots.AxesSubplot at 0x7f7a30ecdd10>"
            ]
          },
          "metadata": {},
          "execution_count": 24
        },
        {
          "output_type": "display_data",
          "data": {
            "text/plain": [
              "<Figure size 432x288 with 1 Axes>"
            ],
            "image/png": "[encoded data removed]"
          },
          "metadata": {
            "needs_background": "light"
          }
        }
      ]
    },
    {
      "cell_type": "markdown",
      "source": [
        "**ANALYSIS**- Most of the people that buy products on black friday are in the age group of 26-35 followed by 36-45 and then 18-25.\n",
        "\n",
        "**RECOMMENDATIONS**- So Market campaigns should run more for people who are in age range of 26-35"
      ],
      "metadata": {
        "id": "607rQxLToRj_"
      }
    },
    {
      "cell_type": "code",
      "source": [
        "# sns.set(rc={'figure.figsize':(10,5)})\n",
        "sns.histplot(df['Purchase'],kde=True)"
      ],
      "metadata": {
        "colab": {
          "base_uri": "https://localhost:8080/",
          "height": 297
        },
        "id": "mjhZqhr5l20Z",
        "outputId": "47a7ad61-4a93-42c3-8e31-db843a150645"
      },
      "execution_count": null,
      "outputs": [
        {
          "output_type": "execute_result",
          "data": {
            "text/plain": [
              "<matplotlib.axes._subplots.AxesSubplot at 0x7f7a31a60f90>"
            ]
          },
          "metadata": {},
          "execution_count": 25
        },
        {
          "output_type": "display_data",
          "data": {
            "text/plain": [
              "<Figure size 432x288 with 1 Axes>"
            ],
            "image/png": "[encoded data removed]"
          },
          "metadata": {
            "needs_background": "light"
          }
        }
      ]
    },
    {
      "cell_type": "markdown",
      "source": [
        "**ANALYSIS**- Most of the people have spent nearly 8k for purchase."
      ],
      "metadata": {
        "id": "8v-41tSUqO53"
      }
    },
    {
      "cell_type": "code",
      "source": [
        "df.head()"
      ],
      "metadata": {
        "colab": {
          "base_uri": "https://localhost:8080/",
          "height": 206
        },
        "id": "giiQt8pXo4kP",
        "outputId": "fb0d44fe-3e70-473a-b1bd-f889c7a58c00"
      },
      "execution_count": null,
      "outputs": [
        {
          "output_type": "execute_result",
          "data": {
            "text/plain": [
              "   User_ID Product_ID Gender   Age  Occupation City_Category  \\\n",
              "0  1000001  P00069042      F  0-17          10             A   \n",
              "1  1000001  P00248942      F  0-17          10             A   \n",
              "2  1000001  P00087842      F  0-17          10             A   \n",
              "3  1000001  P00085442      F  0-17          10             A   \n",
              "4  1000002  P00285442      M   55+          16             C   \n",
              "\n",
              "  Stay_In_Current_City_Years  Marital_Status  Product_Category  Purchase  \n",
              "0                          2               0                 3      8370  \n",
              "1                          2               0                 1     15200  \n",
              "2                          2               0                12      1422  \n",
              "3                          2               0                12      1057  \n",
              "4                         4+               0                 8      7969  "
            ],
            "text/html": [
              "\n",
              "  <div id=\"df-2705298b-1994-40d9-ab28-d82875140fdb\">\n",
              "    <div class=\"colab-df-container\">\n",
              "      <div>\n",
              "<style scoped>\n",
              "    .dataframe tbody tr th:only-of-type {\n",
              "        vertical-align: middle;\n",
              "    }\n",
              "\n",
              "    .dataframe tbody tr th {\n",
              "        vertical-align: top;\n",
              "    }\n",
              "\n",
              "    .dataframe thead th {\n",
              "        text-align: right;\n",
              "    }\n",
              "</style>\n",
              "<table border=\"1\" class=\"dataframe\">\n",
              "  <thead>\n",
              "    <tr style=\"text-align: right;\">\n",
              "      <th></th>\n",
              "      <th>User_ID</th>\n",
              "      <th>Product_ID</th>\n",
              "      <th>Gender</th>\n",
              "      <th>Age</th>\n",
              "      <th>Occupation</th>\n",
              "      <th>City_Category</th>\n",
              "      <th>Stay_In_Current_City_Years</th>\n",
              "      <th>Marital_Status</th>\n",
              "      <th>Product_Category</th>\n",
              "      <th>Purchase</th>\n",
              "    </tr>\n",
              "  </thead>\n",
              "  <tbody>\n",
              "    <tr>\n",
              "      <th>0</th>\n",
              "      <td>1000001</td>\n",
              "      <td>P00069042</td>\n",
              "      <td>F</td>\n",
              "      <td>0-17</td>\n",
              "      <td>10</td>\n",
              "      <td>A</td>\n",
              "      <td>2</td>\n",
              "      <td>0</td>\n",
              "      <td>3</td>\n",
              "      <td>8370</td>\n",
              "    </tr>\n",
              "    <tr>\n",
              "      <th>1</th>\n",
              "      <td>1000001</td>\n",
              "      <td>P00248942</td>\n",
              "      <td>F</td>\n",
              "      <td>0-17</td>\n",
              "      <td>10</td>\n",
              "      <td>A</td>\n",
              "      <td>2</td>\n",
              "      <td>0</td>\n",
              "      <td>1</td>\n",
              "      <td>15200</td>\n",
              "    </tr>\n",
              "    <tr>\n",
              "      <th>2</th>\n",
              "      <td>1000001</td>\n",
              "      <td>P00087842</td>\n",
              "      <td>F</td>\n",
              "      <td>0-17</td>\n",
              "      <td>10</td>\n",
              "      <td>A</td>\n",
              "      <td>2</td>\n",
              "      <td>0</td>\n",
              "      <td>12</td>\n",
              "      <td>1422</td>\n",
              "    </tr>\n",
              "    <tr>\n",
              "      <th>3</th>\n",
              "      <td>1000001</td>\n",
              "      <td>P00085442</td>\n",
              "      <td>F</td>\n",
              "      <td>0-17</td>\n",
              "      <td>10</td>\n",
              "      <td>A</td>\n",
              "      <td>2</td>\n",
              "      <td>0</td>\n",
              "      <td>12</td>\n",
              "      <td>1057</td>\n",
              "    </tr>\n",
              "    <tr>\n",
              "      <th>4</th>\n",
              "      <td>1000002</td>\n",
              "      <td>P00285442</td>\n",
              "      <td>M</td>\n",
              "      <td>55+</td>\n",
              "      <td>16</td>\n",
              "      <td>C</td>\n",
              "      <td>4+</td>\n",
              "      <td>0</td>\n",
              "      <td>8</td>\n",
              "      <td>7969</td>\n",
              "    </tr>\n",
              "  </tbody>\n",
              "</table>\n",
              "</div>\n",
              "      <button class=\"colab-df-convert\" onclick=\"convertToInteractive('df-2705298b-1994-40d9-ab28-d82875140fdb')\"\n",
              "              title=\"Convert this dataframe to an interactive table.\"\n",
              "              style=\"display:none;\">\n",
              "        \n",
              "  <svg xmlns=\"http://www.w3.org/2000/svg\" height=\"24px\"viewBox=\"0 0 24 24\"\n",
              "       width=\"24px\">\n",
              "    <path d=\"M0 0h24v24H0V0z\" fill=\"none\"/>\n",
              "    <path d=\"M18.56 5.44l.94 2.06.94-2.06 2.06-.94-2.06-.94-.94-2.06-.94 2.06-2.06.94zm-11 1L8.5 8.5l.94-2.06 2.06-.94-2.06-.94L8.5 2.5l-.94 2.06-2.06.94zm10 10l.94 2.06.94-2.06 2.06-.94-2.06-.94-.94-2.06-.94 2.06-2.06.94z\"/><path d=\"M17.41 7.96l-1.37-1.37c-.4-.4-.92-.59-1.43-.59-.52 0-1.04.2-1.43.59L10.3 9.45l-7.72 7.72c-.78.78-.78 2.05 0 2.83L4 21.41c.39.39.9.59 1.41.59.51 0 1.02-.2 1.41-.59l7.78-7.78 2.81-2.81c.8-.78.8-2.07 0-2.86zM5.41 20L4 18.59l7.72-7.72 1.47 1.35L5.41 20z\"/>\n",
              "  </svg>\n",
              "      </button>\n",
              "      \n",
              "  <style>\n",
              "    .colab-df-container {\n",
              "      display:flex;\n",
              "      flex-wrap:wrap;\n",
              "      gap: 12px;\n",
              "    }\n",
              "\n",
              "    .colab-df-convert {\n",
              "      background-color: #E8F0FE;\n",
              "      border: none;\n",
              "      border-radius: 50%;\n",
              "      cursor: pointer;\n",
              "      display: none;\n",
              "      fill: #1967D2;\n",
              "      height: 32px;\n",
              "      padding: 0 0 0 0;\n",
              "      width: 32px;\n",
              "    }\n",
              "\n",
              "    .colab-df-convert:hover {\n",
              "      background-color: #E2EBFA;\n",
              "      box-shadow: 0px 1px 2px rgba(60, 64, 67, 0.3), 0px 1px 3px 1px rgba(60, 64, 67, 0.15);\n",
              "      fill: #174EA6;\n",
              "    }\n",
              "\n",
              "    [theme=dark] .colab-df-convert {\n",
              "      background-color: #3B4455;\n",
              "      fill: #D2E3FC;\n",
              "    }\n",
              "\n",
              "    [theme=dark] .colab-df-convert:hover {\n",
              "      background-color: #434B5C;\n",
              "      box-shadow: 0px 1px 3px 1px rgba(0, 0, 0, 0.15);\n",
              "      filter: drop-shadow(0px 1px 2px rgba(0, 0, 0, 0.3));\n",
              "      fill: #FFFFFF;\n",
              "    }\n",
              "  </style>\n",
              "\n",
              "      <script>\n",
              "        const buttonEl =\n",
              "          document.querySelector('#df-2705298b-1994-40d9-ab28-d82875140fdb button.colab-df-convert');\n",
              "        buttonEl.style.display =\n",
              "          google.colab.kernel.accessAllowed ? 'block' : 'none';\n",
              "\n",
              "        async function convertToInteractive(key) {\n",
              "          const element = document.querySelector('#df-2705298b-1994-40d9-ab28-d82875140fdb');\n",
              "          const dataTable =\n",
              "            await google.colab.kernel.invokeFunction('convertToInteractive',\n",
              "                                                     [key], {});\n",
              "          if (!dataTable) return;\n",
              "\n",
              "          const docLinkHtml = 'Like what you see? Visit the ' +\n",
              "            '<a target=\"_blank\" href=https://colab.research.google.com/notebooks/data_table.ipynb>data table notebook</a>'\n",
              "            + ' to learn more about interactive tables.';\n",
              "          element.innerHTML = '';\n",
              "          dataTable['output_type'] = 'display_data';\n",
              "          await google.colab.output.renderOutput(dataTable, element);\n",
              "          const docLink = document.createElement('div');\n",
              "          docLink.innerHTML = docLinkHtml;\n",
              "          element.appendChild(docLink);\n",
              "        }\n",
              "      </script>\n",
              "    </div>\n",
              "  </div>\n",
              "  "
            ]
          },
          "metadata": {},
          "execution_count": 61
        }
      ]
    },
    {
      "cell_type": "code",
      "source": [
        "sns.histplot(df['Product_Category'])"
      ],
      "metadata": {
        "colab": {
          "base_uri": "https://localhost:8080/",
          "height": 298
        },
        "id": "4_trIJnQrmFA",
        "outputId": "9e36dc0f-aeca-43da-c57c-2ecb5167a757"
      },
      "execution_count": null,
      "outputs": [
        {
          "output_type": "execute_result",
          "data": {
            "text/plain": [
              "<matplotlib.axes._subplots.AxesSubplot at 0x7f8a302193d0>"
            ]
          },
          "metadata": {},
          "execution_count": 6
        },
        {
          "output_type": "display_data",
          "data": {
            "text/plain": [
              "<Figure size 432x288 with 1 Axes>"
            ],
            "image/png": "[encoded data removed]"
          },
          "metadata": {
            "needs_background": "light"
          }
        }
      ]
    },
    {
      "cell_type": "markdown",
      "source": [
        "**ANALYSIS**- Widely purchased product category is 5 followed by 1 and then 8"
      ],
      "metadata": {
        "id": "mv82vSvgyGHX"
      }
    },
    {
      "cell_type": "markdown",
      "source": [
        "## **BIVARIATE ANALYSIS**"
      ],
      "metadata": {
        "id": "oFHb_FozDZcD"
      }
    },
    {
      "cell_type": "code",
      "source": [
        "df.head()"
      ],
      "metadata": {
        "colab": {
          "base_uri": "https://localhost:8080/",
          "height": 206
        },
        "id": "q20ozkZzzA8R",
        "outputId": "6efce347-ed48-4cf8-ac05-7ff466bdd199"
      },
      "execution_count": null,
      "outputs": [
        {
          "output_type": "execute_result",
          "data": {
            "text/plain": [
              "   User_ID Product_ID Gender   Age  Occupation City_Category  \\\n",
              "0  1000001  P00069042      F  0-17          10             A   \n",
              "1  1000001  P00248942      F  0-17          10             A   \n",
              "2  1000001  P00087842      F  0-17          10             A   \n",
              "3  1000001  P00085442      F  0-17          10             A   \n",
              "4  1000002  P00285442      M   55+          16             C   \n",
              "\n",
              "  Stay_In_Current_City_Years  Marital_Status  Product_Category  Purchase  \n",
              "0                          2               0                 3      8370  \n",
              "1                          2               0                 1     15200  \n",
              "2                          2               0                12      1422  \n",
              "3                          2               0                12      1057  \n",
              "4                         4+               0                 8      7969  "
            ],
            "text/html": [
              "\n",
              "  <div id=\"df-3ec41f21-8e1d-4582-9991-2dd4d4aa3eec\">\n",
              "    <div class=\"colab-df-container\">\n",
              "      <div>\n",
              "<style scoped>\n",
              "    .dataframe tbody tr th:only-of-type {\n",
              "        vertical-align: middle;\n",
              "    }\n",
              "\n",
              "    .dataframe tbody tr th {\n",
              "        vertical-align: top;\n",
              "    }\n",
              "\n",
              "    .dataframe thead th {\n",
              "        text-align: right;\n",
              "    }\n",
              "</style>\n",
              "<table border=\"1\" class=\"dataframe\">\n",
              "  <thead>\n",
              "    <tr style=\"text-align: right;\">\n",
              "      <th></th>\n",
              "      <th>User_ID</th>\n",
              "      <th>Product_ID</th>\n",
              "      <th>Gender</th>\n",
              "      <th>Age</th>\n",
              "      <th>Occupation</th>\n",
              "      <th>City_Category</th>\n",
              "      <th>Stay_In_Current_City_Years</th>\n",
              "      <th>Marital_Status</th>\n",
              "      <th>Product_Category</th>\n",
              "      <th>Purchase</th>\n",
              "    </tr>\n",
              "  </thead>\n",
              "  <tbody>\n",
              "    <tr>\n",
              "      <th>0</th>\n",
              "      <td>1000001</td>\n",
              "      <td>P00069042</td>\n",
              "      <td>F</td>\n",
              "      <td>0-17</td>\n",
              "      <td>10</td>\n",
              "      <td>A</td>\n",
              "      <td>2</td>\n",
              "      <td>0</td>\n",
              "      <td>3</td>\n",
              "      <td>8370</td>\n",
              "    </tr>\n",
              "    <tr>\n",
              "      <th>1</th>\n",
              "      <td>1000001</td>\n",
              "      <td>P00248942</td>\n",
              "      <td>F</td>\n",
              "      <td>0-17</td>\n",
              "      <td>10</td>\n",
              "      <td>A</td>\n",
              "      <td>2</td>\n",
              "      <td>0</td>\n",
              "      <td>1</td>\n",
              "      <td>15200</td>\n",
              "    </tr>\n",
              "    <tr>\n",
              "      <th>2</th>\n",
              "      <td>1000001</td>\n",
              "      <td>P00087842</td>\n",
              "      <td>F</td>\n",
              "      <td>0-17</td>\n",
              "      <td>10</td>\n",
              "      <td>A</td>\n",
              "      <td>2</td>\n",
              "      <td>0</td>\n",
              "      <td>12</td>\n",
              "      <td>1422</td>\n",
              "    </tr>\n",
              "    <tr>\n",
              "      <th>3</th>\n",
              "      <td>1000001</td>\n",
              "      <td>P00085442</td>\n",
              "      <td>F</td>\n",
              "      <td>0-17</td>\n",
              "      <td>10</td>\n",
              "      <td>A</td>\n",
              "      <td>2</td>\n",
              "      <td>0</td>\n",
              "      <td>12</td>\n",
              "      <td>1057</td>\n",
              "    </tr>\n",
              "    <tr>\n",
              "      <th>4</th>\n",
              "      <td>1000002</td>\n",
              "      <td>P00285442</td>\n",
              "      <td>M</td>\n",
              "      <td>55+</td>\n",
              "      <td>16</td>\n",
              "      <td>C</td>\n",
              "      <td>4+</td>\n",
              "      <td>0</td>\n",
              "      <td>8</td>\n",
              "      <td>7969</td>\n",
              "    </tr>\n",
              "  </tbody>\n",
              "</table>\n",
              "</div>\n",
              "      <button class=\"colab-df-convert\" onclick=\"convertToInteractive('df-3ec41f21-8e1d-4582-9991-2dd4d4aa3eec')\"\n",
              "              title=\"Convert this dataframe to an interactive table.\"\n",
              "              style=\"display:none;\">\n",
              "        \n",
              "  <svg xmlns=\"http://www.w3.org/2000/svg\" height=\"24px\"viewBox=\"0 0 24 24\"\n",
              "       width=\"24px\">\n",
              "    <path d=\"M0 0h24v24H0V0z\" fill=\"none\"/>\n",
              "    <path d=\"M18.56 5.44l.94 2.06.94-2.06 2.06-.94-2.06-.94-.94-2.06-.94 2.06-2.06.94zm-11 1L8.5 8.5l.94-2.06 2.06-.94-2.06-.94L8.5 2.5l-.94 2.06-2.06.94zm10 10l.94 2.06.94-2.06 2.06-.94-2.06-.94-.94-2.06-.94 2.06-2.06.94z\"/><path d=\"M17.41 7.96l-1.37-1.37c-.4-.4-.92-.59-1.43-.59-.52 0-1.04.2-1.43.59L10.3 9.45l-7.72 7.72c-.78.78-.78 2.05 0 2.83L4 21.41c.39.39.9.59 1.41.59.51 0 1.02-.2 1.41-.59l7.78-7.78 2.81-2.81c.8-.78.8-2.07 0-2.86zM5.41 20L4 18.59l7.72-7.72 1.47 1.35L5.41 20z\"/>\n",
              "  </svg>\n",
              "      </button>\n",
              "      \n",
              "  <style>\n",
              "    .colab-df-container {\n",
              "      display:flex;\n",
              "      flex-wrap:wrap;\n",
              "      gap: 12px;\n",
              "    }\n",
              "\n",
              "    .colab-df-convert {\n",
              "      background-color: #E8F0FE;\n",
              "      border: none;\n",
              "      border-radius: 50%;\n",
              "      cursor: pointer;\n",
              "      display: none;\n",
              "      fill: #1967D2;\n",
              "      height: 32px;\n",
              "      padding: 0 0 0 0;\n",
              "      width: 32px;\n",
              "    }\n",
              "\n",
              "    .colab-df-convert:hover {\n",
              "      background-color: #E2EBFA;\n",
              "      box-shadow: 0px 1px 2px rgba(60, 64, 67, 0.3), 0px 1px 3px 1px rgba(60, 64, 67, 0.15);\n",
              "      fill: #174EA6;\n",
              "    }\n",
              "\n",
              "    [theme=dark] .colab-df-convert {\n",
              "      background-color: #3B4455;\n",
              "      fill: #D2E3FC;\n",
              "    }\n",
              "\n",
              "    [theme=dark] .colab-df-convert:hover {\n",
              "      background-color: #434B5C;\n",
              "      box-shadow: 0px 1px 3px 1px rgba(0, 0, 0, 0.15);\n",
              "      filter: drop-shadow(0px 1px 2px rgba(0, 0, 0, 0.3));\n",
              "      fill: #FFFFFF;\n",
              "    }\n",
              "  </style>\n",
              "\n",
              "      <script>\n",
              "        const buttonEl =\n",
              "          document.querySelector('#df-3ec41f21-8e1d-4582-9991-2dd4d4aa3eec button.colab-df-convert');\n",
              "        buttonEl.style.display =\n",
              "          google.colab.kernel.accessAllowed ? 'block' : 'none';\n",
              "\n",
              "        async function convertToInteractive(key) {\n",
              "          const element = document.querySelector('#df-3ec41f21-8e1d-4582-9991-2dd4d4aa3eec');\n",
              "          const dataTable =\n",
              "            await google.colab.kernel.invokeFunction('convertToInteractive',\n",
              "                                                     [key], {});\n",
              "          if (!dataTable) return;\n",
              "\n",
              "          const docLinkHtml = 'Like what you see? Visit the ' +\n",
              "            '<a target=\"_blank\" href=https://colab.research.google.com/notebooks/data_table.ipynb>data table notebook</a>'\n",
              "            + ' to learn more about interactive tables.';\n",
              "          element.innerHTML = '';\n",
              "          dataTable['output_type'] = 'display_data';\n",
              "          await google.colab.output.renderOutput(dataTable, element);\n",
              "          const docLink = document.createElement('div');\n",
              "          docLink.innerHTML = docLinkHtml;\n",
              "          element.appendChild(docLink);\n",
              "        }\n",
              "      </script>\n",
              "    </div>\n",
              "  </div>\n",
              "  "
            ]
          },
          "metadata": {},
          "execution_count": 95
        }
      ]
    },
    {
      "cell_type": "code",
      "source": [
        "sns.barplot(df['Age'],df['Purchase'],hue=df['Gender'])"
      ],
      "metadata": {
        "colab": {
          "base_uri": "https://localhost:8080/",
          "height": 354
        },
        "id": "j4Ulz8NDrxf5",
        "outputId": "fc5ddc2f-837d-4721-9ddd-1387e92fd34b"
      },
      "execution_count": null,
      "outputs": [
        {
          "output_type": "stream",
          "name": "stderr",
          "text": [
            "/usr/local/lib/python3.7/dist-packages/seaborn/_decorators.py:43: FutureWarning: Pass the following variables as keyword args: x, y. From version 0.12, the only valid positional argument will be `data`, and passing other arguments without an explicit keyword will result in an error or misinterpretation.\n",
            "  FutureWarning\n"
          ]
        },
        {
          "output_type": "execute_result",
          "data": {
            "text/plain": [
              "<matplotlib.axes._subplots.AxesSubplot at 0x7f8a2d377450>"
            ]
          },
          "metadata": {},
          "execution_count": 23
        },
        {
          "output_type": "display_data",
          "data": {
            "text/plain": [
              "<Figure size 432x288 with 1 Axes>"
            ],
            "image/png": "[encoded data removed]"
          },
          "metadata": {
            "needs_background": "light"
          }
        }
      ]
    },
    {
      "cell_type": "code",
      "source": [
        "sns.barplot(df['Product_Category'],df['Purchase'],hue=df['Gender'])"
      ],
      "metadata": {
        "colab": {
          "base_uri": "https://localhost:8080/",
          "height": 355
        },
        "id": "RDPl7uxGtf0E",
        "outputId": "f60d22ce-077a-4c63-aee7-bff887a45b88"
      },
      "execution_count": null,
      "outputs": [
        {
          "output_type": "stream",
          "name": "stderr",
          "text": [
            "/usr/local/lib/python3.7/dist-packages/seaborn/_decorators.py:43: FutureWarning: Pass the following variables as keyword args: x, y. From version 0.12, the only valid positional argument will be `data`, and passing other arguments without an explicit keyword will result in an error or misinterpretation.\n",
            "  FutureWarning\n"
          ]
        },
        {
          "output_type": "execute_result",
          "data": {
            "text/plain": [
              "<matplotlib.axes._subplots.AxesSubplot at 0x7f8a2d564750>"
            ]
          },
          "metadata": {},
          "execution_count": 22
        },
        {
          "output_type": "display_data",
          "data": {
            "text/plain": [
              "<Figure size 432x288 with 1 Axes>"
            ],
            "image/png": "[encoded data removed]"
          },
          "metadata": {
            "needs_background": "light"
          }
        }
      ]
    },
    {
      "cell_type": "code",
      "source": [
        "df.tail()"
      ],
      "metadata": {
        "colab": {
          "base_uri": "https://localhost:8080/",
          "height": 206
        },
        "id": "Ly9grimQ0ZLL",
        "outputId": "5ac5489b-8e06-423a-c930-aa7e6f981c45"
      },
      "execution_count": null,
      "outputs": [
        {
          "output_type": "execute_result",
          "data": {
            "text/plain": [
              "        User_ID Product_ID Gender    Age  Occupation City_Category  \\\n",
              "550063  1006033  P00372445      M  51-55          13             B   \n",
              "550064  1006035  P00375436      F  26-35           1             C   \n",
              "550065  1006036  P00375436      F  26-35          15             B   \n",
              "550066  1006038  P00375436      F    55+           1             C   \n",
              "550067  1006039  P00371644      F  46-50           0             B   \n",
              "\n",
              "       Stay_In_Current_City_Years  Marital_Status  Product_Category  Purchase  \n",
              "550063                          1               1                20       368  \n",
              "550064                          3               0                20       371  \n",
              "550065                         4+               1                20       137  \n",
              "550066                          2               0                20       365  \n",
              "550067                         4+               1                20       490  "
            ],
            "text/html": [
              "\n",
              "  <div id=\"df-2096e2a8-30d1-4cc9-a1c8-8fd94ad65882\">\n",
              "    <div class=\"colab-df-container\">\n",
              "      <div>\n",
              "<style scoped>\n",
              "    .dataframe tbody tr th:only-of-type {\n",
              "        vertical-align: middle;\n",
              "    }\n",
              "\n",
              "    .dataframe tbody tr th {\n",
              "        vertical-align: top;\n",
              "    }\n",
              "\n",
              "    .dataframe thead th {\n",
              "        text-align: right;\n",
              "    }\n",
              "</style>\n",
              "<table border=\"1\" class=\"dataframe\">\n",
              "  <thead>\n",
              "    <tr style=\"text-align: right;\">\n",
              "      <th></th>\n",
              "      <th>User_ID</th>\n",
              "      <th>Product_ID</th>\n",
              "      <th>Gender</th>\n",
              "      <th>Age</th>\n",
              "      <th>Occupation</th>\n",
              "      <th>City_Category</th>\n",
              "      <th>Stay_In_Current_City_Years</th>\n",
              "      <th>Marital_Status</th>\n",
              "      <th>Product_Category</th>\n",
              "      <th>Purchase</th>\n",
              "    </tr>\n",
              "  </thead>\n",
              "  <tbody>\n",
              "    <tr>\n",
              "      <th>550063</th>\n",
              "      <td>1006033</td>\n",
              "      <td>P00372445</td>\n",
              "      <td>M</td>\n",
              "      <td>51-55</td>\n",
              "      <td>13</td>\n",
              "      <td>B</td>\n",
              "      <td>1</td>\n",
              "      <td>1</td>\n",
              "      <td>20</td>\n",
              "      <td>368</td>\n",
              "    </tr>\n",
              "    <tr>\n",
              "      <th>550064</th>\n",
              "      <td>1006035</td>\n",
              "      <td>P00375436</td>\n",
              "      <td>F</td>\n",
              "      <td>26-35</td>\n",
              "      <td>1</td>\n",
              "      <td>C</td>\n",
              "      <td>3</td>\n",
              "      <td>0</td>\n",
              "      <td>20</td>\n",
              "      <td>371</td>\n",
              "    </tr>\n",
              "    <tr>\n",
              "      <th>550065</th>\n",
              "      <td>1006036</td>\n",
              "      <td>P00375436</td>\n",
              "      <td>F</td>\n",
              "      <td>26-35</td>\n",
              "      <td>15</td>\n",
              "      <td>B</td>\n",
              "      <td>4+</td>\n",
              "      <td>1</td>\n",
              "      <td>20</td>\n",
              "      <td>137</td>\n",
              "    </tr>\n",
              "    <tr>\n",
              "      <th>550066</th>\n",
              "      <td>1006038</td>\n",
              "      <td>P00375436</td>\n",
              "      <td>F</td>\n",
              "      <td>55+</td>\n",
              "      <td>1</td>\n",
              "      <td>C</td>\n",
              "      <td>2</td>\n",
              "      <td>0</td>\n",
              "      <td>20</td>\n",
              "      <td>365</td>\n",
              "    </tr>\n",
              "    <tr>\n",
              "      <th>550067</th>\n",
              "      <td>1006039</td>\n",
              "      <td>P00371644</td>\n",
              "      <td>F</td>\n",
              "      <td>46-50</td>\n",
              "      <td>0</td>\n",
              "      <td>B</td>\n",
              "      <td>4+</td>\n",
              "      <td>1</td>\n",
              "      <td>20</td>\n",
              "      <td>490</td>\n",
              "    </tr>\n",
              "  </tbody>\n",
              "</table>\n",
              "</div>\n",
              "      <button class=\"colab-df-convert\" onclick=\"convertToInteractive('df-2096e2a8-30d1-4cc9-a1c8-8fd94ad65882')\"\n",
              "              title=\"Convert this dataframe to an interactive table.\"\n",
              "              style=\"display:none;\">\n",
              "        \n",
              "  <svg xmlns=\"http://www.w3.org/2000/svg\" height=\"24px\"viewBox=\"0 0 24 24\"\n",
              "       width=\"24px\">\n",
              "    <path d=\"M0 0h24v24H0V0z\" fill=\"none\"/>\n",
              "    <path d=\"M18.56 5.44l.94 2.06.94-2.06 2.06-.94-2.06-.94-.94-2.06-.94 2.06-2.06.94zm-11 1L8.5 8.5l.94-2.06 2.06-.94-2.06-.94L8.5 2.5l-.94 2.06-2.06.94zm10 10l.94 2.06.94-2.06 2.06-.94-2.06-.94-.94-2.06-.94 2.06-2.06.94z\"/><path d=\"M17.41 7.96l-1.37-1.37c-.4-.4-.92-.59-1.43-.59-.52 0-1.04.2-1.43.59L10.3 9.45l-7.72 7.72c-.78.78-.78 2.05 0 2.83L4 21.41c.39.39.9.59 1.41.59.51 0 1.02-.2 1.41-.59l7.78-7.78 2.81-2.81c.8-.78.8-2.07 0-2.86zM5.41 20L4 18.59l7.72-7.72 1.47 1.35L5.41 20z\"/>\n",
              "  </svg>\n",
              "      </button>\n",
              "      \n",
              "  <style>\n",
              "    .colab-df-container {\n",
              "      display:flex;\n",
              "      flex-wrap:wrap;\n",
              "      gap: 12px;\n",
              "    }\n",
              "\n",
              "    .colab-df-convert {\n",
              "      background-color: #E8F0FE;\n",
              "      border: none;\n",
              "      border-radius: 50%;\n",
              "      cursor: pointer;\n",
              "      display: none;\n",
              "      fill: #1967D2;\n",
              "      height: 32px;\n",
              "      padding: 0 0 0 0;\n",
              "      width: 32px;\n",
              "    }\n",
              "\n",
              "    .colab-df-convert:hover {\n",
              "      background-color: #E2EBFA;\n",
              "      box-shadow: 0px 1px 2px rgba(60, 64, 67, 0.3), 0px 1px 3px 1px rgba(60, 64, 67, 0.15);\n",
              "      fill: #174EA6;\n",
              "    }\n",
              "\n",
              "    [theme=dark] .colab-df-convert {\n",
              "      background-color: #3B4455;\n",
              "      fill: #D2E3FC;\n",
              "    }\n",
              "\n",
              "    [theme=dark] .colab-df-convert:hover {\n",
              "      background-color: #434B5C;\n",
              "      box-shadow: 0px 1px 3px 1px rgba(0, 0, 0, 0.15);\n",
              "      filter: drop-shadow(0px 1px 2px rgba(0, 0, 0, 0.3));\n",
              "      fill: #FFFFFF;\n",
              "    }\n",
              "  </style>\n",
              "\n",
              "      <script>\n",
              "        const buttonEl =\n",
              "          document.querySelector('#df-2096e2a8-30d1-4cc9-a1c8-8fd94ad65882 button.colab-df-convert');\n",
              "        buttonEl.style.display =\n",
              "          google.colab.kernel.accessAllowed ? 'block' : 'none';\n",
              "\n",
              "        async function convertToInteractive(key) {\n",
              "          const element = document.querySelector('#df-2096e2a8-30d1-4cc9-a1c8-8fd94ad65882');\n",
              "          const dataTable =\n",
              "            await google.colab.kernel.invokeFunction('convertToInteractive',\n",
              "                                                     [key], {});\n",
              "          if (!dataTable) return;\n",
              "\n",
              "          const docLinkHtml = 'Like what you see? Visit the ' +\n",
              "            '<a target=\"_blank\" href=https://colab.research.google.com/notebooks/data_table.ipynb>data table notebook</a>'\n",
              "            + ' to learn more about interactive tables.';\n",
              "          element.innerHTML = '';\n",
              "          dataTable['output_type'] = 'display_data';\n",
              "          await google.colab.output.renderOutput(dataTable, element);\n",
              "          const docLink = document.createElement('div');\n",
              "          docLink.innerHTML = docLinkHtml;\n",
              "          element.appendChild(docLink);\n",
              "        }\n",
              "      </script>\n",
              "    </div>\n",
              "  </div>\n",
              "  "
            ]
          },
          "metadata": {},
          "execution_count": 106
        }
      ]
    },
    {
      "cell_type": "code",
      "source": [
        "sns.boxplot(df['Gender'],df['Purchase'],hue=df['Marital_Status'])"
      ],
      "metadata": {
        "colab": {
          "base_uri": "https://localhost:8080/",
          "height": 354
        },
        "id": "eZ9SEn9x0nNl",
        "outputId": "c36ebfe6-a020-419e-b5ff-2d15a04fdf8a"
      },
      "execution_count": null,
      "outputs": [
        {
          "output_type": "stream",
          "name": "stderr",
          "text": [
            "/usr/local/lib/python3.7/dist-packages/seaborn/_decorators.py:43: FutureWarning: Pass the following variables as keyword args: x, y. From version 0.12, the only valid positional argument will be `data`, and passing other arguments without an explicit keyword will result in an error or misinterpretation.\n",
            "  FutureWarning\n"
          ]
        },
        {
          "output_type": "execute_result",
          "data": {
            "text/plain": [
              "<matplotlib.axes._subplots.AxesSubplot at 0x7f7a2d2dc410>"
            ]
          },
          "metadata": {},
          "execution_count": 31
        },
        {
          "output_type": "display_data",
          "data": {
            "text/plain": [
              "<Figure size 432x288 with 1 Axes>"
            ],
            "image/png": "[encoded data removed]"
          },
          "metadata": {
            "needs_background": "light"
          }
        }
      ]
    },
    {
      "cell_type": "markdown",
      "source": [
        "**ANALYSIS** - 1.Here we can see that median amount spent by males and females are mostly equal while in comparison men have spent more than females.\n",
        "\n",
        "\n",
        "2.Martial Status has no impact on the spending patterns,so can be dropped from further analysis."
      ],
      "metadata": {
        "id": "4utVj0CGDVQ2"
      }
    },
    {
      "cell_type": "code",
      "source": [
        "sns.boxplot(df['Stay_In_Current_City_Years'],df['Purchase'])"
      ],
      "metadata": {
        "colab": {
          "base_uri": "https://localhost:8080/",
          "height": 358
        },
        "id": "p7_dWtXQHdX1",
        "outputId": "515c15db-77b7-4fc0-c5a0-6b46fdd62387"
      },
      "execution_count": null,
      "outputs": [
        {
          "output_type": "stream",
          "name": "stderr",
          "text": [
            "/usr/local/lib/python3.7/dist-packages/seaborn/_decorators.py:43: FutureWarning: Pass the following variables as keyword args: x, y. From version 0.12, the only valid positional argument will be `data`, and passing other arguments without an explicit keyword will result in an error or misinterpretation.\n",
            "  FutureWarning\n"
          ]
        },
        {
          "output_type": "execute_result",
          "data": {
            "text/plain": [
              "<matplotlib.axes._subplots.AxesSubplot at 0x7f8a2d38c8d0>"
            ]
          },
          "metadata": {},
          "execution_count": 38
        },
        {
          "output_type": "display_data",
          "data": {
            "text/plain": [
              "<Figure size 432x288 with 1 Axes>"
            ],
            "image/png": "[encoded data removed]"
          },
          "metadata": {
            "needs_background": "light"
          }
        }
      ]
    },
    {
      "cell_type": "markdown",
      "source": [
        "**ANALYSIS**- Here we can see that on an average median spend across all the stay in current city years is same.\n",
        "\n",
        "So, we can conclude that **Purchase is independent of Stay in current city feature.**"
      ],
      "metadata": {
        "id": "TNSwGvCEHfHo"
      }
    },
    {
      "cell_type": "code",
      "source": [
        "sns.boxplot(df['City_Category'],df['Purchase'])"
      ],
      "metadata": {
        "colab": {
          "base_uri": "https://localhost:8080/",
          "height": 358
        },
        "id": "ywAKuZr4ISLU",
        "outputId": "72069b47-9acd-4581-ce9d-10fb1f14ca94"
      },
      "execution_count": null,
      "outputs": [
        {
          "output_type": "stream",
          "name": "stderr",
          "text": [
            "/usr/local/lib/python3.7/dist-packages/seaborn/_decorators.py:43: FutureWarning: Pass the following variables as keyword args: x, y. From version 0.12, the only valid positional argument will be `data`, and passing other arguments without an explicit keyword will result in an error or misinterpretation.\n",
            "  FutureWarning\n"
          ]
        },
        {
          "output_type": "execute_result",
          "data": {
            "text/plain": [
              "<matplotlib.axes._subplots.AxesSubplot at 0x7f8a2ce7d590>"
            ]
          },
          "metadata": {},
          "execution_count": 40
        },
        {
          "output_type": "display_data",
          "data": {
            "text/plain": [
              "<Figure size 432x288 with 1 Axes>"
            ],
            "image/png": "[encoded data removed]"
          },
          "metadata": {
            "needs_background": "light"
          }
        }
      ]
    },
    {
      "cell_type": "markdown",
      "source": [
        "**ANALYSIS**- Here we can see that people with **City Category of 'C' spend more** than people of city category 'A' and 'B'."
      ],
      "metadata": {
        "id": "qiEBI0gRIaMW"
      }
    },
    {
      "cell_type": "code",
      "source": [
        "df.drop(['Marital_Status'],axis=1)"
      ],
      "metadata": {
        "colab": {
          "base_uri": "https://localhost:8080/",
          "height": 423
        },
        "id": "YTMR_9xIE5Fs",
        "outputId": "33eda57f-3db8-4abb-e366-54c0c2ea6638"
      },
      "execution_count": null,
      "outputs": [
        {
          "output_type": "execute_result",
          "data": {
            "text/plain": [
              "        User_ID Product_ID Gender    Age  Occupation City_Category  \\\n",
              "0       1000001  P00069042      F   0-17          10             A   \n",
              "1       1000001  P00248942      F   0-17          10             A   \n",
              "2       1000001  P00087842      F   0-17          10             A   \n",
              "3       1000001  P00085442      F   0-17          10             A   \n",
              "4       1000002  P00285442      M    55+          16             C   \n",
              "...         ...        ...    ...    ...         ...           ...   \n",
              "545910  1006040  P00184342      M  26-35           6             B   \n",
              "545911  1006040  P00193142      M  26-35           6             B   \n",
              "545912  1006040  P00029842      M  26-35           6             B   \n",
              "545913  1006040  P00106042      M  26-35           6             B   \n",
              "545914  1006040  P00217442      M  26-35           6             B   \n",
              "\n",
              "       Stay_In_Current_City_Years  Product_Category  Purchase  \n",
              "0                               2                 3      8370  \n",
              "1                               2                 1     15200  \n",
              "2                               2                12      1422  \n",
              "3                               2                12      1057  \n",
              "4                              4+                 8      7969  \n",
              "...                           ...               ...       ...  \n",
              "545910                          2                 8      9855  \n",
              "545911                          2                 5      1962  \n",
              "545912                          2                 8      7852  \n",
              "545913                          2                 5      7159  \n",
              "545914                          2                 1     11640  \n",
              "\n",
              "[543238 rows x 9 columns]"
            ],
            "text/html": [
              "\n",
              "  <div id=\"df-9ecd0bf2-f5c4-4017-af35-0754a73a5e7b\">\n",
              "    <div class=\"colab-df-container\">\n",
              "      <div>\n",
              "<style scoped>\n",
              "    .dataframe tbody tr th:only-of-type {\n",
              "        vertical-align: middle;\n",
              "    }\n",
              "\n",
              "    .dataframe tbody tr th {\n",
              "        vertical-align: top;\n",
              "    }\n",
              "\n",
              "    .dataframe thead th {\n",
              "        text-align: right;\n",
              "    }\n",
              "</style>\n",
              "<table border=\"1\" class=\"dataframe\">\n",
              "  <thead>\n",
              "    <tr style=\"text-align: right;\">\n",
              "      <th></th>\n",
              "      <th>User_ID</th>\n",
              "      <th>Product_ID</th>\n",
              "      <th>Gender</th>\n",
              "      <th>Age</th>\n",
              "      <th>Occupation</th>\n",
              "      <th>City_Category</th>\n",
              "      <th>Stay_In_Current_City_Years</th>\n",
              "      <th>Product_Category</th>\n",
              "      <th>Purchase</th>\n",
              "    </tr>\n",
              "  </thead>\n",
              "  <tbody>\n",
              "    <tr>\n",
              "      <th>0</th>\n",
              "      <td>1000001</td>\n",
              "      <td>P00069042</td>\n",
              "      <td>F</td>\n",
              "      <td>0-17</td>\n",
              "      <td>10</td>\n",
              "      <td>A</td>\n",
              "      <td>2</td>\n",
              "      <td>3</td>\n",
              "      <td>8370</td>\n",
              "    </tr>\n",
              "    <tr>\n",
              "      <th>1</th>\n",
              "      <td>1000001</td>\n",
              "      <td>P00248942</td>\n",
              "      <td>F</td>\n",
              "      <td>0-17</td>\n",
              "      <td>10</td>\n",
              "      <td>A</td>\n",
              "      <td>2</td>\n",
              "      <td>1</td>\n",
              "      <td>15200</td>\n",
              "    </tr>\n",
              "    <tr>\n",
              "      <th>2</th>\n",
              "      <td>1000001</td>\n",
              "      <td>P00087842</td>\n",
              "      <td>F</td>\n",
              "      <td>0-17</td>\n",
              "      <td>10</td>\n",
              "      <td>A</td>\n",
              "      <td>2</td>\n",
              "      <td>12</td>\n",
              "      <td>1422</td>\n",
              "    </tr>\n",
              "    <tr>\n",
              "      <th>3</th>\n",
              "      <td>1000001</td>\n",
              "      <td>P00085442</td>\n",
              "      <td>F</td>\n",
              "      <td>0-17</td>\n",
              "      <td>10</td>\n",
              "      <td>A</td>\n",
              "      <td>2</td>\n",
              "      <td>12</td>\n",
              "      <td>1057</td>\n",
              "    </tr>\n",
              "    <tr>\n",
              "      <th>4</th>\n",
              "      <td>1000002</td>\n",
              "      <td>P00285442</td>\n",
              "      <td>M</td>\n",
              "      <td>55+</td>\n",
              "      <td>16</td>\n",
              "      <td>C</td>\n",
              "      <td>4+</td>\n",
              "      <td>8</td>\n",
              "      <td>7969</td>\n",
              "    </tr>\n",
              "    <tr>\n",
              "      <th>...</th>\n",
              "      <td>...</td>\n",
              "      <td>...</td>\n",
              "      <td>...</td>\n",
              "      <td>...</td>\n",
              "      <td>...</td>\n",
              "      <td>...</td>\n",
              "      <td>...</td>\n",
              "      <td>...</td>\n",
              "      <td>...</td>\n",
              "    </tr>\n",
              "    <tr>\n",
              "      <th>545910</th>\n",
              "      <td>1006040</td>\n",
              "      <td>P00184342</td>\n",
              "      <td>M</td>\n",
              "      <td>26-35</td>\n",
              "      <td>6</td>\n",
              "      <td>B</td>\n",
              "      <td>2</td>\n",
              "      <td>8</td>\n",
              "      <td>9855</td>\n",
              "    </tr>\n",
              "    <tr>\n",
              "      <th>545911</th>\n",
              "      <td>1006040</td>\n",
              "      <td>P00193142</td>\n",
              "      <td>M</td>\n",
              "      <td>26-35</td>\n",
              "      <td>6</td>\n",
              "      <td>B</td>\n",
              "      <td>2</td>\n",
              "      <td>5</td>\n",
              "      <td>1962</td>\n",
              "    </tr>\n",
              "    <tr>\n",
              "      <th>545912</th>\n",
              "      <td>1006040</td>\n",
              "      <td>P00029842</td>\n",
              "      <td>M</td>\n",
              "      <td>26-35</td>\n",
              "      <td>6</td>\n",
              "      <td>B</td>\n",
              "      <td>2</td>\n",
              "      <td>8</td>\n",
              "      <td>7852</td>\n",
              "    </tr>\n",
              "    <tr>\n",
              "      <th>545913</th>\n",
              "      <td>1006040</td>\n",
              "      <td>P00106042</td>\n",
              "      <td>M</td>\n",
              "      <td>26-35</td>\n",
              "      <td>6</td>\n",
              "      <td>B</td>\n",
              "      <td>2</td>\n",
              "      <td>5</td>\n",
              "      <td>7159</td>\n",
              "    </tr>\n",
              "    <tr>\n",
              "      <th>545914</th>\n",
              "      <td>1006040</td>\n",
              "      <td>P00217442</td>\n",
              "      <td>M</td>\n",
              "      <td>26-35</td>\n",
              "      <td>6</td>\n",
              "      <td>B</td>\n",
              "      <td>2</td>\n",
              "      <td>1</td>\n",
              "      <td>11640</td>\n",
              "    </tr>\n",
              "  </tbody>\n",
              "</table>\n",
              "<p>543238 rows × 9 columns</p>\n",
              "</div>\n",
              "      <button class=\"colab-df-convert\" onclick=\"convertToInteractive('df-9ecd0bf2-f5c4-4017-af35-0754a73a5e7b')\"\n",
              "              title=\"Convert this dataframe to an interactive table.\"\n",
              "              style=\"display:none;\">\n",
              "        \n",
              "  <svg xmlns=\"http://www.w3.org/2000/svg\" height=\"24px\"viewBox=\"0 0 24 24\"\n",
              "       width=\"24px\">\n",
              "    <path d=\"M0 0h24v24H0V0z\" fill=\"none\"/>\n",
              "    <path d=\"M18.56 5.44l.94 2.06.94-2.06 2.06-.94-2.06-.94-.94-2.06-.94 2.06-2.06.94zm-11 1L8.5 8.5l.94-2.06 2.06-.94-2.06-.94L8.5 2.5l-.94 2.06-2.06.94zm10 10l.94 2.06.94-2.06 2.06-.94-2.06-.94-.94-2.06-.94 2.06-2.06.94z\"/><path d=\"M17.41 7.96l-1.37-1.37c-.4-.4-.92-.59-1.43-.59-.52 0-1.04.2-1.43.59L10.3 9.45l-7.72 7.72c-.78.78-.78 2.05 0 2.83L4 21.41c.39.39.9.59 1.41.59.51 0 1.02-.2 1.41-.59l7.78-7.78 2.81-2.81c.8-.78.8-2.07 0-2.86zM5.41 20L4 18.59l7.72-7.72 1.47 1.35L5.41 20z\"/>\n",
              "  </svg>\n",
              "      </button>\n",
              "      \n",
              "  <style>\n",
              "    .colab-df-container {\n",
              "      display:flex;\n",
              "      flex-wrap:wrap;\n",
              "      gap: 12px;\n",
              "    }\n",
              "\n",
              "    .colab-df-convert {\n",
              "      background-color: #E8F0FE;\n",
              "      border: none;\n",
              "      border-radius: 50%;\n",
              "      cursor: pointer;\n",
              "      display: none;\n",
              "      fill: #1967D2;\n",
              "      height: 32px;\n",
              "      padding: 0 0 0 0;\n",
              "      width: 32px;\n",
              "    }\n",
              "\n",
              "    .colab-df-convert:hover {\n",
              "      background-color: #E2EBFA;\n",
              "      box-shadow: 0px 1px 2px rgba(60, 64, 67, 0.3), 0px 1px 3px 1px rgba(60, 64, 67, 0.15);\n",
              "      fill: #174EA6;\n",
              "    }\n",
              "\n",
              "    [theme=dark] .colab-df-convert {\n",
              "      background-color: #3B4455;\n",
              "      fill: #D2E3FC;\n",
              "    }\n",
              "\n",
              "    [theme=dark] .colab-df-convert:hover {\n",
              "      background-color: #434B5C;\n",
              "      box-shadow: 0px 1px 3px 1px rgba(0, 0, 0, 0.15);\n",
              "      filter: drop-shadow(0px 1px 2px rgba(0, 0, 0, 0.3));\n",
              "      fill: #FFFFFF;\n",
              "    }\n",
              "  </style>\n",
              "\n",
              "      <script>\n",
              "        const buttonEl =\n",
              "          document.querySelector('#df-9ecd0bf2-f5c4-4017-af35-0754a73a5e7b button.colab-df-convert');\n",
              "        buttonEl.style.display =\n",
              "          google.colab.kernel.accessAllowed ? 'block' : 'none';\n",
              "\n",
              "        async function convertToInteractive(key) {\n",
              "          const element = document.querySelector('#df-9ecd0bf2-f5c4-4017-af35-0754a73a5e7b');\n",
              "          const dataTable =\n",
              "            await google.colab.kernel.invokeFunction('convertToInteractive',\n",
              "                                                     [key], {});\n",
              "          if (!dataTable) return;\n",
              "\n",
              "          const docLinkHtml = 'Like what you see? Visit the ' +\n",
              "            '<a target=\"_blank\" href=https://colab.research.google.com/notebooks/data_table.ipynb>data table notebook</a>'\n",
              "            + ' to learn more about interactive tables.';\n",
              "          element.innerHTML = '';\n",
              "          dataTable['output_type'] = 'display_data';\n",
              "          await google.colab.output.renderOutput(dataTable, element);\n",
              "          const docLink = document.createElement('div');\n",
              "          docLink.innerHTML = docLinkHtml;\n",
              "          element.appendChild(docLink);\n",
              "        }\n",
              "      </script>\n",
              "    </div>\n",
              "  </div>\n",
              "  "
            ]
          },
          "metadata": {},
          "execution_count": 34
        }
      ]
    },
    {
      "cell_type": "code",
      "source": [
        "(df.groupby('Product_ID')['Purchase'].sum()).sort_values(ascending=False)"
      ],
      "metadata": {
        "colab": {
          "base_uri": "https://localhost:8080/"
        },
        "id": "N1mw2H21FY_T",
        "outputId": "fc1123e4-0e34-413c-ad8d-3e44e15fa417"
      },
      "execution_count": null,
      "outputs": [
        {
          "output_type": "execute_result",
          "data": {
            "text/plain": [
              "Product_ID\n",
              "P00025442    27995166\n",
              "P00110742    26722309\n",
              "P00255842    25168963\n",
              "P00059442    24338343\n",
              "P00184942    24334887\n",
              "               ...   \n",
              "P00012942        1717\n",
              "P00325342        1656\n",
              "P00353042        1545\n",
              "P00309042         726\n",
              "P00091742         405\n",
              "Name: Purchase, Length: 3626, dtype: int64"
            ]
          },
          "metadata": {},
          "execution_count": 41
        }
      ]
    },
    {
      "cell_type": "markdown",
      "source": [
        "**ANALYSIS** -We can conclude here that most amount is spent on Product ID-P00025442 followed by P00110742     "
      ],
      "metadata": {
        "id": "fWX0qefHGCSs"
      }
    },
    {
      "cell_type": "code",
      "source": [
        "(df.groupby('User_ID')['Purchase'].sum()).sort_values(ascending=False)"
      ],
      "metadata": {
        "colab": {
          "base_uri": "https://localhost:8080/"
        },
        "id": "OXgt7I5eGdvL",
        "outputId": "33a31fff-4a9a-4cde-d687-1e8a8857b25d"
      },
      "execution_count": null,
      "outputs": [
        {
          "output_type": "execute_result",
          "data": {
            "text/plain": [
              "User_ID\n",
              "1004277    10421933\n",
              "1001680     8652553\n",
              "1002909     7418740\n",
              "1001941     6817493\n",
              "1005831     6489130\n",
              "             ...   \n",
              "1004991       52371\n",
              "1005117       49668\n",
              "1000094       49288\n",
              "1003883       49104\n",
              "1004464       46091\n",
              "Name: Purchase, Length: 5891, dtype: int64"
            ]
          },
          "metadata": {},
          "execution_count": 44
        }
      ]
    },
    {
      "cell_type": "markdown",
      "source": [
        "**ANALYSIS** -Most amount is spent by user with id 1004277 followed by 1001680.\n"
      ],
      "metadata": {
        "id": "KU_QN1bJGitX"
      }
    },
    {
      "cell_type": "code",
      "source": [
        "user_item_purchase=(df.groupby('User_ID')['Product_ID'].count())"
      ],
      "metadata": {
        "id": "fsYZ0hSWX-ZV"
      },
      "execution_count": null,
      "outputs": []
    },
    {
      "cell_type": "code",
      "source": [
        "# (df[df['User_ID']==1000001]).info()"
      ],
      "metadata": {
        "id": "QPT7VSPmYt42"
      },
      "execution_count": null,
      "outputs": []
    },
    {
      "cell_type": "code",
      "source": [
        "user_item_purchase"
      ],
      "metadata": {
        "colab": {
          "base_uri": "https://localhost:8080/"
        },
        "id": "qBqniUL3Ygzb",
        "outputId": "e92ceb4d-fc2a-4c57-c379-7e1498192a6b"
      },
      "execution_count": null,
      "outputs": [
        {
          "output_type": "execute_result",
          "data": {
            "text/plain": [
              "User_ID\n",
              "1000001     35\n",
              "1000002     77\n",
              "1000003     29\n",
              "1000004     14\n",
              "1000005    106\n",
              "          ... \n",
              "1006036    514\n",
              "1006037    122\n",
              "1006038     12\n",
              "1006039     74\n",
              "1006040    180\n",
              "Name: Product_ID, Length: 5891, dtype: int64"
            ]
          },
          "metadata": {},
          "execution_count": 65
        }
      ]
    },
    {
      "cell_type": "code",
      "source": [
        "sns.distplot(user_item_purchase)"
      ],
      "metadata": {
        "colab": {
          "base_uri": "https://localhost:8080/",
          "height": 355
        },
        "id": "mlxGuqyMYL3U",
        "outputId": "c439dc6a-b6d9-4afe-82d1-7acb32118913"
      },
      "execution_count": null,
      "outputs": [
        {
          "output_type": "stream",
          "name": "stderr",
          "text": [
            "/usr/local/lib/python3.7/dist-packages/seaborn/distributions.py:2619: FutureWarning: `distplot` is a deprecated function and will be removed in a future version. Please adapt your code to use either `displot` (a figure-level function with similar flexibility) or `histplot` (an axes-level function for histograms).\n",
            "  warnings.warn(msg, FutureWarning)\n"
          ]
        },
        {
          "output_type": "execute_result",
          "data": {
            "text/plain": [
              "<matplotlib.axes._subplots.AxesSubplot at 0x7f8a28c4a990>"
            ]
          },
          "metadata": {},
          "execution_count": 66
        },
        {
          "output_type": "display_data",
          "data": {
            "text/plain": [
              "<Figure size 432x288 with 1 Axes>"
            ],
            "image/png": "[encoded data removed]"
          },
          "metadata": {
            "needs_background": "light"
          }
        }
      ]
    },
    {
      "cell_type": "markdown",
      "source": [
        "The distribution is RIGHT SKEWED meaning people are not buying more than 100 products generally."
      ],
      "metadata": {
        "id": "b2skaNrpaxca"
      }
    },
    {
      "cell_type": "markdown",
      "source": [
        "**ANALYSIS**-Most of the people have purchased less than 50 products."
      ],
      "metadata": {
        "id": "LF-420AlaaLq"
      }
    },
    {
      "cell_type": "code",
      "source": [
        "df_new=(df.groupby('User_ID')['Purchase'].mean()).sort_values(ascending=False)"
      ],
      "metadata": {
        "id": "RtvOjfuKGBzr"
      },
      "execution_count": null,
      "outputs": []
    },
    {
      "cell_type": "code",
      "source": [
        "df_new.mean()\n"
      ],
      "metadata": {
        "colab": {
          "base_uri": "https://localhost:8080/"
        },
        "id": "mp0pMnURHRbA",
        "outputId": "2de9336d-4ee3-480d-cb42-600fc86906be"
      },
      "execution_count": null,
      "outputs": [
        {
          "output_type": "execute_result",
          "data": {
            "text/plain": [
              "9568.839913558906"
            ]
          },
          "metadata": {},
          "execution_count": 8
        }
      ]
    },
    {
      "cell_type": "code",
      "source": [
        "df_new.std()\n"
      ],
      "metadata": {
        "colab": {
          "base_uri": "https://localhost:8080/"
        },
        "id": "J_Yn_rDVIOAq",
        "outputId": "ef1667a3-4225-4ad7-9150-ce509f08405c"
      },
      "execution_count": null,
      "outputs": [
        {
          "output_type": "execute_result",
          "data": {
            "text/plain": [
              "1890.0871054373001"
            ]
          },
          "metadata": {},
          "execution_count": 9
        }
      ]
    },
    {
      "cell_type": "code",
      "source": [
        "df_new.plot.density()"
      ],
      "metadata": {
        "colab": {
          "base_uri": "https://localhost:8080/",
          "height": 283
        },
        "id": "vOCJPMPSG9Ib",
        "outputId": "3fdfef1c-b4c4-4cf6-ee89-7240e2b54f76"
      },
      "execution_count": null,
      "outputs": [
        {
          "output_type": "execute_result",
          "data": {
            "text/plain": [
              "<matplotlib.axes._subplots.AxesSubplot at 0x7f8a2ffff3d0>"
            ]
          },
          "metadata": {},
          "execution_count": 10
        },
        {
          "output_type": "display_data",
          "data": {
            "text/plain": [
              "<Figure size 432x288 with 1 Axes>"
            ],
            "image/png": "[encoded data removed]"
          },
          "metadata": {
            "needs_background": "light"
          }
        }
      ]
    },
    {
      "cell_type": "markdown",
      "source": [
        "QQ-PLOT TEST FOR GAUSSIAN DISTRIBUTION"
      ],
      "metadata": {
        "id": "HTKFPtdP1c51"
      }
    },
    {
      "cell_type": "code",
      "source": [
        "#qq-plot for verifying that df_new is a guassian distribution\n",
        "fig, ax = plt.subplots()\n",
        "stats.probplot(df_new, dist=\"norm\", plot=ax)"
      ],
      "metadata": {
        "colab": {
          "base_uri": "https://localhost:8080/",
          "height": 387
        },
        "id": "yUXrtnawsI1c",
        "outputId": "2035f9af-3b15-4343-90b0-ce4d31ad2bab"
      },
      "execution_count": null,
      "outputs": [
        {
          "output_type": "execute_result",
          "data": {
            "text/plain": [
              "((array([-3.67773931, -3.44494532, -3.31676714, ...,  3.31676714,\n",
              "          3.44494532,  3.67773931]),\n",
              "  array([ 2318.73333333,  2698.35714286,  3421.52173913, ...,\n",
              "         18345.94444444, 18490.16666667, 18577.89361702])),\n",
              " (1874.474311554712, 9568.839913558928, 0.9912525836519839))"
            ]
          },
          "metadata": {},
          "execution_count": 15
        },
        {
          "output_type": "display_data",
          "data": {
            "text/plain": [
              "<Figure size 432x288 with 1 Axes>"
            ],
            "image/png": "[encoded data removed]"
          },
          "metadata": {
            "needs_background": "light"
          }
        }
      ]
    },
    {
      "cell_type": "markdown",
      "source": [
        "**ANALYSIS** -Mean amount spent by all user is nearly normally distributed but not exactly."
      ],
      "metadata": {
        "id": "C4eANMUXHc2o"
      }
    },
    {
      "cell_type": "markdown",
      "source": [
        "**OBSERVATION**- Most of the people have spent 10k USD with standard deviation around 1.9k USD."
      ],
      "metadata": {
        "id": "_560znRcH82Z"
      }
    },
    {
      "cell_type": "markdown",
      "source": [
        "# **CENTRAL LIMIT THEOREM - USE CASE IMPLEMENTATION**"
      ],
      "metadata": {
        "id": "prAUi0AtT7xv"
      }
    },
    {
      "cell_type": "code",
      "source": [
        "df.head()"
      ],
      "metadata": {
        "colab": {
          "base_uri": "https://localhost:8080/",
          "height": 206
        },
        "id": "2o-X0dNj1Aw0",
        "outputId": "e7a6c83d-e749-435c-c288-a75828d10d5d"
      },
      "execution_count": null,
      "outputs": [
        {
          "output_type": "execute_result",
          "data": {
            "text/plain": [
              "   User_ID Product_ID Gender   Age  Occupation City_Category  \\\n",
              "0  1000001  P00069042      F  0-17          10             A   \n",
              "1  1000001  P00248942      F  0-17          10             A   \n",
              "2  1000001  P00087842      F  0-17          10             A   \n",
              "3  1000001  P00085442      F  0-17          10             A   \n",
              "4  1000002  P00285442      M   55+          16             C   \n",
              "\n",
              "  Stay_In_Current_City_Years  Marital_Status  Product_Category  Purchase  \n",
              "0                          2               0                 3      8370  \n",
              "1                          2               0                 1     15200  \n",
              "2                          2               0                12      1422  \n",
              "3                          2               0                12      1057  \n",
              "4                         4+               0                 8      7969  "
            ],
            "text/html": [
              "\n",
              "  <div id=\"df-d084ed1a-4b51-40ab-9d69-36f5b0aeb579\">\n",
              "    <div class=\"colab-df-container\">\n",
              "      <div>\n",
              "<style scoped>\n",
              "    .dataframe tbody tr th:only-of-type {\n",
              "        vertical-align: middle;\n",
              "    }\n",
              "\n",
              "    .dataframe tbody tr th {\n",
              "        vertical-align: top;\n",
              "    }\n",
              "\n",
              "    .dataframe thead th {\n",
              "        text-align: right;\n",
              "    }\n",
              "</style>\n",
              "<table border=\"1\" class=\"dataframe\">\n",
              "  <thead>\n",
              "    <tr style=\"text-align: right;\">\n",
              "      <th></th>\n",
              "      <th>User_ID</th>\n",
              "      <th>Product_ID</th>\n",
              "      <th>Gender</th>\n",
              "      <th>Age</th>\n",
              "      <th>Occupation</th>\n",
              "      <th>City_Category</th>\n",
              "      <th>Stay_In_Current_City_Years</th>\n",
              "      <th>Marital_Status</th>\n",
              "      <th>Product_Category</th>\n",
              "      <th>Purchase</th>\n",
              "    </tr>\n",
              "  </thead>\n",
              "  <tbody>\n",
              "    <tr>\n",
              "      <th>0</th>\n",
              "      <td>1000001</td>\n",
              "      <td>P00069042</td>\n",
              "      <td>F</td>\n",
              "      <td>0-17</td>\n",
              "      <td>10</td>\n",
              "      <td>A</td>\n",
              "      <td>2</td>\n",
              "      <td>0</td>\n",
              "      <td>3</td>\n",
              "      <td>8370</td>\n",
              "    </tr>\n",
              "    <tr>\n",
              "      <th>1</th>\n",
              "      <td>1000001</td>\n",
              "      <td>P00248942</td>\n",
              "      <td>F</td>\n",
              "      <td>0-17</td>\n",
              "      <td>10</td>\n",
              "      <td>A</td>\n",
              "      <td>2</td>\n",
              "      <td>0</td>\n",
              "      <td>1</td>\n",
              "      <td>15200</td>\n",
              "    </tr>\n",
              "    <tr>\n",
              "      <th>2</th>\n",
              "      <td>1000001</td>\n",
              "      <td>P00087842</td>\n",
              "      <td>F</td>\n",
              "      <td>0-17</td>\n",
              "      <td>10</td>\n",
              "      <td>A</td>\n",
              "      <td>2</td>\n",
              "      <td>0</td>\n",
              "      <td>12</td>\n",
              "      <td>1422</td>\n",
              "    </tr>\n",
              "    <tr>\n",
              "      <th>3</th>\n",
              "      <td>1000001</td>\n",
              "      <td>P00085442</td>\n",
              "      <td>F</td>\n",
              "      <td>0-17</td>\n",
              "      <td>10</td>\n",
              "      <td>A</td>\n",
              "      <td>2</td>\n",
              "      <td>0</td>\n",
              "      <td>12</td>\n",
              "      <td>1057</td>\n",
              "    </tr>\n",
              "    <tr>\n",
              "      <th>4</th>\n",
              "      <td>1000002</td>\n",
              "      <td>P00285442</td>\n",
              "      <td>M</td>\n",
              "      <td>55+</td>\n",
              "      <td>16</td>\n",
              "      <td>C</td>\n",
              "      <td>4+</td>\n",
              "      <td>0</td>\n",
              "      <td>8</td>\n",
              "      <td>7969</td>\n",
              "    </tr>\n",
              "  </tbody>\n",
              "</table>\n",
              "</div>\n",
              "      <button class=\"colab-df-convert\" onclick=\"convertToInteractive('df-d084ed1a-4b51-40ab-9d69-36f5b0aeb579')\"\n",
              "              title=\"Convert this dataframe to an interactive table.\"\n",
              "              style=\"display:none;\">\n",
              "        \n",
              "  <svg xmlns=\"http://www.w3.org/2000/svg\" height=\"24px\"viewBox=\"0 0 24 24\"\n",
              "       width=\"24px\">\n",
              "    <path d=\"M0 0h24v24H0V0z\" fill=\"none\"/>\n",
              "    <path d=\"M18.56 5.44l.94 2.06.94-2.06 2.06-.94-2.06-.94-.94-2.06-.94 2.06-2.06.94zm-11 1L8.5 8.5l.94-2.06 2.06-.94-2.06-.94L8.5 2.5l-.94 2.06-2.06.94zm10 10l.94 2.06.94-2.06 2.06-.94-2.06-.94-.94-2.06-.94 2.06-2.06.94z\"/><path d=\"M17.41 7.96l-1.37-1.37c-.4-.4-.92-.59-1.43-.59-.52 0-1.04.2-1.43.59L10.3 9.45l-7.72 7.72c-.78.78-.78 2.05 0 2.83L4 21.41c.39.39.9.59 1.41.59.51 0 1.02-.2 1.41-.59l7.78-7.78 2.81-2.81c.8-.78.8-2.07 0-2.86zM5.41 20L4 18.59l7.72-7.72 1.47 1.35L5.41 20z\"/>\n",
              "  </svg>\n",
              "      </button>\n",
              "      \n",
              "  <style>\n",
              "    .colab-df-container {\n",
              "      display:flex;\n",
              "      flex-wrap:wrap;\n",
              "      gap: 12px;\n",
              "    }\n",
              "\n",
              "    .colab-df-convert {\n",
              "      background-color: #E8F0FE;\n",
              "      border: none;\n",
              "      border-radius: 50%;\n",
              "      cursor: pointer;\n",
              "      display: none;\n",
              "      fill: #1967D2;\n",
              "      height: 32px;\n",
              "      padding: 0 0 0 0;\n",
              "      width: 32px;\n",
              "    }\n",
              "\n",
              "    .colab-df-convert:hover {\n",
              "      background-color: #E2EBFA;\n",
              "      box-shadow: 0px 1px 2px rgba(60, 64, 67, 0.3), 0px 1px 3px 1px rgba(60, 64, 67, 0.15);\n",
              "      fill: #174EA6;\n",
              "    }\n",
              "\n",
              "    [theme=dark] .colab-df-convert {\n",
              "      background-color: #3B4455;\n",
              "      fill: #D2E3FC;\n",
              "    }\n",
              "\n",
              "    [theme=dark] .colab-df-convert:hover {\n",
              "      background-color: #434B5C;\n",
              "      box-shadow: 0px 1px 3px 1px rgba(0, 0, 0, 0.15);\n",
              "      filter: drop-shadow(0px 1px 2px rgba(0, 0, 0, 0.3));\n",
              "      fill: #FFFFFF;\n",
              "    }\n",
              "  </style>\n",
              "\n",
              "      <script>\n",
              "        const buttonEl =\n",
              "          document.querySelector('#df-d084ed1a-4b51-40ab-9d69-36f5b0aeb579 button.colab-df-convert');\n",
              "        buttonEl.style.display =\n",
              "          google.colab.kernel.accessAllowed ? 'block' : 'none';\n",
              "\n",
              "        async function convertToInteractive(key) {\n",
              "          const element = document.querySelector('#df-d084ed1a-4b51-40ab-9d69-36f5b0aeb579');\n",
              "          const dataTable =\n",
              "            await google.colab.kernel.invokeFunction('convertToInteractive',\n",
              "                                                     [key], {});\n",
              "          if (!dataTable) return;\n",
              "\n",
              "          const docLinkHtml = 'Like what you see? Visit the ' +\n",
              "            '<a target=\"_blank\" href=https://colab.research.google.com/notebooks/data_table.ipynb>data table notebook</a>'\n",
              "            + ' to learn more about interactive tables.';\n",
              "          element.innerHTML = '';\n",
              "          dataTable['output_type'] = 'display_data';\n",
              "          await google.colab.output.renderOutput(dataTable, element);\n",
              "          const docLink = document.createElement('div');\n",
              "          docLink.innerHTML = docLinkHtml;\n",
              "          element.appendChild(docLink);\n",
              "        }\n",
              "      </script>\n",
              "    </div>\n",
              "  </div>\n",
              "  "
            ]
          },
          "metadata": {},
          "execution_count": 53
        }
      ]
    },
    {
      "cell_type": "code",
      "source": [
        "sns.distplot(df['Purchase'],bins=30)"
      ],
      "metadata": {
        "id": "iwK4sdnE18XD",
        "colab": {
          "base_uri": "https://localhost:8080/",
          "height": 354
        },
        "outputId": "dd406327-d8da-4e5e-a662-1c5a86a76cc5"
      },
      "execution_count": null,
      "outputs": [
        {
          "output_type": "stream",
          "name": "stderr",
          "text": [
            "/usr/local/lib/python3.7/dist-packages/seaborn/distributions.py:2619: FutureWarning: `distplot` is a deprecated function and will be removed in a future version. Please adapt your code to use either `displot` (a figure-level function with similar flexibility) or `histplot` (an axes-level function for histograms).\n",
            "  warnings.warn(msg, FutureWarning)\n"
          ]
        },
        {
          "output_type": "execute_result",
          "data": {
            "text/plain": [
              "<matplotlib.axes._subplots.AxesSubplot at 0x7f7a2d6608d0>"
            ]
          },
          "metadata": {},
          "execution_count": 27
        },
        {
          "output_type": "display_data",
          "data": {
            "text/plain": [
              "<Figure size 432x288 with 1 Axes>"
            ],
            "image/png": "[encoded data removed]"
          },
          "metadata": {
            "needs_background": "light"
          }
        }
      ]
    },
    {
      "cell_type": "code",
      "source": [
        "sampleMeans = []\n",
        "for _ in range(1000):\n",
        "    samples = df['Purchase'].sample(n=100)\n",
        "    sampleMean = np.mean(samples)\n",
        "    sampleMeans.append(sampleMean)"
      ],
      "metadata": {
        "id": "ymqBvYHtDOa5"
      },
      "execution_count": null,
      "outputs": []
    },
    {
      "cell_type": "code",
      "source": [
        "sns.distplot(sampleMeans)"
      ],
      "metadata": {
        "colab": {
          "base_uri": "https://localhost:8080/",
          "height": 340
        },
        "id": "o2bn_8vtJ2Xp",
        "outputId": "eb5fbe8d-34f8-4bac-b2e3-a3bb64d7d71e"
      },
      "execution_count": null,
      "outputs": [
        {
          "output_type": "stream",
          "name": "stderr",
          "text": [
            "/usr/local/lib/python3.7/dist-packages/seaborn/distributions.py:2619: FutureWarning: `distplot` is a deprecated function and will be removed in a future version. Please adapt your code to use either `displot` (a figure-level function with similar flexibility) or `histplot` (an axes-level function for histograms).\n",
            "  warnings.warn(msg, FutureWarning)\n"
          ]
        },
        {
          "output_type": "execute_result",
          "data": {
            "text/plain": [
              "<matplotlib.axes._subplots.AxesSubplot at 0x7f8a2f7c7a10>"
            ]
          },
          "metadata": {},
          "execution_count": 17
        },
        {
          "output_type": "display_data",
          "data": {
            "text/plain": [
              "<Figure size 432x288 with 1 Axes>"
            ],
            "image/png": "[encoded data removed]"
          },
          "metadata": {
            "needs_background": "light"
          }
        }
      ]
    },
    {
      "cell_type": "code",
      "source": [
        "#qq-plot for verifying that df_new is a guassian distribution\n",
        "fig, ax = plt.subplots()\n",
        "stats.probplot(sampleMeans, dist=\"norm\", plot=ax)"
      ],
      "metadata": {
        "id": "5QUrpOREKNVl",
        "colab": {
          "base_uri": "https://localhost:8080/",
          "height": 8009
        },
        "outputId": "bd783e09-e2f3-489c-84b9-32671ad3465a"
      },
      "execution_count": null,
      "outputs": [
        {
          "output_type": "execute_result",
          "data": {
            "text/plain": [
              "((array([-3.19758950e+00, -2.93237785e+00, -2.78437841e+00, -2.67999560e+00,\n",
              "         -2.59855946e+00, -2.53139899e+00, -2.47402263e+00, -2.42379214e+00,\n",
              "         -2.37902149e+00, -2.33856546e+00, -2.30160949e+00, -2.26755284e+00,\n",
              "         -2.23593934e+00, -2.20641415e+00, -2.17869564e+00, -2.15255643e+00,\n",
              "         -2.12781017e+00, -2.10430217e+00, -2.08190261e+00, -2.06050135e+00,\n",
              "         -2.04000420e+00, -2.02032992e+00, -2.00140792e+00, -1.98317650e+00,\n",
              "         -1.96558137e+00, -1.94857451e+00, -1.93211325e+00, -1.91615948e+00,\n",
              "         -1.90067901e+00, -1.88564107e+00, -1.87101783e+00, -1.85678408e+00,\n",
              "         -1.84291686e+00, -1.82939524e+00, -1.81620005e+00, -1.80331371e+00,\n",
              "         -1.79072004e+00, -1.77840415e+00, -1.76635224e+00, -1.75455157e+00,\n",
              "         -1.74299028e+00, -1.73165738e+00, -1.72054262e+00, -1.70963644e+00,\n",
              "         -1.69892989e+00, -1.68841463e+00, -1.67808281e+00, -1.66792707e+00,\n",
              "         -1.65794051e+00, -1.64811661e+00, -1.63844924e+00, -1.62893261e+00,\n",
              "         -1.61956127e+00, -1.61033003e+00, -1.60123402e+00, -1.59226859e+00,\n",
              "         -1.58342935e+00, -1.57471213e+00, -1.56611295e+00, -1.55762804e+00,\n",
              "         -1.54925381e+00, -1.54098684e+00, -1.53282387e+00, -1.52476177e+00,\n",
              "         -1.51679758e+00, -1.50892845e+00, -1.50115166e+00, -1.49346462e+00,\n",
              "         -1.48586482e+00, -1.47834989e+00, -1.47091753e+00, -1.46356555e+00,\n",
              "         -1.45629184e+00, -1.44909437e+00, -1.44197119e+00, -1.43492043e+00,\n",
              "         -1.42794030e+00, -1.42102906e+00, -1.41418503e+00, -1.40740661e+00,\n",
              "         -1.40069224e+00, -1.39404044e+00, -1.38744975e+00, -1.38091878e+00,\n",
              "         -1.37444619e+00, -1.36803067e+00, -1.36167098e+00, -1.35536588e+00,\n",
              "         -1.34911421e+00, -1.34291482e+00, -1.33676663e+00, -1.33066855e+00,\n",
              "         -1.32461956e+00, -1.31861865e+00, -1.31266485e+00, -1.30675722e+00,\n",
              "         -1.30089485e+00, -1.29507686e+00, -1.28930237e+00, -1.28357055e+00,\n",
              "         -1.27788060e+00, -1.27223172e+00, -1.26662315e+00, -1.26105415e+00,\n",
              "         -1.25552398e+00, -1.25003194e+00, -1.24457735e+00, -1.23915954e+00,\n",
              "         -1.23377786e+00, -1.22843168e+00, -1.22312038e+00, -1.21784337e+00,\n",
              "         -1.21260004e+00, -1.20738985e+00, -1.20221223e+00, -1.19706664e+00,\n",
              "         -1.19195255e+00, -1.18686944e+00, -1.18181682e+00, -1.17679419e+00,\n",
              "         -1.17180107e+00, -1.16683699e+00, -1.16190151e+00, -1.15699416e+00,\n",
              "         -1.15211453e+00, -1.14726217e+00, -1.14243667e+00, -1.13763763e+00,\n",
              "         -1.13286465e+00, -1.12811734e+00, -1.12339532e+00, -1.11869822e+00,\n",
              "         -1.11402566e+00, -1.10937731e+00, -1.10475280e+00, -1.10015180e+00,\n",
              "         -1.09557397e+00, -1.09101899e+00, -1.08648653e+00, -1.08197628e+00,\n",
              "         -1.07748793e+00, -1.07302119e+00, -1.06857575e+00, -1.06415133e+00,\n",
              "         -1.05974765e+00, -1.05536442e+00, -1.05100137e+00, -1.04665824e+00,\n",
              "         -1.04233476e+00, -1.03803068e+00, -1.03374574e+00, -1.02947970e+00,\n",
              "         -1.02523232e+00, -1.02100335e+00, -1.01679256e+00, -1.01259972e+00,\n",
              "         -1.00842461e+00, -1.00426700e+00, -1.00012668e+00, -9.96003439e-01,\n",
              "         -9.91897058e-01, -9.87807334e-01, -9.83734067e-01, -9.79677056e-01,\n",
              "         -9.75636106e-01, -9.71611024e-01, -9.67601623e-01, -9.63607717e-01,\n",
              "         -9.59629122e-01, -9.55665660e-01, -9.51717154e-01, -9.47783430e-01,\n",
              "         -9.43864319e-01, -9.39959651e-01, -9.36069261e-01, -9.32192988e-01,\n",
              "         -9.28330671e-01, -9.24482153e-01, -9.20647280e-01, -9.16825898e-01,\n",
              "         -9.13017857e-01, -9.09223011e-01, -9.05441213e-01, -9.01672321e-01,\n",
              "         -8.97916193e-01, -8.94172691e-01, -8.90441678e-01, -8.86723020e-01,\n",
              "         -8.83016583e-01, -8.79322237e-01, -8.75639853e-01, -8.71969305e-01,\n",
              "         -8.68310468e-01, -8.64663218e-01, -8.61027434e-01, -8.57402996e-01,\n",
              "         -8.53789787e-01, -8.50187690e-01, -8.46596591e-01, -8.43016376e-01,\n",
              "         -8.39446935e-01, -8.35888157e-01, -8.32339934e-01, -8.28802160e-01,\n",
              "         -8.25274728e-01, -8.21757535e-01, -8.18250479e-01, -8.14753457e-01,\n",
              "         -8.11266372e-01, -8.07789123e-01, -8.04321614e-01, -8.00863750e-01,\n",
              "         -7.97415434e-01, -7.93976575e-01, -7.90547079e-01, -7.87126857e-01,\n",
              "         -7.83715817e-01, -7.80313872e-01, -7.76920933e-01, -7.73536915e-01,\n",
              "         -7.70161733e-01, -7.66795301e-01, -7.63437536e-01, -7.60088358e-01,\n",
              "         -7.56747683e-01, -7.53415433e-01, -7.50091527e-01, -7.46775888e-01,\n",
              "         -7.43468439e-01, -7.40169103e-01, -7.36877804e-01, -7.33594468e-01,\n",
              "         -7.30319022e-01, -7.27051392e-01, -7.23791507e-01, -7.20539295e-01,\n",
              "         -7.17294687e-01, -7.14057613e-01, -7.10828003e-01, -7.07605791e-01,\n",
              "         -7.04390909e-01, -7.01183291e-01, -6.97982871e-01, -6.94789584e-01,\n",
              "         -6.91603367e-01, -6.88424155e-01, -6.85251886e-01, -6.82086498e-01,\n",
              "         -6.78927930e-01, -6.75776120e-01, -6.72631010e-01, -6.69492539e-01,\n",
              "         -6.66360648e-01, -6.63235280e-01, -6.60116377e-01, -6.57003883e-01,\n",
              "         -6.53897740e-01, -6.50797893e-01, -6.47704287e-01, -6.44616868e-01,\n",
              "         -6.41535581e-01, -6.38460373e-01, -6.35391191e-01, -6.32327983e-01,\n",
              "         -6.29270697e-01, -6.26219281e-01, -6.23173684e-01, -6.20133858e-01,\n",
              "         -6.17099750e-01, -6.14071313e-01, -6.11048498e-01, -6.08031256e-01,\n",
              "         -6.05019539e-01, -6.02013299e-01, -5.99012491e-01, -5.96017067e-01,\n",
              "         -5.93026981e-01, -5.90042188e-01, -5.87062643e-01, -5.84088300e-01,\n",
              "         -5.81119115e-01, -5.78155045e-01, -5.75196045e-01, -5.72242074e-01,\n",
              "         -5.69293087e-01, -5.66349043e-01, -5.63409899e-01, -5.60475614e-01,\n",
              "         -5.57546147e-01, -5.54621458e-01, -5.51701504e-01, -5.48786247e-01,\n",
              "         -5.45875647e-01, -5.42969663e-01, -5.40068258e-01, -5.37171392e-01,\n",
              "         -5.34279026e-01, -5.31391124e-01, -5.28507646e-01, -5.25628557e-01,\n",
              "         -5.22753817e-01, -5.19883391e-01, -5.17017243e-01, -5.14155335e-01,\n",
              "         -5.11297632e-01, -5.08444099e-01, -5.05594699e-01, -5.02749399e-01,\n",
              "         -4.99908163e-01, -4.97070957e-01, -4.94237747e-01, -4.91408498e-01,\n",
              "         -4.88583178e-01, -4.85761752e-01, -4.82944188e-01, -4.80130452e-01,\n",
              "         -4.77320513e-01, -4.74514337e-01, -4.71711893e-01, -4.68913149e-01,\n",
              "         -4.66118073e-01, -4.63326634e-01, -4.60538801e-01, -4.57754542e-01,\n",
              "         -4.54973827e-01, -4.52196626e-01, -4.49422908e-01, -4.46652644e-01,\n",
              "         -4.43885803e-01, -4.41122356e-01, -4.38362274e-01, -4.35605527e-01,\n",
              "         -4.32852086e-01, -4.30101924e-01, -4.27355010e-01, -4.24611318e-01,\n",
              "         -4.21870818e-01, -4.19133483e-01, -4.16399284e-01, -4.13668196e-01,\n",
              "         -4.10940189e-01, -4.08215237e-01, -4.05493313e-01, -4.02774389e-01,\n",
              "         -4.00058440e-01, -3.97345439e-01, -3.94635359e-01, -3.91928175e-01,\n",
              "         -3.89223860e-01, -3.86522388e-01, -3.83823735e-01, -3.81127874e-01,\n",
              "         -3.78434779e-01, -3.75744427e-01, -3.73056792e-01, -3.70371848e-01,\n",
              "         -3.67689572e-01, -3.65009939e-01, -3.62332924e-01, -3.59658504e-01,\n",
              "         -3.56986653e-01, -3.54317348e-01, -3.51650566e-01, -3.48986282e-01,\n",
              "         -3.46324472e-01, -3.43665115e-01, -3.41008186e-01, -3.38353661e-01,\n",
              "         -3.35701519e-01, -3.33051736e-01, -3.30404290e-01, -3.27759157e-01,\n",
              "         -3.25116316e-01, -3.22475743e-01, -3.19837417e-01, -3.17201315e-01,\n",
              "         -3.14567416e-01, -3.11935698e-01, -3.09306138e-01, -3.06678715e-01,\n",
              "         -3.04053407e-01, -3.01430193e-01, -2.98809052e-01, -2.96189962e-01,\n",
              "         -2.93572903e-01, -2.90957852e-01, -2.88344790e-01, -2.85733695e-01,\n",
              "         -2.83124547e-01, -2.80517325e-01, -2.77912008e-01, -2.75308576e-01,\n",
              "         -2.72707009e-01, -2.70107286e-01, -2.67509388e-01, -2.64913294e-01,\n",
              "         -2.62318984e-01, -2.59726438e-01, -2.57135637e-01, -2.54546561e-01,\n",
              "         -2.51959189e-01, -2.49373504e-01, -2.46789484e-01, -2.44207112e-01,\n",
              "         -2.41626367e-01, -2.39047230e-01, -2.36469683e-01, -2.33893705e-01,\n",
              "         -2.31319279e-01, -2.28746384e-01, -2.26175004e-01, -2.23605117e-01,\n",
              "         -2.21036707e-01, -2.18469754e-01, -2.15904240e-01, -2.13340146e-01,\n",
              "         -2.10777454e-01, -2.08216145e-01, -2.05656202e-01, -2.03097605e-01,\n",
              "         -2.00540338e-01, -1.97984381e-01, -1.95429717e-01, -1.92876328e-01,\n",
              "         -1.90324196e-01, -1.87773302e-01, -1.85223630e-01, -1.82675162e-01,\n",
              "         -1.80127879e-01, -1.77581765e-01, -1.75036802e-01, -1.72492971e-01,\n",
              "         -1.69950256e-01, -1.67408640e-01, -1.64868105e-01, -1.62328633e-01,\n",
              "         -1.59790208e-01, -1.57252812e-01, -1.54716428e-01, -1.52181038e-01,\n",
              "         -1.49646627e-01, -1.47113177e-01, -1.44580670e-01, -1.42049091e-01,\n",
              "         -1.39518421e-01, -1.36988645e-01, -1.34459745e-01, -1.31931705e-01,\n",
              "         -1.29404507e-01, -1.26878136e-01, -1.24352575e-01, -1.21827806e-01,\n",
              "         -1.19303813e-01, -1.16780581e-01, -1.14258092e-01, -1.11736329e-01,\n",
              "         -1.09215277e-01, -1.06694919e-01, -1.04175238e-01, -1.01656219e-01,\n",
              "         -9.91378445e-02, -9.66200987e-02, -9.41029651e-02, -9.15864277e-02,\n",
              "         -8.90704701e-02, -8.65550762e-02, -8.40402299e-02, -8.15259149e-02,\n",
              "         -7.90121153e-02, -7.64988148e-02, -7.39859974e-02, -7.14736472e-02,\n",
              "         -6.89617480e-02, -6.64502838e-02, -6.39392387e-02, -6.14285967e-02,\n",
              "         -5.89183419e-02, -5.64084582e-02, -5.38989299e-02, -5.13897409e-02,\n",
              "         -4.88808755e-02, -4.63723177e-02, -4.38640516e-02, -4.13560616e-02,\n",
              "         -3.88483316e-02, -3.63408459e-02, -3.38335886e-02, -3.13265441e-02,\n",
              "         -2.88196964e-02, -2.63130298e-02, -2.38065286e-02, -2.13001769e-02,\n",
              "         -1.87939590e-02, -1.62878591e-02, -1.37818616e-02, -1.12759505e-02,\n",
              "         -8.77011034e-03, -6.26432519e-03, -3.75857938e-03, -1.25285717e-03,\n",
              "          1.25285717e-03,  3.75857938e-03,  6.26432519e-03,  8.77011034e-03,\n",
              "          1.12759505e-02,  1.37818616e-02,  1.62878591e-02,  1.87939590e-02,\n",
              "          2.13001769e-02,  2.38065286e-02,  2.63130298e-02,  2.88196964e-02,\n",
              "          3.13265441e-02,  3.38335886e-02,  3.63408459e-02,  3.88483316e-02,\n",
              "          4.13560616e-02,  4.38640516e-02,  4.63723177e-02,  4.88808755e-02,\n",
              "          5.13897409e-02,  5.38989299e-02,  5.64084582e-02,  5.89183419e-02,\n",
              "          6.14285967e-02,  6.39392387e-02,  6.64502838e-02,  6.89617480e-02,\n",
              "          7.14736472e-02,  7.39859974e-02,  7.64988148e-02,  7.90121153e-02,\n",
              "          8.15259149e-02,  8.40402299e-02,  8.65550762e-02,  8.90704701e-02,\n",
              "          9.15864277e-02,  9.41029651e-02,  9.66200987e-02,  9.91378445e-02,\n",
              "          1.01656219e-01,  1.04175238e-01,  1.06694919e-01,  1.09215277e-01,\n",
              "          1.11736329e-01,  1.14258092e-01,  1.16780581e-01,  1.19303813e-01,\n",
              "          1.21827806e-01,  1.24352575e-01,  1.26878136e-01,  1.29404507e-01,\n",
              "          1.31931705e-01,  1.34459745e-01,  1.36988645e-01,  1.39518421e-01,\n",
              "          1.42049091e-01,  1.44580670e-01,  1.47113177e-01,  1.49646627e-01,\n",
              "          1.52181038e-01,  1.54716428e-01,  1.57252812e-01,  1.59790208e-01,\n",
              "          1.62328633e-01,  1.64868105e-01,  1.67408640e-01,  1.69950256e-01,\n",
              "          1.72492971e-01,  1.75036802e-01,  1.77581765e-01,  1.80127879e-01,\n",
              "          1.82675162e-01,  1.85223630e-01,  1.87773302e-01,  1.90324196e-01,\n",
              "          1.92876328e-01,  1.95429717e-01,  1.97984381e-01,  2.00540338e-01,\n",
              "          2.03097605e-01,  2.05656202e-01,  2.08216145e-01,  2.10777454e-01,\n",
              "          2.13340146e-01,  2.15904240e-01,  2.18469754e-01,  2.21036707e-01,\n",
              "          2.23605117e-01,  2.26175004e-01,  2.28746384e-01,  2.31319279e-01,\n",
              "          2.33893705e-01,  2.36469683e-01,  2.39047230e-01,  2.41626367e-01,\n",
              "          2.44207112e-01,  2.46789484e-01,  2.49373504e-01,  2.51959189e-01,\n",
              "          2.54546561e-01,  2.57135637e-01,  2.59726438e-01,  2.62318984e-01,\n",
              "          2.64913294e-01,  2.67509388e-01,  2.70107286e-01,  2.72707009e-01,\n",
              "          2.75308576e-01,  2.77912008e-01,  2.80517325e-01,  2.83124547e-01,\n",
              "          2.85733695e-01,  2.88344790e-01,  2.90957852e-01,  2.93572903e-01,\n",
              "          2.96189962e-01,  2.98809052e-01,  3.01430193e-01,  3.04053407e-01,\n",
              "          3.06678715e-01,  3.09306138e-01,  3.11935698e-01,  3.14567416e-01,\n",
              "          3.17201315e-01,  3.19837417e-01,  3.22475743e-01,  3.25116316e-01,\n",
              "          3.27759157e-01,  3.30404290e-01,  3.33051736e-01,  3.35701519e-01,\n",
              "          3.38353661e-01,  3.41008186e-01,  3.43665115e-01,  3.46324472e-01,\n",
              "          3.48986282e-01,  3.51650566e-01,  3.54317348e-01,  3.56986653e-01,\n",
              "          3.59658504e-01,  3.62332924e-01,  3.65009939e-01,  3.67689572e-01,\n",
              "          3.70371848e-01,  3.73056792e-01,  3.75744427e-01,  3.78434779e-01,\n",
              "          3.81127874e-01,  3.83823735e-01,  3.86522388e-01,  3.89223860e-01,\n",
              "          3.91928175e-01,  3.94635359e-01,  3.97345439e-01,  4.00058440e-01,\n",
              "          4.02774389e-01,  4.05493313e-01,  4.08215237e-01,  4.10940189e-01,\n",
              "          4.13668196e-01,  4.16399284e-01,  4.19133483e-01,  4.21870818e-01,\n",
              "          4.24611318e-01,  4.27355010e-01,  4.30101924e-01,  4.32852086e-01,\n",
              "          4.35605527e-01,  4.38362274e-01,  4.41122356e-01,  4.43885803e-01,\n",
              "          4.46652644e-01,  4.49422908e-01,  4.52196626e-01,  4.54973827e-01,\n",
              "          4.57754542e-01,  4.60538801e-01,  4.63326634e-01,  4.66118073e-01,\n",
              "          4.68913149e-01,  4.71711893e-01,  4.74514337e-01,  4.77320513e-01,\n",
              "          4.80130452e-01,  4.82944188e-01,  4.85761752e-01,  4.88583178e-01,\n",
              "          4.91408498e-01,  4.94237747e-01,  4.97070957e-01,  4.99908163e-01,\n",
              "          5.02749399e-01,  5.05594699e-01,  5.08444099e-01,  5.11297632e-01,\n",
              "          5.14155335e-01,  5.17017243e-01,  5.19883391e-01,  5.22753817e-01,\n",
              "          5.25628557e-01,  5.28507646e-01,  5.31391124e-01,  5.34279026e-01,\n",
              "          5.37171392e-01,  5.40068258e-01,  5.42969663e-01,  5.45875647e-01,\n",
              "          5.48786247e-01,  5.51701504e-01,  5.54621458e-01,  5.57546147e-01,\n",
              "          5.60475614e-01,  5.63409899e-01,  5.66349043e-01,  5.69293087e-01,\n",
              "          5.72242074e-01,  5.75196045e-01,  5.78155045e-01,  5.81119115e-01,\n",
              "          5.84088300e-01,  5.87062643e-01,  5.90042188e-01,  5.93026981e-01,\n",
              "          5.96017067e-01,  5.99012491e-01,  6.02013299e-01,  6.05019539e-01,\n",
              "          6.08031256e-01,  6.11048498e-01,  6.14071313e-01,  6.17099750e-01,\n",
              "          6.20133858e-01,  6.23173684e-01,  6.26219281e-01,  6.29270697e-01,\n",
              "          6.32327983e-01,  6.35391191e-01,  6.38460373e-01,  6.41535581e-01,\n",
              "          6.44616868e-01,  6.47704287e-01,  6.50797893e-01,  6.53897740e-01,\n",
              "          6.57003883e-01,  6.60116377e-01,  6.63235280e-01,  6.66360648e-01,\n",
              "          6.69492539e-01,  6.72631010e-01,  6.75776120e-01,  6.78927930e-01,\n",
              "          6.82086498e-01,  6.85251886e-01,  6.88424155e-01,  6.91603367e-01,\n",
              "          6.94789584e-01,  6.97982871e-01,  7.01183291e-01,  7.04390909e-01,\n",
              "          7.07605791e-01,  7.10828003e-01,  7.14057613e-01,  7.17294687e-01,\n",
              "          7.20539295e-01,  7.23791507e-01,  7.27051392e-01,  7.30319022e-01,\n",
              "          7.33594468e-01,  7.36877804e-01,  7.40169103e-01,  7.43468439e-01,\n",
              "          7.46775888e-01,  7.50091527e-01,  7.53415433e-01,  7.56747683e-01,\n",
              "          7.60088358e-01,  7.63437536e-01,  7.66795301e-01,  7.70161733e-01,\n",
              "          7.73536915e-01,  7.76920933e-01,  7.80313872e-01,  7.83715817e-01,\n",
              "          7.87126857e-01,  7.90547079e-01,  7.93976575e-01,  7.97415434e-01,\n",
              "          8.00863750e-01,  8.04321614e-01,  8.07789123e-01,  8.11266372e-01,\n",
              "          8.14753457e-01,  8.18250479e-01,  8.21757535e-01,  8.25274728e-01,\n",
              "          8.28802160e-01,  8.32339934e-01,  8.35888157e-01,  8.39446935e-01,\n",
              "          8.43016376e-01,  8.46596591e-01,  8.50187690e-01,  8.53789787e-01,\n",
              "          8.57402996e-01,  8.61027434e-01,  8.64663218e-01,  8.68310468e-01,\n",
              "          8.71969305e-01,  8.75639853e-01,  8.79322237e-01,  8.83016583e-01,\n",
              "          8.86723020e-01,  8.90441678e-01,  8.94172691e-01,  8.97916193e-01,\n",
              "          9.01672321e-01,  9.05441213e-01,  9.09223011e-01,  9.13017857e-01,\n",
              "          9.16825898e-01,  9.20647280e-01,  9.24482153e-01,  9.28330671e-01,\n",
              "          9.32192988e-01,  9.36069261e-01,  9.39959651e-01,  9.43864319e-01,\n",
              "          9.47783430e-01,  9.51717154e-01,  9.55665660e-01,  9.59629122e-01,\n",
              "          9.63607717e-01,  9.67601623e-01,  9.71611024e-01,  9.75636106e-01,\n",
              "          9.79677056e-01,  9.83734067e-01,  9.87807334e-01,  9.91897058e-01,\n",
              "          9.96003439e-01,  1.00012668e+00,  1.00426700e+00,  1.00842461e+00,\n",
              "          1.01259972e+00,  1.01679256e+00,  1.02100335e+00,  1.02523232e+00,\n",
              "          1.02947970e+00,  1.03374574e+00,  1.03803068e+00,  1.04233476e+00,\n",
              "          1.04665824e+00,  1.05100137e+00,  1.05536442e+00,  1.05974765e+00,\n",
              "          1.06415133e+00,  1.06857575e+00,  1.07302119e+00,  1.07748793e+00,\n",
              "          1.08197628e+00,  1.08648653e+00,  1.09101899e+00,  1.09557397e+00,\n",
              "          1.10015180e+00,  1.10475280e+00,  1.10937731e+00,  1.11402566e+00,\n",
              "          1.11869822e+00,  1.12339532e+00,  1.12811734e+00,  1.13286465e+00,\n",
              "          1.13763763e+00,  1.14243667e+00,  1.14726217e+00,  1.15211453e+00,\n",
              "          1.15699416e+00,  1.16190151e+00,  1.16683699e+00,  1.17180107e+00,\n",
              "          1.17679419e+00,  1.18181682e+00,  1.18686944e+00,  1.19195255e+00,\n",
              "          1.19706664e+00,  1.20221223e+00,  1.20738985e+00,  1.21260004e+00,\n",
              "          1.21784337e+00,  1.22312038e+00,  1.22843168e+00,  1.23377786e+00,\n",
              "          1.23915954e+00,  1.24457735e+00,  1.25003194e+00,  1.25552398e+00,\n",
              "          1.26105415e+00,  1.26662315e+00,  1.27223172e+00,  1.27788060e+00,\n",
              "          1.28357055e+00,  1.28930237e+00,  1.29507686e+00,  1.30089485e+00,\n",
              "          1.30675722e+00,  1.31266485e+00,  1.31861865e+00,  1.32461956e+00,\n",
              "          1.33066855e+00,  1.33676663e+00,  1.34291482e+00,  1.34911421e+00,\n",
              "          1.35536588e+00,  1.36167098e+00,  1.36803067e+00,  1.37444619e+00,\n",
              "          1.38091878e+00,  1.38744975e+00,  1.39404044e+00,  1.40069224e+00,\n",
              "          1.40740661e+00,  1.41418503e+00,  1.42102906e+00,  1.42794030e+00,\n",
              "          1.43492043e+00,  1.44197119e+00,  1.44909437e+00,  1.45629184e+00,\n",
              "          1.46356555e+00,  1.47091753e+00,  1.47834989e+00,  1.48586482e+00,\n",
              "          1.49346462e+00,  1.50115166e+00,  1.50892845e+00,  1.51679758e+00,\n",
              "          1.52476177e+00,  1.53282387e+00,  1.54098684e+00,  1.54925381e+00,\n",
              "          1.55762804e+00,  1.56611295e+00,  1.57471213e+00,  1.58342935e+00,\n",
              "          1.59226859e+00,  1.60123402e+00,  1.61033003e+00,  1.61956127e+00,\n",
              "          1.62893261e+00,  1.63844924e+00,  1.64811661e+00,  1.65794051e+00,\n",
              "          1.66792707e+00,  1.67808281e+00,  1.68841463e+00,  1.69892989e+00,\n",
              "          1.70963644e+00,  1.72054262e+00,  1.73165738e+00,  1.74299028e+00,\n",
              "          1.75455157e+00,  1.76635224e+00,  1.77840415e+00,  1.79072004e+00,\n",
              "          1.80331371e+00,  1.81620005e+00,  1.82939524e+00,  1.84291686e+00,\n",
              "          1.85678408e+00,  1.87101783e+00,  1.88564107e+00,  1.90067901e+00,\n",
              "          1.91615948e+00,  1.93211325e+00,  1.94857451e+00,  1.96558137e+00,\n",
              "          1.98317650e+00,  2.00140792e+00,  2.02032992e+00,  2.04000420e+00,\n",
              "          2.06050135e+00,  2.08190261e+00,  2.10430217e+00,  2.12781017e+00,\n",
              "          2.15255643e+00,  2.17869564e+00,  2.20641415e+00,  2.23593934e+00,\n",
              "          2.26755284e+00,  2.30160949e+00,  2.33856546e+00,  2.37902149e+00,\n",
              "          2.42379214e+00,  2.47402263e+00,  2.53139899e+00,  2.59855946e+00,\n",
              "          2.67999560e+00,  2.78437841e+00,  2.93237785e+00,  3.19758950e+00]),\n",
              "  array([ 7752.47,  7785.58,  7825.39,  7865.09,  7869.19,  7967.9 ,\n",
              "          8064.12,  8069.08,  8091.63,  8121.81,  8147.05,  8147.23,\n",
              "          8178.1 ,  8192.3 ,  8213.36,  8228.52,  8230.38,  8250.16,\n",
              "          8252.93,  8255.03,  8290.79,  8292.96,  8297.64,  8301.26,\n",
              "          8303.44,  8306.98,  8328.07,  8337.17,  8339.64,  8360.01,\n",
              "          8370.11,  8370.93,  8371.92,  8374.31,  8375.38,  8375.5 ,\n",
              "          8377.11,  8385.19,  8385.87,  8390.52,  8394.19,  8397.87,\n",
              "          8399.11,  8406.98,  8413.11,  8437.26,  8437.8 ,  8444.71,\n",
              "          8445.22,  8445.41,  8446.34,  8450.72,  8475.91,  8485.76,\n",
              "          8488.7 ,  8491.19,  8493.32,  8494.52,  8496.12,  8497.84,\n",
              "          8498.07,  8503.31,  8503.41,  8505.31,  8507.47,  8507.81,\n",
              "          8508.51,  8509.12,  8517.85,  8519.25,  8520.11,  8524.36,\n",
              "          8525.91,  8526.41,  8530.18,  8531.57,  8537.04,  8537.4 ,\n",
              "          8557.6 ,  8566.63,  8570.03,  8570.55,  8572.68,  8572.85,\n",
              "          8573.57,  8576.64,  8578.57,  8578.9 ,  8581.46,  8581.63,\n",
              "          8582.12,  8590.06,  8590.85,  8592.99,  8594.33,  8602.72,\n",
              "          8605.94,  8610.27,  8613.84,  8613.92,  8615.89,  8619.8 ,\n",
              "          8626.76,  8630.94,  8633.18,  8640.69,  8642.95,  8643.71,\n",
              "          8646.95,  8651.01,  8652.7 ,  8654.77,  8657.17,  8658.65,\n",
              "          8668.59,  8669.  ,  8675.78,  8676.55,  8676.6 ,  8676.96,\n",
              "          8677.61,  8680.81,  8686.67,  8688.37,  8688.92,  8690.54,\n",
              "          8693.35,  8695.57,  8700.68,  8700.77,  8702.14,  8704.96,\n",
              "          8714.42,  8715.21,  8716.3 ,  8724.69,  8727.36,  8728.38,\n",
              "          8730.61,  8734.57,  8736.59,  8739.11,  8740.42,  8741.3 ,\n",
              "          8748.08,  8752.43,  8752.87,  8755.  ,  8756.37,  8763.07,\n",
              "          8767.11,  8767.66,  8770.45,  8770.46,  8771.12,  8774.45,\n",
              "          8775.89,  8776.44,  8776.79,  8780.87,  8783.3 ,  8783.84,\n",
              "          8784.47,  8785.71,  8787.28,  8793.94,  8795.1 ,  8797.3 ,\n",
              "          8804.64,  8806.61,  8807.87,  8808.88,  8811.69,  8812.73,\n",
              "          8814.7 ,  8816.01,  8817.13,  8819.32,  8819.53,  8821.16,\n",
              "          8821.37,  8826.32,  8828.6 ,  8828.76,  8829.25,  8830.09,\n",
              "          8833.55,  8833.92,  8835.27,  8839.62,  8842.14,  8844.34,\n",
              "          8844.8 ,  8846.28,  8847.13,  8848.12,  8848.23,  8849.49,\n",
              "          8850.17,  8850.27,  8850.43,  8853.21,  8853.45,  8853.51,\n",
              "          8853.86,  8854.57,  8854.84,  8855.49,  8856.09,  8856.53,\n",
              "          8861.65,  8861.75,  8863.53,  8870.53,  8871.98,  8873.47,\n",
              "          8874.18,  8874.37,  8874.69,  8877.45,  8879.  ,  8884.62,\n",
              "          8887.74,  8887.79,  8890.4 ,  8890.8 ,  8897.57,  8898.43,\n",
              "          8899.81,  8900.83,  8901.18,  8902.62,  8904.14,  8904.58,\n",
              "          8909.51,  8910.92,  8912.73,  8913.51,  8914.1 ,  8914.66,\n",
              "          8916.05,  8918.56,  8919.84,  8921.  ,  8921.21,  8924.14,\n",
              "          8926.64,  8928.34,  8928.72,  8929.84,  8931.8 ,  8932.33,\n",
              "          8932.52,  8934.62,  8935.13,  8938.07,  8938.14,  8938.73,\n",
              "          8938.79,  8941.62,  8942.73,  8943.18,  8943.97,  8944.42,\n",
              "          8944.53,  8944.99,  8946.18,  8948.05,  8948.67,  8948.94,\n",
              "          8949.19,  8954.64,  8954.84,  8957.51,  8958.01,  8958.68,\n",
              "          8960.88,  8962.75,  8964.6 ,  8964.73,  8965.16,  8968.58,\n",
              "          8968.68,  8969.7 ,  8969.84,  8970.27,  8970.32,  8970.85,\n",
              "          8971.64,  8972.33,  8972.69,  8973.02,  8973.68,  8974.04,\n",
              "          8976.96,  8977.17,  8979.43,  8979.93,  8981.59,  8985.12,\n",
              "          8987.56,  8988.85,  8989.15,  8989.59,  8990.98,  8993.63,\n",
              "          8993.7 ,  9000.56,  9001.9 ,  9003.28,  9004.08,  9004.31,\n",
              "          9006.82,  9007.51,  9010.57,  9017.32,  9017.91,  9023.24,\n",
              "          9023.49,  9023.59,  9025.4 ,  9025.83,  9026.61,  9027.18,\n",
              "          9030.66,  9031.72,  9033.92,  9035.18,  9035.85,  9037.29,\n",
              "          9037.97,  9038.51,  9040.41,  9040.51,  9041.14,  9044.72,\n",
              "          9045.34,  9045.43,  9052.34,  9052.93,  9053.18,  9054.  ,\n",
              "          9055.99,  9056.57,  9057.01,  9057.15,  9057.85,  9058.3 ,\n",
              "          9060.57,  9061.61,  9062.45,  9063.53,  9064.22,  9066.07,\n",
              "          9068.19,  9070.06,  9071.32,  9073.5 ,  9073.72,  9076.31,\n",
              "          9077.32,  9077.6 ,  9078.57,  9078.8 ,  9079.87,  9081.25,\n",
              "          9081.41,  9081.81,  9083.66,  9085.4 ,  9087.75,  9087.75,\n",
              "          9088.39,  9089.07,  9089.71,  9090.2 ,  9093.17,  9095.05,\n",
              "          9095.06,  9097.05,  9097.15,  9101.48,  9103.08,  9103.46,\n",
              "          9103.58,  9106.3 ,  9109.09,  9109.39,  9109.89,  9110.77,\n",
              "          9114.83,  9115.47,  9115.48,  9115.8 ,  9116.55,  9117.29,\n",
              "          9118.84,  9119.6 ,  9121.58,  9124.28,  9125.66,  9127.99,\n",
              "          9132.22,  9132.66,  9134.81,  9136.08,  9136.41,  9138.69,\n",
              "          9139.87,  9140.5 ,  9140.7 ,  9143.8 ,  9146.2 ,  9147.62,\n",
              "          9148.83,  9151.8 ,  9152.04,  9152.19,  9154.32,  9159.99,\n",
              "          9161.44,  9162.5 ,  9163.12,  9163.65,  9164.33,  9166.42,\n",
              "          9167.32,  9168.92,  9169.2 ,  9171.55,  9171.8 ,  9172.1 ,\n",
              "          9172.77,  9173.99,  9176.1 ,  9178.56,  9184.37,  9185.04,\n",
              "          9186.06,  9187.02,  9187.12,  9187.45,  9187.85,  9188.83,\n",
              "          9189.04,  9189.6 ,  9189.96,  9190.17,  9190.31,  9191.25,\n",
              "          9191.63,  9196.56,  9197.17,  9198.27,  9199.27,  9199.85,\n",
              "          9199.9 ,  9203.66,  9205.42,  9205.55,  9207.14,  9210.44,\n",
              "          9210.45,  9212.44,  9219.75,  9223.83,  9224.15,  9224.7 ,\n",
              "          9226.36,  9228.3 ,  9228.54,  9228.79,  9229.71,  9233.42,\n",
              "          9233.76,  9235.03,  9235.07,  9235.44,  9239.32,  9241.16,\n",
              "          9247.65,  9248.78,  9249.49,  9250.48,  9251.76,  9252.39,\n",
              "          9252.71,  9253.43,  9255.83,  9257.65,  9259.77,  9261.22,\n",
              "          9263.81,  9264.02,  9265.06,  9267.24,  9267.71,  9269.43,\n",
              "          9270.34,  9270.52,  9272.66,  9273.93,  9275.2 ,  9277.69,\n",
              "          9279.74,  9279.8 ,  9280.36,  9283.03,  9284.03,  9285.27,\n",
              "          9285.94,  9285.98,  9285.98,  9286.84,  9287.77,  9290.27,\n",
              "          9290.61,  9292.  ,  9293.57,  9293.91,  9296.94,  9297.61,\n",
              "          9298.45,  9301.78,  9302.04,  9302.43,  9303.14,  9303.42,\n",
              "          9303.89,  9303.9 ,  9305.17,  9306.51,  9306.83,  9308.37,\n",
              "          9309.91,  9310.07,  9310.29,  9310.54,  9311.2 ,  9311.26,\n",
              "          9311.27,  9311.47,  9311.72,  9315.43,  9317.82,  9318.56,\n",
              "          9318.9 ,  9323.16,  9326.23,  9326.87,  9328.74,  9330.67,\n",
              "          9332.42,  9332.48,  9332.99,  9333.5 ,  9335.91,  9336.73,\n",
              "          9339.91,  9340.14,  9340.86,  9341.62,  9341.71,  9343.06,\n",
              "          9343.96,  9344.07,  9344.48,  9344.62,  9345.9 ,  9348.39,\n",
              "          9348.62,  9349.66,  9350.24,  9350.39,  9350.4 ,  9351.28,\n",
              "          9352.28,  9356.02,  9357.73,  9357.99,  9359.86,  9360.82,\n",
              "          9362.52,  9362.54,  9362.97,  9363.48,  9364.01,  9365.09,\n",
              "          9366.4 ,  9368.8 ,  9369.35,  9374.36,  9376.22,  9376.76,\n",
              "          9378.8 ,  9379.66,  9379.89,  9381.9 ,  9382.11,  9382.12,\n",
              "          9382.63,  9383.3 ,  9383.34,  9383.44,  9384.24,  9384.57,\n",
              "          9385.35,  9388.43,  9388.58,  9390.69,  9393.01,  9393.21,\n",
              "          9393.54,  9396.1 ,  9397.56,  9398.39,  9398.61,  9401.28,\n",
              "          9403.1 ,  9406.11,  9406.14,  9406.39,  9408.81,  9409.32,\n",
              "          9412.21,  9412.9 ,  9413.84,  9413.95,  9414.28,  9415.48,\n",
              "          9415.88,  9418.21,  9419.49,  9429.61,  9430.38,  9432.24,\n",
              "          9432.25,  9432.61,  9435.92,  9436.26,  9436.61,  9436.96,\n",
              "          9437.6 ,  9438.72,  9440.13,  9440.29,  9440.51,  9443.69,\n",
              "          9444.32,  9446.19,  9447.72,  9448.39,  9448.56,  9449.9 ,\n",
              "          9450.94,  9452.29,  9453.06,  9453.16,  9454.98,  9455.37,\n",
              "          9456.16,  9456.38,  9456.55,  9459.18,  9459.25,  9462.58,\n",
              "          9463.42,  9463.49,  9464.91,  9465.26,  9465.44,  9466.04,\n",
              "          9466.05,  9467.13,  9467.54,  9468.19,  9468.26,  9469.05,\n",
              "          9469.1 ,  9469.26,  9469.92,  9477.15,  9481.7 ,  9483.18,\n",
              "          9489.08,  9489.99,  9490.53,  9491.4 ,  9491.55,  9491.7 ,\n",
              "          9492.2 ,  9493.4 ,  9495.93,  9496.13,  9496.59,  9498.2 ,\n",
              "          9498.38,  9499.09,  9499.72,  9502.63,  9505.61,  9508.67,\n",
              "          9509.1 ,  9510.16,  9510.49,  9512.18,  9515.29,  9516.8 ,\n",
              "          9518.61,  9519.01,  9519.95,  9520.25,  9522.41,  9522.71,\n",
              "          9522.88,  9523.71,  9525.82,  9530.56,  9531.68,  9532.06,\n",
              "          9534.36,  9534.64,  9536.7 ,  9537.2 ,  9537.77,  9537.79,\n",
              "          9539.16,  9544.13,  9545.26,  9546.06,  9548.17,  9548.21,\n",
              "          9548.36,  9549.24,  9551.32,  9551.89,  9552.25,  9553.29,\n",
              "          9554.42,  9555.6 ,  9559.84,  9560.4 ,  9560.67,  9560.98,\n",
              "          9562.28,  9564.12,  9567.05,  9567.1 ,  9567.61,  9568.41,\n",
              "          9568.41,  9568.52,  9576.99,  9579.01,  9579.33,  9579.76,\n",
              "          9583.22,  9584.16,  9584.46,  9586.51,  9587.22,  9587.61,\n",
              "          9589.04,  9591.79,  9592.44,  9592.55,  9593.67,  9596.82,\n",
              "          9599.29,  9601.17,  9601.96,  9602.29,  9602.37,  9605.32,\n",
              "          9605.95,  9609.8 ,  9612.55,  9613.21,  9615.41,  9616.47,\n",
              "          9621.27,  9622.59,  9626.71,  9627.46,  9628.12,  9629.93,\n",
              "          9637.52,  9640.07,  9641.11,  9642.86,  9649.15,  9649.49,\n",
              "          9650.25,  9652.23,  9652.69,  9654.89,  9656.3 ,  9656.4 ,\n",
              "          9657.17,  9659.37,  9660.81,  9662.53,  9663.21,  9665.73,\n",
              "          9666.29,  9669.93,  9670.92,  9671.88,  9673.48,  9677.94,\n",
              "          9680.07,  9683.29,  9684.93,  9689.83,  9689.84,  9693.59,\n",
              "          9697.18,  9700.43,  9701.85,  9704.92,  9706.96,  9707.81,\n",
              "          9708.74,  9709.8 ,  9710.63,  9711.08,  9712.14,  9716.85,\n",
              "          9717.05,  9718.55,  9718.99,  9720.21,  9721.48,  9724.68,\n",
              "          9725.19,  9731.57,  9731.92,  9732.06,  9734.44,  9735.08,\n",
              "          9739.17,  9740.26,  9741.07,  9741.61,  9742.08,  9742.68,\n",
              "          9745.58,  9747.18,  9750.11,  9759.65,  9760.02,  9762.45,\n",
              "          9764.03,  9766.41,  9768.03,  9768.63,  9770.96,  9773.37,\n",
              "          9773.8 ,  9774.04,  9781.22,  9782.09,  9782.35,  9782.85,\n",
              "          9783.52,  9788.75,  9790.68,  9794.4 ,  9797.99,  9800.04,\n",
              "          9801.86,  9803.4 ,  9803.72,  9804.63,  9805.11,  9807.88,\n",
              "          9810.12,  9811.71,  9813.38,  9817.88,  9826.68,  9828.32,\n",
              "          9828.43,  9832.36,  9832.87,  9833.35,  9834.67,  9835.26,\n",
              "          9838.96,  9840.45,  9842.66,  9843.93,  9847.58,  9847.81,\n",
              "          9848.77,  9851.43,  9861.77,  9874.97,  9878.96,  9880.25,\n",
              "          9885.73,  9887.11,  9888.06,  9888.47,  9894.22,  9898.51,\n",
              "          9902.59,  9905.65,  9911.17,  9911.76,  9914.01,  9917.63,\n",
              "          9921.54,  9922.81,  9923.96,  9924.37,  9928.26,  9928.28,\n",
              "          9935.97,  9936.39,  9937.77,  9938.15,  9947.47,  9948.04,\n",
              "          9948.29,  9953.1 ,  9955.07,  9955.88,  9957.03,  9958.1 ,\n",
              "          9963.49,  9967.03,  9969.59,  9972.06,  9985.27,  9985.79,\n",
              "          9986.94,  9996.45,  9996.51,  9996.86,  9999.8 , 10003.37,\n",
              "         10014.22, 10019.04, 10033.31, 10033.91, 10037.99, 10038.37,\n",
              "         10039.52, 10046.83, 10056.47, 10063.71, 10065.77, 10072.64,\n",
              "         10074.44, 10075.02, 10079.04, 10080.3 , 10085.02, 10098.11,\n",
              "         10103.4 , 10116.  , 10119.37, 10120.86, 10136.9 , 10142.73,\n",
              "         10181.7 , 10188.06, 10188.9 , 10189.38, 10196.28, 10204.32,\n",
              "         10237.8 , 10247.64, 10257.24, 10259.27, 10263.9 , 10265.8 ,\n",
              "         10269.09, 10291.6 , 10293.25, 10297.76, 10331.13, 10365.65,\n",
              "         10367.87, 10378.64, 10394.61, 10409.05, 10417.33, 10431.22,\n",
              "         10443.2 , 10453.19, 10491.03, 10507.9 , 10562.07, 10597.12,\n",
              "         10618.04, 10623.32, 10702.24, 10705.76])),\n",
              " (489.59700311144445, 9255.6295, 0.9995884012055563))"
            ]
          },
          "metadata": {},
          "execution_count": 18
        },
        {
          "output_type": "display_data",
          "data": {
            "text/plain": [
              "<Figure size 432x288 with 1 Axes>"
            ],
            "image/png": "[encoded data removed]"
          },
          "metadata": {
            "needs_background": "light"
          }
        }
      ]
    },
    {
      "cell_type": "markdown",
      "source": [
        "**ANALYSIS**- QQ-Plot shows that sample means of population follows Gaussian Distribution.\n",
        "\n",
        "***Thus verifying Central Limit Therom(CLT)***"
      ],
      "metadata": {
        "id": "4ol0w2C88Dki"
      }
    },
    {
      "cell_type": "code",
      "source": [
        "sm=np.mean(sampleMeans)\n",
        "sstd=np.std(sampleMeans)\n",
        "#95% Confidence Interval is 2standard deviations away\n",
        "f_interval_val=sm-2*sstd\n",
        "s_interval_val=sm+2*sstd\n",
        "print(\"95% Confidence Interval [ {} - {} ]\".format(f_interval_val,s_interval_val))\n",
        "#99% Confidence Interval is 3standard deviations away\n",
        "f_interval_val=sm-3*sstd\n",
        "s_interval_val=sm+3*sstd\n",
        "print(\"99% Confidence Interval [ {} - {} ]\".format(f_interval_val,s_interval_val))"
      ],
      "metadata": {
        "colab": {
          "base_uri": "https://localhost:8080/"
        },
        "id": "YcBkO6m27-Q4",
        "outputId": "0d44a4a9-599f-424a-e538-3dbdeeeae1f3"
      },
      "execution_count": null,
      "outputs": [
        {
          "output_type": "stream",
          "name": "stdout",
          "text": [
            "95% Confidence Interval [ 8278.75443307496 - 10232.504566925038 ]\n",
            "99% Confidence Interval [ 7790.3168996124405 - 10720.942100387558 ]\n"
          ]
        }
      ]
    },
    {
      "cell_type": "markdown",
      "source": [
        "**ANALYSIS**- Here we can conclude that we are **95% sure** that Purchase Amount will fall in the range between **8278 and 10232.**\n",
        "\n",
        "Here we can conclude that we are **99% sure** that Purchase Amount will fall in the range between **7790 and 10720.**\n",
        "\n",
        "**AS THE CONFIDENCE INTERVAL RANGE INCREASES, THE PURCHASE AMOUNT RATE AS INCREASES.**"
      ],
      "metadata": {
        "id": "nqNqo9kXEyh1"
      }
    },
    {
      "cell_type": "code",
      "source": [
        "df.head()"
      ],
      "metadata": {
        "colab": {
          "base_uri": "https://localhost:8080/",
          "height": 206
        },
        "id": "P7Q5mLFCEx5S",
        "outputId": "17066cd8-1d29-4291-f258-05a69241bb92"
      },
      "execution_count": null,
      "outputs": [
        {
          "output_type": "execute_result",
          "data": {
            "text/plain": [
              "   User_ID Product_ID Gender   Age  Occupation City_Category  \\\n",
              "0  1000001  P00069042      F  0-17          10             A   \n",
              "1  1000001  P00248942      F  0-17          10             A   \n",
              "2  1000001  P00087842      F  0-17          10             A   \n",
              "3  1000001  P00085442      F  0-17          10             A   \n",
              "4  1000002  P00285442      M   55+          16             C   \n",
              "\n",
              "  Stay_In_Current_City_Years  Marital_Status  Product_Category  Purchase  \n",
              "0                          2               0                 3      8370  \n",
              "1                          2               0                 1     15200  \n",
              "2                          2               0                12      1422  \n",
              "3                          2               0                12      1057  \n",
              "4                         4+               0                 8      7969  "
            ],
            "text/html": [
              "\n",
              "  <div id=\"df-15a514fc-da07-45b0-837e-24efabf06aca\">\n",
              "    <div class=\"colab-df-container\">\n",
              "      <div>\n",
              "<style scoped>\n",
              "    .dataframe tbody tr th:only-of-type {\n",
              "        vertical-align: middle;\n",
              "    }\n",
              "\n",
              "    .dataframe tbody tr th {\n",
              "        vertical-align: top;\n",
              "    }\n",
              "\n",
              "    .dataframe thead th {\n",
              "        text-align: right;\n",
              "    }\n",
              "</style>\n",
              "<table border=\"1\" class=\"dataframe\">\n",
              "  <thead>\n",
              "    <tr style=\"text-align: right;\">\n",
              "      <th></th>\n",
              "      <th>User_ID</th>\n",
              "      <th>Product_ID</th>\n",
              "      <th>Gender</th>\n",
              "      <th>Age</th>\n",
              "      <th>Occupation</th>\n",
              "      <th>City_Category</th>\n",
              "      <th>Stay_In_Current_City_Years</th>\n",
              "      <th>Marital_Status</th>\n",
              "      <th>Product_Category</th>\n",
              "      <th>Purchase</th>\n",
              "    </tr>\n",
              "  </thead>\n",
              "  <tbody>\n",
              "    <tr>\n",
              "      <th>0</th>\n",
              "      <td>1000001</td>\n",
              "      <td>P00069042</td>\n",
              "      <td>F</td>\n",
              "      <td>0-17</td>\n",
              "      <td>10</td>\n",
              "      <td>A</td>\n",
              "      <td>2</td>\n",
              "      <td>0</td>\n",
              "      <td>3</td>\n",
              "      <td>8370</td>\n",
              "    </tr>\n",
              "    <tr>\n",
              "      <th>1</th>\n",
              "      <td>1000001</td>\n",
              "      <td>P00248942</td>\n",
              "      <td>F</td>\n",
              "      <td>0-17</td>\n",
              "      <td>10</td>\n",
              "      <td>A</td>\n",
              "      <td>2</td>\n",
              "      <td>0</td>\n",
              "      <td>1</td>\n",
              "      <td>15200</td>\n",
              "    </tr>\n",
              "    <tr>\n",
              "      <th>2</th>\n",
              "      <td>1000001</td>\n",
              "      <td>P00087842</td>\n",
              "      <td>F</td>\n",
              "      <td>0-17</td>\n",
              "      <td>10</td>\n",
              "      <td>A</td>\n",
              "      <td>2</td>\n",
              "      <td>0</td>\n",
              "      <td>12</td>\n",
              "      <td>1422</td>\n",
              "    </tr>\n",
              "    <tr>\n",
              "      <th>3</th>\n",
              "      <td>1000001</td>\n",
              "      <td>P00085442</td>\n",
              "      <td>F</td>\n",
              "      <td>0-17</td>\n",
              "      <td>10</td>\n",
              "      <td>A</td>\n",
              "      <td>2</td>\n",
              "      <td>0</td>\n",
              "      <td>12</td>\n",
              "      <td>1057</td>\n",
              "    </tr>\n",
              "    <tr>\n",
              "      <th>4</th>\n",
              "      <td>1000002</td>\n",
              "      <td>P00285442</td>\n",
              "      <td>M</td>\n",
              "      <td>55+</td>\n",
              "      <td>16</td>\n",
              "      <td>C</td>\n",
              "      <td>4+</td>\n",
              "      <td>0</td>\n",
              "      <td>8</td>\n",
              "      <td>7969</td>\n",
              "    </tr>\n",
              "  </tbody>\n",
              "</table>\n",
              "</div>\n",
              "      <button class=\"colab-df-convert\" onclick=\"convertToInteractive('df-15a514fc-da07-45b0-837e-24efabf06aca')\"\n",
              "              title=\"Convert this dataframe to an interactive table.\"\n",
              "              style=\"display:none;\">\n",
              "        \n",
              "  <svg xmlns=\"http://www.w3.org/2000/svg\" height=\"24px\"viewBox=\"0 0 24 24\"\n",
              "       width=\"24px\">\n",
              "    <path d=\"M0 0h24v24H0V0z\" fill=\"none\"/>\n",
              "    <path d=\"M18.56 5.44l.94 2.06.94-2.06 2.06-.94-2.06-.94-.94-2.06-.94 2.06-2.06.94zm-11 1L8.5 8.5l.94-2.06 2.06-.94-2.06-.94L8.5 2.5l-.94 2.06-2.06.94zm10 10l.94 2.06.94-2.06 2.06-.94-2.06-.94-.94-2.06-.94 2.06-2.06.94z\"/><path d=\"M17.41 7.96l-1.37-1.37c-.4-.4-.92-.59-1.43-.59-.52 0-1.04.2-1.43.59L10.3 9.45l-7.72 7.72c-.78.78-.78 2.05 0 2.83L4 21.41c.39.39.9.59 1.41.59.51 0 1.02-.2 1.41-.59l7.78-7.78 2.81-2.81c.8-.78.8-2.07 0-2.86zM5.41 20L4 18.59l7.72-7.72 1.47 1.35L5.41 20z\"/>\n",
              "  </svg>\n",
              "      </button>\n",
              "      \n",
              "  <style>\n",
              "    .colab-df-container {\n",
              "      display:flex;\n",
              "      flex-wrap:wrap;\n",
              "      gap: 12px;\n",
              "    }\n",
              "\n",
              "    .colab-df-convert {\n",
              "      background-color: #E8F0FE;\n",
              "      border: none;\n",
              "      border-radius: 50%;\n",
              "      cursor: pointer;\n",
              "      display: none;\n",
              "      fill: #1967D2;\n",
              "      height: 32px;\n",
              "      padding: 0 0 0 0;\n",
              "      width: 32px;\n",
              "    }\n",
              "\n",
              "    .colab-df-convert:hover {\n",
              "      background-color: #E2EBFA;\n",
              "      box-shadow: 0px 1px 2px rgba(60, 64, 67, 0.3), 0px 1px 3px 1px rgba(60, 64, 67, 0.15);\n",
              "      fill: #174EA6;\n",
              "    }\n",
              "\n",
              "    [theme=dark] .colab-df-convert {\n",
              "      background-color: #3B4455;\n",
              "      fill: #D2E3FC;\n",
              "    }\n",
              "\n",
              "    [theme=dark] .colab-df-convert:hover {\n",
              "      background-color: #434B5C;\n",
              "      box-shadow: 0px 1px 3px 1px rgba(0, 0, 0, 0.15);\n",
              "      filter: drop-shadow(0px 1px 2px rgba(0, 0, 0, 0.3));\n",
              "      fill: #FFFFFF;\n",
              "    }\n",
              "  </style>\n",
              "\n",
              "      <script>\n",
              "        const buttonEl =\n",
              "          document.querySelector('#df-15a514fc-da07-45b0-837e-24efabf06aca button.colab-df-convert');\n",
              "        buttonEl.style.display =\n",
              "          google.colab.kernel.accessAllowed ? 'block' : 'none';\n",
              "\n",
              "        async function convertToInteractive(key) {\n",
              "          const element = document.querySelector('#df-15a514fc-da07-45b0-837e-24efabf06aca');\n",
              "          const dataTable =\n",
              "            await google.colab.kernel.invokeFunction('convertToInteractive',\n",
              "                                                     [key], {});\n",
              "          if (!dataTable) return;\n",
              "\n",
              "          const docLinkHtml = 'Like what you see? Visit the ' +\n",
              "            '<a target=\"_blank\" href=https://colab.research.google.com/notebooks/data_table.ipynb>data table notebook</a>'\n",
              "            + ' to learn more about interactive tables.';\n",
              "          element.innerHTML = '';\n",
              "          dataTable['output_type'] = 'display_data';\n",
              "          await google.colab.output.renderOutput(dataTable, element);\n",
              "          const docLink = document.createElement('div');\n",
              "          docLink.innerHTML = docLinkHtml;\n",
              "          element.appendChild(docLink);\n",
              "        }\n",
              "      </script>\n",
              "    </div>\n",
              "  </div>\n",
              "  "
            ]
          },
          "metadata": {},
          "execution_count": 35
        }
      ]
    },
    {
      "cell_type": "code",
      "source": [
        "df['City_Category'].unique()"
      ],
      "metadata": {
        "colab": {
          "base_uri": "https://localhost:8080/"
        },
        "id": "2sDFssB_D_U1",
        "outputId": "507d3488-439c-4ce8-a6a6-f6f70631d255"
      },
      "execution_count": null,
      "outputs": [
        {
          "output_type": "execute_result",
          "data": {
            "text/plain": [
              "array(['A', 'C', 'B'], dtype=object)"
            ]
          },
          "metadata": {},
          "execution_count": 39
        }
      ]
    },
    {
      "cell_type": "code",
      "source": [
        "f_cutomers_df=df[df['Gender']=='F']"
      ],
      "metadata": {
        "id": "3H6pUz0WHO62"
      },
      "execution_count": null,
      "outputs": []
    },
    {
      "cell_type": "code",
      "source": [
        "m_cutomers_df=df[df['Gender']=='M']"
      ],
      "metadata": {
        "id": "RsL0mnwATmnI"
      },
      "execution_count": null,
      "outputs": []
    },
    {
      "cell_type": "code",
      "source": [],
      "metadata": {
        "id": "6bpLaWvfVaxc"
      },
      "execution_count": null,
      "outputs": []
    },
    {
      "cell_type": "markdown",
      "source": [
        "**CLT for Female Customers**"
      ],
      "metadata": {
        "id": "-F5C145fVbWM"
      }
    },
    {
      "cell_type": "code",
      "source": [
        "#For female customers\n",
        "sampleMeans = []\n",
        "for _ in range(1000):\n",
        "    samples = f_cutomers_df['Purchase'].sample(n=100)\n",
        "    sampleMean = np.mean(samples)\n",
        "    sampleMeans.append(sampleMean)"
      ],
      "metadata": {
        "id": "xVtb2SkxTsc-"
      },
      "execution_count": null,
      "outputs": []
    },
    {
      "cell_type": "code",
      "source": [
        "fig, ax = plt.subplots()\n",
        "stats.probplot(sampleMeans, dist=\"norm\", plot=ax)"
      ],
      "metadata": {
        "colab": {
          "base_uri": "https://localhost:8080/",
          "height": 8009
        },
        "id": "197MDVJBVZLP",
        "outputId": "797ee83e-1d1f-4dab-8649-c822ce9f26ac"
      },
      "execution_count": null,
      "outputs": [
        {
          "output_type": "execute_result",
          "data": {
            "text/plain": [
              "((array([-3.19758950e+00, -2.93237785e+00, -2.78437841e+00, -2.67999560e+00,\n",
              "         -2.59855946e+00, -2.53139899e+00, -2.47402263e+00, -2.42379214e+00,\n",
              "         -2.37902149e+00, -2.33856546e+00, -2.30160949e+00, -2.26755284e+00,\n",
              "         -2.23593934e+00, -2.20641415e+00, -2.17869564e+00, -2.15255643e+00,\n",
              "         -2.12781017e+00, -2.10430217e+00, -2.08190261e+00, -2.06050135e+00,\n",
              "         -2.04000420e+00, -2.02032992e+00, -2.00140792e+00, -1.98317650e+00,\n",
              "         -1.96558137e+00, -1.94857451e+00, -1.93211325e+00, -1.91615948e+00,\n",
              "         -1.90067901e+00, -1.88564107e+00, -1.87101783e+00, -1.85678408e+00,\n",
              "         -1.84291686e+00, -1.82939524e+00, -1.81620005e+00, -1.80331371e+00,\n",
              "         -1.79072004e+00, -1.77840415e+00, -1.76635224e+00, -1.75455157e+00,\n",
              "         -1.74299028e+00, -1.73165738e+00, -1.72054262e+00, -1.70963644e+00,\n",
              "         -1.69892989e+00, -1.68841463e+00, -1.67808281e+00, -1.66792707e+00,\n",
              "         -1.65794051e+00, -1.64811661e+00, -1.63844924e+00, -1.62893261e+00,\n",
              "         -1.61956127e+00, -1.61033003e+00, -1.60123402e+00, -1.59226859e+00,\n",
              "         -1.58342935e+00, -1.57471213e+00, -1.56611295e+00, -1.55762804e+00,\n",
              "         -1.54925381e+00, -1.54098684e+00, -1.53282387e+00, -1.52476177e+00,\n",
              "         -1.51679758e+00, -1.50892845e+00, -1.50115166e+00, -1.49346462e+00,\n",
              "         -1.48586482e+00, -1.47834989e+00, -1.47091753e+00, -1.46356555e+00,\n",
              "         -1.45629184e+00, -1.44909437e+00, -1.44197119e+00, -1.43492043e+00,\n",
              "         -1.42794030e+00, -1.42102906e+00, -1.41418503e+00, -1.40740661e+00,\n",
              "         -1.40069224e+00, -1.39404044e+00, -1.38744975e+00, -1.38091878e+00,\n",
              "         -1.37444619e+00, -1.36803067e+00, -1.36167098e+00, -1.35536588e+00,\n",
              "         -1.34911421e+00, -1.34291482e+00, -1.33676663e+00, -1.33066855e+00,\n",
              "         -1.32461956e+00, -1.31861865e+00, -1.31266485e+00, -1.30675722e+00,\n",
              "         -1.30089485e+00, -1.29507686e+00, -1.28930237e+00, -1.28357055e+00,\n",
              "         -1.27788060e+00, -1.27223172e+00, -1.26662315e+00, -1.26105415e+00,\n",
              "         -1.25552398e+00, -1.25003194e+00, -1.24457735e+00, -1.23915954e+00,\n",
              "         -1.23377786e+00, -1.22843168e+00, -1.22312038e+00, -1.21784337e+00,\n",
              "         -1.21260004e+00, -1.20738985e+00, -1.20221223e+00, -1.19706664e+00,\n",
              "         -1.19195255e+00, -1.18686944e+00, -1.18181682e+00, -1.17679419e+00,\n",
              "         -1.17180107e+00, -1.16683699e+00, -1.16190151e+00, -1.15699416e+00,\n",
              "         -1.15211453e+00, -1.14726217e+00, -1.14243667e+00, -1.13763763e+00,\n",
              "         -1.13286465e+00, -1.12811734e+00, -1.12339532e+00, -1.11869822e+00,\n",
              "         -1.11402566e+00, -1.10937731e+00, -1.10475280e+00, -1.10015180e+00,\n",
              "         -1.09557397e+00, -1.09101899e+00, -1.08648653e+00, -1.08197628e+00,\n",
              "         -1.07748793e+00, -1.07302119e+00, -1.06857575e+00, -1.06415133e+00,\n",
              "         -1.05974765e+00, -1.05536442e+00, -1.05100137e+00, -1.04665824e+00,\n",
              "         -1.04233476e+00, -1.03803068e+00, -1.03374574e+00, -1.02947970e+00,\n",
              "         -1.02523232e+00, -1.02100335e+00, -1.01679256e+00, -1.01259972e+00,\n",
              "         -1.00842461e+00, -1.00426700e+00, -1.00012668e+00, -9.96003439e-01,\n",
              "         -9.91897058e-01, -9.87807334e-01, -9.83734067e-01, -9.79677056e-01,\n",
              "         -9.75636106e-01, -9.71611024e-01, -9.67601623e-01, -9.63607717e-01,\n",
              "         -9.59629122e-01, -9.55665660e-01, -9.51717154e-01, -9.47783430e-01,\n",
              "         -9.43864319e-01, -9.39959651e-01, -9.36069261e-01, -9.32192988e-01,\n",
              "         -9.28330671e-01, -9.24482153e-01, -9.20647280e-01, -9.16825898e-01,\n",
              "         -9.13017857e-01, -9.09223011e-01, -9.05441213e-01, -9.01672321e-01,\n",
              "         -8.97916193e-01, -8.94172691e-01, -8.90441678e-01, -8.86723020e-01,\n",
              "         -8.83016583e-01, -8.79322237e-01, -8.75639853e-01, -8.71969305e-01,\n",
              "         -8.68310468e-01, -8.64663218e-01, -8.61027434e-01, -8.57402996e-01,\n",
              "         -8.53789787e-01, -8.50187690e-01, -8.46596591e-01, -8.43016376e-01,\n",
              "         -8.39446935e-01, -8.35888157e-01, -8.32339934e-01, -8.28802160e-01,\n",
              "         -8.25274728e-01, -8.21757535e-01, -8.18250479e-01, -8.14753457e-01,\n",
              "         -8.11266372e-01, -8.07789123e-01, -8.04321614e-01, -8.00863750e-01,\n",
              "         -7.97415434e-01, -7.93976575e-01, -7.90547079e-01, -7.87126857e-01,\n",
              "         -7.83715817e-01, -7.80313872e-01, -7.76920933e-01, -7.73536915e-01,\n",
              "         -7.70161733e-01, -7.66795301e-01, -7.63437536e-01, -7.60088358e-01,\n",
              "         -7.56747683e-01, -7.53415433e-01, -7.50091527e-01, -7.46775888e-01,\n",
              "         -7.43468439e-01, -7.40169103e-01, -7.36877804e-01, -7.33594468e-01,\n",
              "         -7.30319022e-01, -7.27051392e-01, -7.23791507e-01, -7.20539295e-01,\n",
              "         -7.17294687e-01, -7.14057613e-01, -7.10828003e-01, -7.07605791e-01,\n",
              "         -7.04390909e-01, -7.01183291e-01, -6.97982871e-01, -6.94789584e-01,\n",
              "         -6.91603367e-01, -6.88424155e-01, -6.85251886e-01, -6.82086498e-01,\n",
              "         -6.78927930e-01, -6.75776120e-01, -6.72631010e-01, -6.69492539e-01,\n",
              "         -6.66360648e-01, -6.63235280e-01, -6.60116377e-01, -6.57003883e-01,\n",
              "         -6.53897740e-01, -6.50797893e-01, -6.47704287e-01, -6.44616868e-01,\n",
              "         -6.41535581e-01, -6.38460373e-01, -6.35391191e-01, -6.32327983e-01,\n",
              "         -6.29270697e-01, -6.26219281e-01, -6.23173684e-01, -6.20133858e-01,\n",
              "         -6.17099750e-01, -6.14071313e-01, -6.11048498e-01, -6.08031256e-01,\n",
              "         -6.05019539e-01, -6.02013299e-01, -5.99012491e-01, -5.96017067e-01,\n",
              "         -5.93026981e-01, -5.90042188e-01, -5.87062643e-01, -5.84088300e-01,\n",
              "         -5.81119115e-01, -5.78155045e-01, -5.75196045e-01, -5.72242074e-01,\n",
              "         -5.69293087e-01, -5.66349043e-01, -5.63409899e-01, -5.60475614e-01,\n",
              "         -5.57546147e-01, -5.54621458e-01, -5.51701504e-01, -5.48786247e-01,\n",
              "         -5.45875647e-01, -5.42969663e-01, -5.40068258e-01, -5.37171392e-01,\n",
              "         -5.34279026e-01, -5.31391124e-01, -5.28507646e-01, -5.25628557e-01,\n",
              "         -5.22753817e-01, -5.19883391e-01, -5.17017243e-01, -5.14155335e-01,\n",
              "         -5.11297632e-01, -5.08444099e-01, -5.05594699e-01, -5.02749399e-01,\n",
              "         -4.99908163e-01, -4.97070957e-01, -4.94237747e-01, -4.91408498e-01,\n",
              "         -4.88583178e-01, -4.85761752e-01, -4.82944188e-01, -4.80130452e-01,\n",
              "         -4.77320513e-01, -4.74514337e-01, -4.71711893e-01, -4.68913149e-01,\n",
              "         -4.66118073e-01, -4.63326634e-01, -4.60538801e-01, -4.57754542e-01,\n",
              "         -4.54973827e-01, -4.52196626e-01, -4.49422908e-01, -4.46652644e-01,\n",
              "         -4.43885803e-01, -4.41122356e-01, -4.38362274e-01, -4.35605527e-01,\n",
              "         -4.32852086e-01, -4.30101924e-01, -4.27355010e-01, -4.24611318e-01,\n",
              "         -4.21870818e-01, -4.19133483e-01, -4.16399284e-01, -4.13668196e-01,\n",
              "         -4.10940189e-01, -4.08215237e-01, -4.05493313e-01, -4.02774389e-01,\n",
              "         -4.00058440e-01, -3.97345439e-01, -3.94635359e-01, -3.91928175e-01,\n",
              "         -3.89223860e-01, -3.86522388e-01, -3.83823735e-01, -3.81127874e-01,\n",
              "         -3.78434779e-01, -3.75744427e-01, -3.73056792e-01, -3.70371848e-01,\n",
              "         -3.67689572e-01, -3.65009939e-01, -3.62332924e-01, -3.59658504e-01,\n",
              "         -3.56986653e-01, -3.54317348e-01, -3.51650566e-01, -3.48986282e-01,\n",
              "         -3.46324472e-01, -3.43665115e-01, -3.41008186e-01, -3.38353661e-01,\n",
              "         -3.35701519e-01, -3.33051736e-01, -3.30404290e-01, -3.27759157e-01,\n",
              "         -3.25116316e-01, -3.22475743e-01, -3.19837417e-01, -3.17201315e-01,\n",
              "         -3.14567416e-01, -3.11935698e-01, -3.09306138e-01, -3.06678715e-01,\n",
              "         -3.04053407e-01, -3.01430193e-01, -2.98809052e-01, -2.96189962e-01,\n",
              "         -2.93572903e-01, -2.90957852e-01, -2.88344790e-01, -2.85733695e-01,\n",
              "         -2.83124547e-01, -2.80517325e-01, -2.77912008e-01, -2.75308576e-01,\n",
              "         -2.72707009e-01, -2.70107286e-01, -2.67509388e-01, -2.64913294e-01,\n",
              "         -2.62318984e-01, -2.59726438e-01, -2.57135637e-01, -2.54546561e-01,\n",
              "         -2.51959189e-01, -2.49373504e-01, -2.46789484e-01, -2.44207112e-01,\n",
              "         -2.41626367e-01, -2.39047230e-01, -2.36469683e-01, -2.33893705e-01,\n",
              "         -2.31319279e-01, -2.28746384e-01, -2.26175004e-01, -2.23605117e-01,\n",
              "         -2.21036707e-01, -2.18469754e-01, -2.15904240e-01, -2.13340146e-01,\n",
              "         -2.10777454e-01, -2.08216145e-01, -2.05656202e-01, -2.03097605e-01,\n",
              "         -2.00540338e-01, -1.97984381e-01, -1.95429717e-01, -1.92876328e-01,\n",
              "         -1.90324196e-01, -1.87773302e-01, -1.85223630e-01, -1.82675162e-01,\n",
              "         -1.80127879e-01, -1.77581765e-01, -1.75036802e-01, -1.72492971e-01,\n",
              "         -1.69950256e-01, -1.67408640e-01, -1.64868105e-01, -1.62328633e-01,\n",
              "         -1.59790208e-01, -1.57252812e-01, -1.54716428e-01, -1.52181038e-01,\n",
              "         -1.49646627e-01, -1.47113177e-01, -1.44580670e-01, -1.42049091e-01,\n",
              "         -1.39518421e-01, -1.36988645e-01, -1.34459745e-01, -1.31931705e-01,\n",
              "         -1.29404507e-01, -1.26878136e-01, -1.24352575e-01, -1.21827806e-01,\n",
              "         -1.19303813e-01, -1.16780581e-01, -1.14258092e-01, -1.11736329e-01,\n",
              "         -1.09215277e-01, -1.06694919e-01, -1.04175238e-01, -1.01656219e-01,\n",
              "         -9.91378445e-02, -9.66200987e-02, -9.41029651e-02, -9.15864277e-02,\n",
              "         -8.90704701e-02, -8.65550762e-02, -8.40402299e-02, -8.15259149e-02,\n",
              "         -7.90121153e-02, -7.64988148e-02, -7.39859974e-02, -7.14736472e-02,\n",
              "         -6.89617480e-02, -6.64502838e-02, -6.39392387e-02, -6.14285967e-02,\n",
              "         -5.89183419e-02, -5.64084582e-02, -5.38989299e-02, -5.13897409e-02,\n",
              "         -4.88808755e-02, -4.63723177e-02, -4.38640516e-02, -4.13560616e-02,\n",
              "         -3.88483316e-02, -3.63408459e-02, -3.38335886e-02, -3.13265441e-02,\n",
              "         -2.88196964e-02, -2.63130298e-02, -2.38065286e-02, -2.13001769e-02,\n",
              "         -1.87939590e-02, -1.62878591e-02, -1.37818616e-02, -1.12759505e-02,\n",
              "         -8.77011034e-03, -6.26432519e-03, -3.75857938e-03, -1.25285717e-03,\n",
              "          1.25285717e-03,  3.75857938e-03,  6.26432519e-03,  8.77011034e-03,\n",
              "          1.12759505e-02,  1.37818616e-02,  1.62878591e-02,  1.87939590e-02,\n",
              "          2.13001769e-02,  2.38065286e-02,  2.63130298e-02,  2.88196964e-02,\n",
              "          3.13265441e-02,  3.38335886e-02,  3.63408459e-02,  3.88483316e-02,\n",
              "          4.13560616e-02,  4.38640516e-02,  4.63723177e-02,  4.88808755e-02,\n",
              "          5.13897409e-02,  5.38989299e-02,  5.64084582e-02,  5.89183419e-02,\n",
              "          6.14285967e-02,  6.39392387e-02,  6.64502838e-02,  6.89617480e-02,\n",
              "          7.14736472e-02,  7.39859974e-02,  7.64988148e-02,  7.90121153e-02,\n",
              "          8.15259149e-02,  8.40402299e-02,  8.65550762e-02,  8.90704701e-02,\n",
              "          9.15864277e-02,  9.41029651e-02,  9.66200987e-02,  9.91378445e-02,\n",
              "          1.01656219e-01,  1.04175238e-01,  1.06694919e-01,  1.09215277e-01,\n",
              "          1.11736329e-01,  1.14258092e-01,  1.16780581e-01,  1.19303813e-01,\n",
              "          1.21827806e-01,  1.24352575e-01,  1.26878136e-01,  1.29404507e-01,\n",
              "          1.31931705e-01,  1.34459745e-01,  1.36988645e-01,  1.39518421e-01,\n",
              "          1.42049091e-01,  1.44580670e-01,  1.47113177e-01,  1.49646627e-01,\n",
              "          1.52181038e-01,  1.54716428e-01,  1.57252812e-01,  1.59790208e-01,\n",
              "          1.62328633e-01,  1.64868105e-01,  1.67408640e-01,  1.69950256e-01,\n",
              "          1.72492971e-01,  1.75036802e-01,  1.77581765e-01,  1.80127879e-01,\n",
              "          1.82675162e-01,  1.85223630e-01,  1.87773302e-01,  1.90324196e-01,\n",
              "          1.92876328e-01,  1.95429717e-01,  1.97984381e-01,  2.00540338e-01,\n",
              "          2.03097605e-01,  2.05656202e-01,  2.08216145e-01,  2.10777454e-01,\n",
              "          2.13340146e-01,  2.15904240e-01,  2.18469754e-01,  2.21036707e-01,\n",
              "          2.23605117e-01,  2.26175004e-01,  2.28746384e-01,  2.31319279e-01,\n",
              "          2.33893705e-01,  2.36469683e-01,  2.39047230e-01,  2.41626367e-01,\n",
              "          2.44207112e-01,  2.46789484e-01,  2.49373504e-01,  2.51959189e-01,\n",
              "          2.54546561e-01,  2.57135637e-01,  2.59726438e-01,  2.62318984e-01,\n",
              "          2.64913294e-01,  2.67509388e-01,  2.70107286e-01,  2.72707009e-01,\n",
              "          2.75308576e-01,  2.77912008e-01,  2.80517325e-01,  2.83124547e-01,\n",
              "          2.85733695e-01,  2.88344790e-01,  2.90957852e-01,  2.93572903e-01,\n",
              "          2.96189962e-01,  2.98809052e-01,  3.01430193e-01,  3.04053407e-01,\n",
              "          3.06678715e-01,  3.09306138e-01,  3.11935698e-01,  3.14567416e-01,\n",
              "          3.17201315e-01,  3.19837417e-01,  3.22475743e-01,  3.25116316e-01,\n",
              "          3.27759157e-01,  3.30404290e-01,  3.33051736e-01,  3.35701519e-01,\n",
              "          3.38353661e-01,  3.41008186e-01,  3.43665115e-01,  3.46324472e-01,\n",
              "          3.48986282e-01,  3.51650566e-01,  3.54317348e-01,  3.56986653e-01,\n",
              "          3.59658504e-01,  3.62332924e-01,  3.65009939e-01,  3.67689572e-01,\n",
              "          3.70371848e-01,  3.73056792e-01,  3.75744427e-01,  3.78434779e-01,\n",
              "          3.81127874e-01,  3.83823735e-01,  3.86522388e-01,  3.89223860e-01,\n",
              "          3.91928175e-01,  3.94635359e-01,  3.97345439e-01,  4.00058440e-01,\n",
              "          4.02774389e-01,  4.05493313e-01,  4.08215237e-01,  4.10940189e-01,\n",
              "          4.13668196e-01,  4.16399284e-01,  4.19133483e-01,  4.21870818e-01,\n",
              "          4.24611318e-01,  4.27355010e-01,  4.30101924e-01,  4.32852086e-01,\n",
              "          4.35605527e-01,  4.38362274e-01,  4.41122356e-01,  4.43885803e-01,\n",
              "          4.46652644e-01,  4.49422908e-01,  4.52196626e-01,  4.54973827e-01,\n",
              "          4.57754542e-01,  4.60538801e-01,  4.63326634e-01,  4.66118073e-01,\n",
              "          4.68913149e-01,  4.71711893e-01,  4.74514337e-01,  4.77320513e-01,\n",
              "          4.80130452e-01,  4.82944188e-01,  4.85761752e-01,  4.88583178e-01,\n",
              "          4.91408498e-01,  4.94237747e-01,  4.97070957e-01,  4.99908163e-01,\n",
              "          5.02749399e-01,  5.05594699e-01,  5.08444099e-01,  5.11297632e-01,\n",
              "          5.14155335e-01,  5.17017243e-01,  5.19883391e-01,  5.22753817e-01,\n",
              "          5.25628557e-01,  5.28507646e-01,  5.31391124e-01,  5.34279026e-01,\n",
              "          5.37171392e-01,  5.40068258e-01,  5.42969663e-01,  5.45875647e-01,\n",
              "          5.48786247e-01,  5.51701504e-01,  5.54621458e-01,  5.57546147e-01,\n",
              "          5.60475614e-01,  5.63409899e-01,  5.66349043e-01,  5.69293087e-01,\n",
              "          5.72242074e-01,  5.75196045e-01,  5.78155045e-01,  5.81119115e-01,\n",
              "          5.84088300e-01,  5.87062643e-01,  5.90042188e-01,  5.93026981e-01,\n",
              "          5.96017067e-01,  5.99012491e-01,  6.02013299e-01,  6.05019539e-01,\n",
              "          6.08031256e-01,  6.11048498e-01,  6.14071313e-01,  6.17099750e-01,\n",
              "          6.20133858e-01,  6.23173684e-01,  6.26219281e-01,  6.29270697e-01,\n",
              "          6.32327983e-01,  6.35391191e-01,  6.38460373e-01,  6.41535581e-01,\n",
              "          6.44616868e-01,  6.47704287e-01,  6.50797893e-01,  6.53897740e-01,\n",
              "          6.57003883e-01,  6.60116377e-01,  6.63235280e-01,  6.66360648e-01,\n",
              "          6.69492539e-01,  6.72631010e-01,  6.75776120e-01,  6.78927930e-01,\n",
              "          6.82086498e-01,  6.85251886e-01,  6.88424155e-01,  6.91603367e-01,\n",
              "          6.94789584e-01,  6.97982871e-01,  7.01183291e-01,  7.04390909e-01,\n",
              "          7.07605791e-01,  7.10828003e-01,  7.14057613e-01,  7.17294687e-01,\n",
              "          7.20539295e-01,  7.23791507e-01,  7.27051392e-01,  7.30319022e-01,\n",
              "          7.33594468e-01,  7.36877804e-01,  7.40169103e-01,  7.43468439e-01,\n",
              "          7.46775888e-01,  7.50091527e-01,  7.53415433e-01,  7.56747683e-01,\n",
              "          7.60088358e-01,  7.63437536e-01,  7.66795301e-01,  7.70161733e-01,\n",
              "          7.73536915e-01,  7.76920933e-01,  7.80313872e-01,  7.83715817e-01,\n",
              "          7.87126857e-01,  7.90547079e-01,  7.93976575e-01,  7.97415434e-01,\n",
              "          8.00863750e-01,  8.04321614e-01,  8.07789123e-01,  8.11266372e-01,\n",
              "          8.14753457e-01,  8.18250479e-01,  8.21757535e-01,  8.25274728e-01,\n",
              "          8.28802160e-01,  8.32339934e-01,  8.35888157e-01,  8.39446935e-01,\n",
              "          8.43016376e-01,  8.46596591e-01,  8.50187690e-01,  8.53789787e-01,\n",
              "          8.57402996e-01,  8.61027434e-01,  8.64663218e-01,  8.68310468e-01,\n",
              "          8.71969305e-01,  8.75639853e-01,  8.79322237e-01,  8.83016583e-01,\n",
              "          8.86723020e-01,  8.90441678e-01,  8.94172691e-01,  8.97916193e-01,\n",
              "          9.01672321e-01,  9.05441213e-01,  9.09223011e-01,  9.13017857e-01,\n",
              "          9.16825898e-01,  9.20647280e-01,  9.24482153e-01,  9.28330671e-01,\n",
              "          9.32192988e-01,  9.36069261e-01,  9.39959651e-01,  9.43864319e-01,\n",
              "          9.47783430e-01,  9.51717154e-01,  9.55665660e-01,  9.59629122e-01,\n",
              "          9.63607717e-01,  9.67601623e-01,  9.71611024e-01,  9.75636106e-01,\n",
              "          9.79677056e-01,  9.83734067e-01,  9.87807334e-01,  9.91897058e-01,\n",
              "          9.96003439e-01,  1.00012668e+00,  1.00426700e+00,  1.00842461e+00,\n",
              "          1.01259972e+00,  1.01679256e+00,  1.02100335e+00,  1.02523232e+00,\n",
              "          1.02947970e+00,  1.03374574e+00,  1.03803068e+00,  1.04233476e+00,\n",
              "          1.04665824e+00,  1.05100137e+00,  1.05536442e+00,  1.05974765e+00,\n",
              "          1.06415133e+00,  1.06857575e+00,  1.07302119e+00,  1.07748793e+00,\n",
              "          1.08197628e+00,  1.08648653e+00,  1.09101899e+00,  1.09557397e+00,\n",
              "          1.10015180e+00,  1.10475280e+00,  1.10937731e+00,  1.11402566e+00,\n",
              "          1.11869822e+00,  1.12339532e+00,  1.12811734e+00,  1.13286465e+00,\n",
              "          1.13763763e+00,  1.14243667e+00,  1.14726217e+00,  1.15211453e+00,\n",
              "          1.15699416e+00,  1.16190151e+00,  1.16683699e+00,  1.17180107e+00,\n",
              "          1.17679419e+00,  1.18181682e+00,  1.18686944e+00,  1.19195255e+00,\n",
              "          1.19706664e+00,  1.20221223e+00,  1.20738985e+00,  1.21260004e+00,\n",
              "          1.21784337e+00,  1.22312038e+00,  1.22843168e+00,  1.23377786e+00,\n",
              "          1.23915954e+00,  1.24457735e+00,  1.25003194e+00,  1.25552398e+00,\n",
              "          1.26105415e+00,  1.26662315e+00,  1.27223172e+00,  1.27788060e+00,\n",
              "          1.28357055e+00,  1.28930237e+00,  1.29507686e+00,  1.30089485e+00,\n",
              "          1.30675722e+00,  1.31266485e+00,  1.31861865e+00,  1.32461956e+00,\n",
              "          1.33066855e+00,  1.33676663e+00,  1.34291482e+00,  1.34911421e+00,\n",
              "          1.35536588e+00,  1.36167098e+00,  1.36803067e+00,  1.37444619e+00,\n",
              "          1.38091878e+00,  1.38744975e+00,  1.39404044e+00,  1.40069224e+00,\n",
              "          1.40740661e+00,  1.41418503e+00,  1.42102906e+00,  1.42794030e+00,\n",
              "          1.43492043e+00,  1.44197119e+00,  1.44909437e+00,  1.45629184e+00,\n",
              "          1.46356555e+00,  1.47091753e+00,  1.47834989e+00,  1.48586482e+00,\n",
              "          1.49346462e+00,  1.50115166e+00,  1.50892845e+00,  1.51679758e+00,\n",
              "          1.52476177e+00,  1.53282387e+00,  1.54098684e+00,  1.54925381e+00,\n",
              "          1.55762804e+00,  1.56611295e+00,  1.57471213e+00,  1.58342935e+00,\n",
              "          1.59226859e+00,  1.60123402e+00,  1.61033003e+00,  1.61956127e+00,\n",
              "          1.62893261e+00,  1.63844924e+00,  1.64811661e+00,  1.65794051e+00,\n",
              "          1.66792707e+00,  1.67808281e+00,  1.68841463e+00,  1.69892989e+00,\n",
              "          1.70963644e+00,  1.72054262e+00,  1.73165738e+00,  1.74299028e+00,\n",
              "          1.75455157e+00,  1.76635224e+00,  1.77840415e+00,  1.79072004e+00,\n",
              "          1.80331371e+00,  1.81620005e+00,  1.82939524e+00,  1.84291686e+00,\n",
              "          1.85678408e+00,  1.87101783e+00,  1.88564107e+00,  1.90067901e+00,\n",
              "          1.91615948e+00,  1.93211325e+00,  1.94857451e+00,  1.96558137e+00,\n",
              "          1.98317650e+00,  2.00140792e+00,  2.02032992e+00,  2.04000420e+00,\n",
              "          2.06050135e+00,  2.08190261e+00,  2.10430217e+00,  2.12781017e+00,\n",
              "          2.15255643e+00,  2.17869564e+00,  2.20641415e+00,  2.23593934e+00,\n",
              "          2.26755284e+00,  2.30160949e+00,  2.33856546e+00,  2.37902149e+00,\n",
              "          2.42379214e+00,  2.47402263e+00,  2.53139899e+00,  2.59855946e+00,\n",
              "          2.67999560e+00,  2.78437841e+00,  2.93237785e+00,  3.19758950e+00]),\n",
              "  array([ 7093.65,  7243.44,  7378.46,  7426.19,  7440.74,  7471.77,\n",
              "          7513.49,  7538.88,  7559.93,  7563.71,  7576.03,  7591.19,\n",
              "          7601.38,  7605.85,  7621.63,  7622.58,  7631.18,  7632.91,\n",
              "          7659.34,  7704.93,  7736.43,  7761.27,  7764.28,  7765.69,\n",
              "          7773.06,  7783.55,  7788.47,  7804.53,  7812.25,  7824.69,\n",
              "          7825.47,  7830.4 ,  7843.88,  7846.09,  7851.94,  7853.76,\n",
              "          7858.78,  7870.31,  7871.54,  7873.67,  7874.38,  7894.08,\n",
              "          7894.17,  7908.06,  7912.37,  7915.88,  7918.95,  7920.77,\n",
              "          7924.55,  7925.36,  7925.73,  7928.75,  7929.55,  7930.98,\n",
              "          7933.1 ,  7937.25,  7938.93,  7943.8 ,  7944.79,  7953.76,\n",
              "          7954.11,  7964.01,  7971.3 ,  7991.13,  7995.92,  8002.36,\n",
              "          8003.35,  8014.09,  8019.75,  8020.08,  8026.04,  8028.59,\n",
              "          8033.59,  8038.3 ,  8040.33,  8046.14,  8046.99,  8049.1 ,\n",
              "          8050.28,  8050.53,  8051.92,  8053.12,  8054.39,  8054.69,\n",
              "          8059.65,  8059.7 ,  8061.75,  8066.04,  8066.99,  8068.96,\n",
              "          8073.01,  8082.38,  8086.04,  8086.28,  8090.26,  8099.07,\n",
              "          8104.58,  8107.21,  8111.19,  8113.79,  8116.82,  8126.  ,\n",
              "          8128.45,  8129.08,  8129.54,  8132.33,  8133.46,  8133.68,\n",
              "          8137.91,  8138.04,  8140.76,  8145.04,  8146.26,  8148.3 ,\n",
              "          8158.6 ,  8161.51,  8170.06,  8170.7 ,  8171.68,  8172.17,\n",
              "          8173.5 ,  8177.26,  8179.02,  8179.33,  8185.3 ,  8185.83,\n",
              "          8187.55,  8187.89,  8190.3 ,  8194.26,  8195.97,  8198.28,\n",
              "          8198.66,  8199.35,  8204.02,  8210.67,  8212.26,  8212.86,\n",
              "          8215.39,  8219.16,  8219.65,  8225.69,  8226.09,  8227.27,\n",
              "          8227.53,  8228.12,  8230.02,  8235.19,  8235.67,  8236.85,\n",
              "          8242.85,  8246.97,  8249.1 ,  8250.02,  8250.28,  8254.18,\n",
              "          8255.42,  8257.31,  8259.  ,  8261.36,  8265.1 ,  8267.39,\n",
              "          8269.97,  8270.1 ,  8270.15,  8270.92,  8272.14,  8274.71,\n",
              "          8275.16,  8276.18,  8278.29,  8279.16,  8279.51,  8280.86,\n",
              "          8281.37,  8282.75,  8286.3 ,  8286.98,  8288.08,  8290.9 ,\n",
              "          8292.67,  8293.17,  8294.22,  8295.89,  8298.55,  8302.15,\n",
              "          8303.06,  8308.74,  8315.99,  8318.33,  8322.05,  8323.45,\n",
              "          8323.77,  8324.9 ,  8325.87,  8326.96,  8329.46,  8329.98,\n",
              "          8333.56,  8333.65,  8335.05,  8342.6 ,  8343.56,  8344.95,\n",
              "          8345.09,  8347.37,  8348.25,  8348.25,  8350.97,  8351.  ,\n",
              "          8351.86,  8352.52,  8358.49,  8359.88,  8360.39,  8361.49,\n",
              "          8361.81,  8361.89,  8362.43,  8363.81,  8365.35,  8367.7 ,\n",
              "          8369.04,  8370.48,  8372.55,  8372.94,  8373.1 ,  8373.31,\n",
              "          8376.54,  8379.27,  8379.62,  8380.33,  8382.94,  8383.72,\n",
              "          8383.8 ,  8384.5 ,  8384.64,  8385.75,  8385.99,  8389.5 ,\n",
              "          8393.21,  8394.89,  8397.7 ,  8397.83,  8398.8 ,  8399.52,\n",
              "          8401.17,  8402.21,  8403.16,  8404.58,  8405.93,  8408.3 ,\n",
              "          8411.41,  8412.58,  8413.06,  8413.51,  8413.56,  8416.14,\n",
              "          8418.64,  8418.79,  8422.25,  8424.25,  8427.85,  8430.59,\n",
              "          8433.1 ,  8433.42,  8434.35,  8434.94,  8435.08,  8437.26,\n",
              "          8437.43,  8440.51,  8440.79,  8441.7 ,  8445.49,  8447.26,\n",
              "          8449.62,  8451.56,  8452.84,  8453.13,  8454.16,  8454.98,\n",
              "          8455.15,  8456.81,  8460.65,  8461.14,  8463.  ,  8464.24,\n",
              "          8464.48,  8466.27,  8467.22,  8467.85,  8470.54,  8471.14,\n",
              "          8473.27,  8475.03,  8479.01,  8480.42,  8480.75,  8481.05,\n",
              "          8481.15,  8481.2 ,  8481.95,  8482.24,  8482.33,  8487.26,\n",
              "          8490.39,  8492.73,  8496.27,  8496.29,  8496.92,  8500.31,\n",
              "          8502.27,  8503.28,  8503.89,  8504.02,  8505.27,  8505.78,\n",
              "          8506.07,  8506.49,  8506.88,  8511.43,  8513.01,  8513.36,\n",
              "          8514.54,  8514.77,  8515.27,  8516.36,  8516.52,  8516.88,\n",
              "          8519.57,  8520.09,  8520.11,  8520.73,  8522.88,  8523.23,\n",
              "          8523.76,  8524.02,  8526.04,  8526.37,  8526.57,  8528.46,\n",
              "          8530.18,  8530.72,  8531.18,  8534.37,  8534.83,  8537.14,\n",
              "          8538.21,  8539.42,  8539.66,  8541.97,  8543.41,  8545.98,\n",
              "          8547.91,  8548.39,  8548.92,  8549.05,  8551.98,  8553.59,\n",
              "          8555.37,  8555.59,  8556.15,  8558.45,  8560.09,  8560.65,\n",
              "          8563.27,  8564.72,  8566.56,  8567.58,  8570.55,  8570.87,\n",
              "          8570.95,  8571.42,  8573.42,  8573.44,  8574.1 ,  8574.21,\n",
              "          8576.37,  8576.46,  8576.51,  8576.64,  8577.88,  8579.55,\n",
              "          8581.2 ,  8581.38,  8582.31,  8582.96,  8585.92,  8587.97,\n",
              "          8590.37,  8593.85,  8594.37,  8594.47,  8594.68,  8595.56,\n",
              "          8597.66,  8600.09,  8600.59,  8601.18,  8605.45,  8607.82,\n",
              "          8608.16,  8608.42,  8609.32,  8610.42,  8610.98,  8611.3 ,\n",
              "          8611.36,  8611.6 ,  8613.05,  8613.78,  8614.07,  8614.87,\n",
              "          8615.29,  8621.47,  8621.97,  8622.09,  8622.63,  8623.13,\n",
              "          8624.45,  8626.83,  8627.25,  8627.87,  8627.9 ,  8628.03,\n",
              "          8632.48,  8633.76,  8635.04,  8635.06,  8635.63,  8636.41,\n",
              "          8636.54,  8637.11,  8638.  ,  8638.52,  8638.92,  8639.86,\n",
              "          8643.72,  8644.36,  8645.01,  8645.25,  8646.99,  8648.12,\n",
              "          8648.95,  8650.47,  8651.09,  8651.19,  8660.41,  8661.92,\n",
              "          8662.34,  8662.59,  8663.7 ,  8663.74,  8664.09,  8664.52,\n",
              "          8664.56,  8666.93,  8667.85,  8668.93,  8669.39,  8669.83,\n",
              "          8672.08,  8672.29,  8675.03,  8675.25,  8675.34,  8681.65,\n",
              "          8685.44,  8686.69,  8687.09,  8687.27,  8688.28,  8689.17,\n",
              "          8689.21,  8689.43,  8690.73,  8691.54,  8696.61,  8700.91,\n",
              "          8702.99,  8704.73,  8705.65,  8706.59,  8714.12,  8715.05,\n",
              "          8715.07,  8717.72,  8717.99,  8719.7 ,  8719.84,  8720.92,\n",
              "          8728.21,  8728.79,  8729.06,  8729.35,  8730.97,  8731.71,\n",
              "          8731.82,  8734.1 ,  8735.32,  8736.91,  8740.27,  8740.56,\n",
              "          8740.81,  8741.61,  8745.21,  8746.62,  8749.12,  8749.47,\n",
              "          8750.65,  8750.73,  8752.15,  8753.44,  8754.29,  8757.17,\n",
              "          8759.02,  8759.93,  8759.95,  8759.98,  8760.3 ,  8760.52,\n",
              "          8760.99,  8761.03,  8761.66,  8762.05,  8762.23,  8763.12,\n",
              "          8763.31,  8763.7 ,  8764.91,  8766.51,  8767.7 ,  8767.99,\n",
              "          8771.43,  8772.11,  8774.08,  8774.31,  8774.51,  8777.04,\n",
              "          8778.18,  8779.68,  8780.09,  8781.07,  8784.93,  8785.93,\n",
              "          8787.74,  8788.25,  8789.43,  8789.65,  8790.34,  8790.62,\n",
              "          8794.83,  8794.91,  8795.46,  8800.2 ,  8800.28,  8800.52,\n",
              "          8803.3 ,  8804.  ,  8804.91,  8807.41,  8807.49,  8808.73,\n",
              "          8809.28,  8809.92,  8810.17,  8810.32,  8813.27,  8813.45,\n",
              "          8814.4 ,  8819.1 ,  8819.17,  8819.92,  8821.83,  8823.78,\n",
              "          8824.15,  8825.57,  8827.  ,  8827.65,  8828.37,  8831.8 ,\n",
              "          8832.03,  8832.97,  8833.09,  8836.39,  8836.55,  8840.38,\n",
              "          8840.62,  8840.66,  8841.24,  8842.2 ,  8843.61,  8844.32,\n",
              "          8846.33,  8847.51,  8848.29,  8848.65,  8849.04,  8850.46,\n",
              "          8851.38,  8853.34,  8853.76,  8854.78,  8855.46,  8855.91,\n",
              "          8856.21,  8859.73,  8860.69,  8861.68,  8863.14,  8864.19,\n",
              "          8865.74,  8866.02,  8867.28,  8868.17,  8869.34,  8872.66,\n",
              "          8873.11,  8875.61,  8876.75,  8878.49,  8879.43,  8881.72,\n",
              "          8882.9 ,  8885.31,  8885.75,  8887.06,  8887.37,  8888.8 ,\n",
              "          8890.22,  8892.72,  8892.8 ,  8894.31,  8894.52,  8894.66,\n",
              "          8896.68,  8896.86,  8897.45,  8897.47,  8898.64,  8899.18,\n",
              "          8900.2 ,  8902.42,  8902.86,  8903.8 ,  8904.87,  8905.96,\n",
              "          8907.43,  8908.89,  8910.01,  8910.2 ,  8912.41,  8914.24,\n",
              "          8916.16,  8916.42,  8920.15,  8920.23,  8922.  ,  8922.36,\n",
              "          8926.53,  8929.26,  8929.83,  8930.01,  8936.78,  8938.85,\n",
              "          8940.04,  8942.63,  8943.79,  8943.85,  8944.51,  8945.33,\n",
              "          8946.29,  8946.98,  8947.58,  8947.71,  8948.26,  8949.15,\n",
              "          8951.98,  8955.07,  8955.24,  8957.16,  8959.75,  8959.91,\n",
              "          8961.36,  8964.97,  8967.07,  8967.73,  8969.22,  8970.79,\n",
              "          8979.62,  8981.27,  8981.37,  8981.94,  8982.39,  8982.68,\n",
              "          8984.02,  8985.66,  8987.71,  8990.16,  8993.51,  8994.82,\n",
              "          8995.53,  8995.71,  8998.69,  9000.06,  9001.98,  9002.21,\n",
              "          9006.66,  9010.45,  9011.09,  9011.22,  9011.46,  9018.97,\n",
              "          9021.8 ,  9023.49,  9023.68,  9023.83,  9024.03,  9025.24,\n",
              "          9025.87,  9027.27,  9030.85,  9032.57,  9036.75,  9037.56,\n",
              "          9038.02,  9038.25,  9038.58,  9039.53,  9040.11,  9040.71,\n",
              "          9041.69,  9041.83,  9044.94,  9048.87,  9049.53,  9050.38,\n",
              "          9050.88,  9052.46,  9052.92,  9053.04,  9053.07,  9054.3 ,\n",
              "          9054.42,  9054.59,  9056.05,  9057.01,  9058.49,  9060.88,\n",
              "          9062.23,  9065.  ,  9066.23,  9066.54,  9069.4 ,  9070.63,\n",
              "          9071.43,  9077.92,  9078.16,  9078.18,  9078.38,  9081.62,\n",
              "          9082.33,  9083.46,  9083.66,  9086.75,  9088.77,  9093.51,\n",
              "          9094.04,  9094.13,  9096.3 ,  9096.31,  9097.59,  9100.79,\n",
              "          9101.7 ,  9105.45,  9107.85,  9109.83,  9111.06,  9111.39,\n",
              "          9111.93,  9112.32,  9112.54,  9118.04,  9121.82,  9126.52,\n",
              "          9130.49,  9133.51,  9134.31,  9134.43,  9135.13,  9141.75,\n",
              "          9141.99,  9144.1 ,  9145.38,  9146.46,  9153.66,  9153.9 ,\n",
              "          9153.97,  9156.  ,  9156.99,  9158.43,  9159.67,  9160.08,\n",
              "          9162.49,  9167.47,  9168.23,  9170.51,  9171.35,  9171.38,\n",
              "          9172.28,  9180.32,  9180.5 ,  9181.06,  9182.75,  9185.16,\n",
              "          9186.64,  9186.91,  9188.28,  9190.13,  9190.62,  9191.43,\n",
              "          9191.45,  9193.59,  9195.98,  9200.01,  9201.65,  9206.  ,\n",
              "          9210.81,  9212.43,  9214.64,  9217.6 ,  9221.44,  9226.18,\n",
              "          9230.06,  9230.81,  9231.27,  9236.39,  9239.68,  9240.79,\n",
              "          9241.01,  9249.95,  9250.72,  9253.28,  9255.75,  9256.03,\n",
              "          9256.77,  9259.89,  9265.32,  9265.77,  9268.77,  9269.01,\n",
              "          9272.56,  9273.85,  9275.5 ,  9276.09,  9276.77,  9276.8 ,\n",
              "          9286.87,  9288.52,  9289.66,  9292.09,  9292.95,  9297.07,\n",
              "          9302.73,  9305.65,  9309.55,  9309.61,  9312.79,  9314.16,\n",
              "          9314.98,  9316.9 ,  9317.58,  9317.91,  9320.2 ,  9320.59,\n",
              "          9325.37,  9334.87,  9337.4 ,  9340.16,  9345.05,  9355.51,\n",
              "          9356.52,  9359.52,  9360.15,  9360.5 ,  9360.59,  9362.48,\n",
              "          9363.05,  9364.94,  9365.82,  9367.17,  9367.65,  9370.45,\n",
              "          9375.27,  9377.62,  9378.34,  9378.74,  9380.25,  9389.8 ,\n",
              "          9389.88,  9402.66,  9407.22,  9411.76,  9417.89,  9418.81,\n",
              "          9427.  ,  9428.94,  9431.5 ,  9431.51,  9431.66,  9435.06,\n",
              "          9435.12,  9436.5 ,  9439.33,  9440.3 ,  9441.43,  9444.3 ,\n",
              "          9449.94,  9450.16,  9452.23,  9455.34,  9459.2 ,  9462.07,\n",
              "          9465.44,  9469.03,  9470.04,  9472.37,  9477.72,  9483.46,\n",
              "          9483.48,  9486.99,  9490.29,  9492.51,  9493.73,  9493.74,\n",
              "          9495.25,  9495.83,  9503.79,  9506.7 ,  9509.67,  9511.29,\n",
              "          9512.01,  9514.6 ,  9515.84,  9517.72,  9521.08,  9530.25,\n",
              "          9538.85,  9539.53,  9542.23,  9550.61,  9551.96,  9564.26,\n",
              "          9573.54,  9574.46,  9580.12,  9581.71,  9585.94,  9598.08,\n",
              "          9599.71,  9600.91,  9603.77,  9607.01,  9607.51,  9608.71,\n",
              "          9611.04,  9611.88,  9648.43,  9655.99,  9656.08,  9660.43,\n",
              "          9661.47,  9664.6 ,  9675.05,  9684.88,  9696.31,  9711.98,\n",
              "          9714.33,  9720.01,  9725.95,  9762.94,  9785.16,  9787.71,\n",
              "          9802.67,  9806.47,  9807.6 ,  9854.41,  9935.29,  9940.31,\n",
              "          9951.73,  9992.24,  9997.06, 10031.4 , 10065.09, 10127.11,\n",
              "         10173.78, 10231.68, 10251.01, 10416.58])),\n",
              " (496.67247456070066, 8737.79232, 0.9994897841513299))"
            ]
          },
          "metadata": {},
          "execution_count": 51
        },
        {
          "output_type": "display_data",
          "data": {
            "text/plain": [
              "<Figure size 432x288 with 1 Axes>"
            ],
            "image/png": "[encoded data removed]"
          },
          "metadata": {
            "needs_background": "light"
          }
        }
      ]
    },
    {
      "cell_type": "code",
      "source": [
        "sm=np.mean(sampleMeans)\n",
        "sstd=np.std(sampleMeans)\n",
        "#95% Confidence Interval is 2standard deviations away\n",
        "f_interval_val=sm-2*sstd\n",
        "s_interval_val=sm+2*sstd\n",
        "print(\"95% Confidence Interval [ {} - {} ]\".format(f_interval_val,s_interval_val))\n",
        "#99% Confidence Interval is 3standard deviations away\n",
        "f_interval_val=sm-3*sstd\n",
        "s_interval_val=sm+3*sstd\n",
        "print(\"99% Confidence Interval [ {} - {} ]\".format(f_interval_val,s_interval_val))"
      ],
      "metadata": {
        "colab": {
          "base_uri": "https://localhost:8080/"
        },
        "id": "hKNFsDEvV3Qs",
        "outputId": "f08ba4ea-0f89-4c8e-f2f5-02dddebc4414"
      },
      "execution_count": null,
      "outputs": [
        {
          "output_type": "stream",
          "name": "stdout",
          "text": [
            "95% Confidence Interval [ 7746.702043964526 - 9728.882596035472 ]\n",
            "99% Confidence Interval [ 7251.156905946789 - 10224.427734053208 ]\n"
          ]
        }
      ]
    },
    {
      "cell_type": "markdown",
      "source": [
        "**ANALYSIS** - Here we can conclude that we are **95 % sure that female customer** will spend between **7746 and 9728**"
      ],
      "metadata": {
        "id": "NSLTyctTWy4M"
      }
    },
    {
      "cell_type": "markdown",
      "source": [
        "**CLT FOR MALE CUSTOMERS**"
      ],
      "metadata": {
        "id": "q7ZcLYleWOVs"
      }
    },
    {
      "cell_type": "code",
      "source": [
        "#For male customers\n",
        "sampleMeans = []\n",
        "for _ in range(1000):\n",
        "    samples = m_cutomers_df['Purchase'].sample(n=100)\n",
        "    sampleMean = np.mean(samples)\n",
        "    sampleMeans.append(sampleMean)"
      ],
      "metadata": {
        "id": "-RtSQnsSVIDy"
      },
      "execution_count": null,
      "outputs": []
    },
    {
      "cell_type": "code",
      "source": [
        "fig, ax = plt.subplots()\n",
        "stats.probplot(sampleMeans, dist=\"norm\", plot=ax)"
      ],
      "metadata": {
        "colab": {
          "base_uri": "https://localhost:8080/",
          "height": 8009
        },
        "id": "Me53yqLnVNEu",
        "outputId": "095ad46d-8714-4294-f609-75767d2c5854"
      },
      "execution_count": null,
      "outputs": [
        {
          "output_type": "execute_result",
          "data": {
            "text/plain": [
              "((array([-3.19758950e+00, -2.93237785e+00, -2.78437841e+00, -2.67999560e+00,\n",
              "         -2.59855946e+00, -2.53139899e+00, -2.47402263e+00, -2.42379214e+00,\n",
              "         -2.37902149e+00, -2.33856546e+00, -2.30160949e+00, -2.26755284e+00,\n",
              "         -2.23593934e+00, -2.20641415e+00, -2.17869564e+00, -2.15255643e+00,\n",
              "         -2.12781017e+00, -2.10430217e+00, -2.08190261e+00, -2.06050135e+00,\n",
              "         -2.04000420e+00, -2.02032992e+00, -2.00140792e+00, -1.98317650e+00,\n",
              "         -1.96558137e+00, -1.94857451e+00, -1.93211325e+00, -1.91615948e+00,\n",
              "         -1.90067901e+00, -1.88564107e+00, -1.87101783e+00, -1.85678408e+00,\n",
              "         -1.84291686e+00, -1.82939524e+00, -1.81620005e+00, -1.80331371e+00,\n",
              "         -1.79072004e+00, -1.77840415e+00, -1.76635224e+00, -1.75455157e+00,\n",
              "         -1.74299028e+00, -1.73165738e+00, -1.72054262e+00, -1.70963644e+00,\n",
              "         -1.69892989e+00, -1.68841463e+00, -1.67808281e+00, -1.66792707e+00,\n",
              "         -1.65794051e+00, -1.64811661e+00, -1.63844924e+00, -1.62893261e+00,\n",
              "         -1.61956127e+00, -1.61033003e+00, -1.60123402e+00, -1.59226859e+00,\n",
              "         -1.58342935e+00, -1.57471213e+00, -1.56611295e+00, -1.55762804e+00,\n",
              "         -1.54925381e+00, -1.54098684e+00, -1.53282387e+00, -1.52476177e+00,\n",
              "         -1.51679758e+00, -1.50892845e+00, -1.50115166e+00, -1.49346462e+00,\n",
              "         -1.48586482e+00, -1.47834989e+00, -1.47091753e+00, -1.46356555e+00,\n",
              "         -1.45629184e+00, -1.44909437e+00, -1.44197119e+00, -1.43492043e+00,\n",
              "         -1.42794030e+00, -1.42102906e+00, -1.41418503e+00, -1.40740661e+00,\n",
              "         -1.40069224e+00, -1.39404044e+00, -1.38744975e+00, -1.38091878e+00,\n",
              "         -1.37444619e+00, -1.36803067e+00, -1.36167098e+00, -1.35536588e+00,\n",
              "         -1.34911421e+00, -1.34291482e+00, -1.33676663e+00, -1.33066855e+00,\n",
              "         -1.32461956e+00, -1.31861865e+00, -1.31266485e+00, -1.30675722e+00,\n",
              "         -1.30089485e+00, -1.29507686e+00, -1.28930237e+00, -1.28357055e+00,\n",
              "         -1.27788060e+00, -1.27223172e+00, -1.26662315e+00, -1.26105415e+00,\n",
              "         -1.25552398e+00, -1.25003194e+00, -1.24457735e+00, -1.23915954e+00,\n",
              "         -1.23377786e+00, -1.22843168e+00, -1.22312038e+00, -1.21784337e+00,\n",
              "         -1.21260004e+00, -1.20738985e+00, -1.20221223e+00, -1.19706664e+00,\n",
              "         -1.19195255e+00, -1.18686944e+00, -1.18181682e+00, -1.17679419e+00,\n",
              "         -1.17180107e+00, -1.16683699e+00, -1.16190151e+00, -1.15699416e+00,\n",
              "         -1.15211453e+00, -1.14726217e+00, -1.14243667e+00, -1.13763763e+00,\n",
              "         -1.13286465e+00, -1.12811734e+00, -1.12339532e+00, -1.11869822e+00,\n",
              "         -1.11402566e+00, -1.10937731e+00, -1.10475280e+00, -1.10015180e+00,\n",
              "         -1.09557397e+00, -1.09101899e+00, -1.08648653e+00, -1.08197628e+00,\n",
              "         -1.07748793e+00, -1.07302119e+00, -1.06857575e+00, -1.06415133e+00,\n",
              "         -1.05974765e+00, -1.05536442e+00, -1.05100137e+00, -1.04665824e+00,\n",
              "         -1.04233476e+00, -1.03803068e+00, -1.03374574e+00, -1.02947970e+00,\n",
              "         -1.02523232e+00, -1.02100335e+00, -1.01679256e+00, -1.01259972e+00,\n",
              "         -1.00842461e+00, -1.00426700e+00, -1.00012668e+00, -9.96003439e-01,\n",
              "         -9.91897058e-01, -9.87807334e-01, -9.83734067e-01, -9.79677056e-01,\n",
              "         -9.75636106e-01, -9.71611024e-01, -9.67601623e-01, -9.63607717e-01,\n",
              "         -9.59629122e-01, -9.55665660e-01, -9.51717154e-01, -9.47783430e-01,\n",
              "         -9.43864319e-01, -9.39959651e-01, -9.36069261e-01, -9.32192988e-01,\n",
              "         -9.28330671e-01, -9.24482153e-01, -9.20647280e-01, -9.16825898e-01,\n",
              "         -9.13017857e-01, -9.09223011e-01, -9.05441213e-01, -9.01672321e-01,\n",
              "         -8.97916193e-01, -8.94172691e-01, -8.90441678e-01, -8.86723020e-01,\n",
              "         -8.83016583e-01, -8.79322237e-01, -8.75639853e-01, -8.71969305e-01,\n",
              "         -8.68310468e-01, -8.64663218e-01, -8.61027434e-01, -8.57402996e-01,\n",
              "         -8.53789787e-01, -8.50187690e-01, -8.46596591e-01, -8.43016376e-01,\n",
              "         -8.39446935e-01, -8.35888157e-01, -8.32339934e-01, -8.28802160e-01,\n",
              "         -8.25274728e-01, -8.21757535e-01, -8.18250479e-01, -8.14753457e-01,\n",
              "         -8.11266372e-01, -8.07789123e-01, -8.04321614e-01, -8.00863750e-01,\n",
              "         -7.97415434e-01, -7.93976575e-01, -7.90547079e-01, -7.87126857e-01,\n",
              "         -7.83715817e-01, -7.80313872e-01, -7.76920933e-01, -7.73536915e-01,\n",
              "         -7.70161733e-01, -7.66795301e-01, -7.63437536e-01, -7.60088358e-01,\n",
              "         -7.56747683e-01, -7.53415433e-01, -7.50091527e-01, -7.46775888e-01,\n",
              "         -7.43468439e-01, -7.40169103e-01, -7.36877804e-01, -7.33594468e-01,\n",
              "         -7.30319022e-01, -7.27051392e-01, -7.23791507e-01, -7.20539295e-01,\n",
              "         -7.17294687e-01, -7.14057613e-01, -7.10828003e-01, -7.07605791e-01,\n",
              "         -7.04390909e-01, -7.01183291e-01, -6.97982871e-01, -6.94789584e-01,\n",
              "         -6.91603367e-01, -6.88424155e-01, -6.85251886e-01, -6.82086498e-01,\n",
              "         -6.78927930e-01, -6.75776120e-01, -6.72631010e-01, -6.69492539e-01,\n",
              "         -6.66360648e-01, -6.63235280e-01, -6.60116377e-01, -6.57003883e-01,\n",
              "         -6.53897740e-01, -6.50797893e-01, -6.47704287e-01, -6.44616868e-01,\n",
              "         -6.41535581e-01, -6.38460373e-01, -6.35391191e-01, -6.32327983e-01,\n",
              "         -6.29270697e-01, -6.26219281e-01, -6.23173684e-01, -6.20133858e-01,\n",
              "         -6.17099750e-01, -6.14071313e-01, -6.11048498e-01, -6.08031256e-01,\n",
              "         -6.05019539e-01, -6.02013299e-01, -5.99012491e-01, -5.96017067e-01,\n",
              "         -5.93026981e-01, -5.90042188e-01, -5.87062643e-01, -5.84088300e-01,\n",
              "         -5.81119115e-01, -5.78155045e-01, -5.75196045e-01, -5.72242074e-01,\n",
              "         -5.69293087e-01, -5.66349043e-01, -5.63409899e-01, -5.60475614e-01,\n",
              "         -5.57546147e-01, -5.54621458e-01, -5.51701504e-01, -5.48786247e-01,\n",
              "         -5.45875647e-01, -5.42969663e-01, -5.40068258e-01, -5.37171392e-01,\n",
              "         -5.34279026e-01, -5.31391124e-01, -5.28507646e-01, -5.25628557e-01,\n",
              "         -5.22753817e-01, -5.19883391e-01, -5.17017243e-01, -5.14155335e-01,\n",
              "         -5.11297632e-01, -5.08444099e-01, -5.05594699e-01, -5.02749399e-01,\n",
              "         -4.99908163e-01, -4.97070957e-01, -4.94237747e-01, -4.91408498e-01,\n",
              "         -4.88583178e-01, -4.85761752e-01, -4.82944188e-01, -4.80130452e-01,\n",
              "         -4.77320513e-01, -4.74514337e-01, -4.71711893e-01, -4.68913149e-01,\n",
              "         -4.66118073e-01, -4.63326634e-01, -4.60538801e-01, -4.57754542e-01,\n",
              "         -4.54973827e-01, -4.52196626e-01, -4.49422908e-01, -4.46652644e-01,\n",
              "         -4.43885803e-01, -4.41122356e-01, -4.38362274e-01, -4.35605527e-01,\n",
              "         -4.32852086e-01, -4.30101924e-01, -4.27355010e-01, -4.24611318e-01,\n",
              "         -4.21870818e-01, -4.19133483e-01, -4.16399284e-01, -4.13668196e-01,\n",
              "         -4.10940189e-01, -4.08215237e-01, -4.05493313e-01, -4.02774389e-01,\n",
              "         -4.00058440e-01, -3.97345439e-01, -3.94635359e-01, -3.91928175e-01,\n",
              "         -3.89223860e-01, -3.86522388e-01, -3.83823735e-01, -3.81127874e-01,\n",
              "         -3.78434779e-01, -3.75744427e-01, -3.73056792e-01, -3.70371848e-01,\n",
              "         -3.67689572e-01, -3.65009939e-01, -3.62332924e-01, -3.59658504e-01,\n",
              "         -3.56986653e-01, -3.54317348e-01, -3.51650566e-01, -3.48986282e-01,\n",
              "         -3.46324472e-01, -3.43665115e-01, -3.41008186e-01, -3.38353661e-01,\n",
              "         -3.35701519e-01, -3.33051736e-01, -3.30404290e-01, -3.27759157e-01,\n",
              "         -3.25116316e-01, -3.22475743e-01, -3.19837417e-01, -3.17201315e-01,\n",
              "         -3.14567416e-01, -3.11935698e-01, -3.09306138e-01, -3.06678715e-01,\n",
              "         -3.04053407e-01, -3.01430193e-01, -2.98809052e-01, -2.96189962e-01,\n",
              "         -2.93572903e-01, -2.90957852e-01, -2.88344790e-01, -2.85733695e-01,\n",
              "         -2.83124547e-01, -2.80517325e-01, -2.77912008e-01, -2.75308576e-01,\n",
              "         -2.72707009e-01, -2.70107286e-01, -2.67509388e-01, -2.64913294e-01,\n",
              "         -2.62318984e-01, -2.59726438e-01, -2.57135637e-01, -2.54546561e-01,\n",
              "         -2.51959189e-01, -2.49373504e-01, -2.46789484e-01, -2.44207112e-01,\n",
              "         -2.41626367e-01, -2.39047230e-01, -2.36469683e-01, -2.33893705e-01,\n",
              "         -2.31319279e-01, -2.28746384e-01, -2.26175004e-01, -2.23605117e-01,\n",
              "         -2.21036707e-01, -2.18469754e-01, -2.15904240e-01, -2.13340146e-01,\n",
              "         -2.10777454e-01, -2.08216145e-01, -2.05656202e-01, -2.03097605e-01,\n",
              "         -2.00540338e-01, -1.97984381e-01, -1.95429717e-01, -1.92876328e-01,\n",
              "         -1.90324196e-01, -1.87773302e-01, -1.85223630e-01, -1.82675162e-01,\n",
              "         -1.80127879e-01, -1.77581765e-01, -1.75036802e-01, -1.72492971e-01,\n",
              "         -1.69950256e-01, -1.67408640e-01, -1.64868105e-01, -1.62328633e-01,\n",
              "         -1.59790208e-01, -1.57252812e-01, -1.54716428e-01, -1.52181038e-01,\n",
              "         -1.49646627e-01, -1.47113177e-01, -1.44580670e-01, -1.42049091e-01,\n",
              "         -1.39518421e-01, -1.36988645e-01, -1.34459745e-01, -1.31931705e-01,\n",
              "         -1.29404507e-01, -1.26878136e-01, -1.24352575e-01, -1.21827806e-01,\n",
              "         -1.19303813e-01, -1.16780581e-01, -1.14258092e-01, -1.11736329e-01,\n",
              "         -1.09215277e-01, -1.06694919e-01, -1.04175238e-01, -1.01656219e-01,\n",
              "         -9.91378445e-02, -9.66200987e-02, -9.41029651e-02, -9.15864277e-02,\n",
              "         -8.90704701e-02, -8.65550762e-02, -8.40402299e-02, -8.15259149e-02,\n",
              "         -7.90121153e-02, -7.64988148e-02, -7.39859974e-02, -7.14736472e-02,\n",
              "         -6.89617480e-02, -6.64502838e-02, -6.39392387e-02, -6.14285967e-02,\n",
              "         -5.89183419e-02, -5.64084582e-02, -5.38989299e-02, -5.13897409e-02,\n",
              "         -4.88808755e-02, -4.63723177e-02, -4.38640516e-02, -4.13560616e-02,\n",
              "         -3.88483316e-02, -3.63408459e-02, -3.38335886e-02, -3.13265441e-02,\n",
              "         -2.88196964e-02, -2.63130298e-02, -2.38065286e-02, -2.13001769e-02,\n",
              "         -1.87939590e-02, -1.62878591e-02, -1.37818616e-02, -1.12759505e-02,\n",
              "         -8.77011034e-03, -6.26432519e-03, -3.75857938e-03, -1.25285717e-03,\n",
              "          1.25285717e-03,  3.75857938e-03,  6.26432519e-03,  8.77011034e-03,\n",
              "          1.12759505e-02,  1.37818616e-02,  1.62878591e-02,  1.87939590e-02,\n",
              "          2.13001769e-02,  2.38065286e-02,  2.63130298e-02,  2.88196964e-02,\n",
              "          3.13265441e-02,  3.38335886e-02,  3.63408459e-02,  3.88483316e-02,\n",
              "          4.13560616e-02,  4.38640516e-02,  4.63723177e-02,  4.88808755e-02,\n",
              "          5.13897409e-02,  5.38989299e-02,  5.64084582e-02,  5.89183419e-02,\n",
              "          6.14285967e-02,  6.39392387e-02,  6.64502838e-02,  6.89617480e-02,\n",
              "          7.14736472e-02,  7.39859974e-02,  7.64988148e-02,  7.90121153e-02,\n",
              "          8.15259149e-02,  8.40402299e-02,  8.65550762e-02,  8.90704701e-02,\n",
              "          9.15864277e-02,  9.41029651e-02,  9.66200987e-02,  9.91378445e-02,\n",
              "          1.01656219e-01,  1.04175238e-01,  1.06694919e-01,  1.09215277e-01,\n",
              "          1.11736329e-01,  1.14258092e-01,  1.16780581e-01,  1.19303813e-01,\n",
              "          1.21827806e-01,  1.24352575e-01,  1.26878136e-01,  1.29404507e-01,\n",
              "          1.31931705e-01,  1.34459745e-01,  1.36988645e-01,  1.39518421e-01,\n",
              "          1.42049091e-01,  1.44580670e-01,  1.47113177e-01,  1.49646627e-01,\n",
              "          1.52181038e-01,  1.54716428e-01,  1.57252812e-01,  1.59790208e-01,\n",
              "          1.62328633e-01,  1.64868105e-01,  1.67408640e-01,  1.69950256e-01,\n",
              "          1.72492971e-01,  1.75036802e-01,  1.77581765e-01,  1.80127879e-01,\n",
              "          1.82675162e-01,  1.85223630e-01,  1.87773302e-01,  1.90324196e-01,\n",
              "          1.92876328e-01,  1.95429717e-01,  1.97984381e-01,  2.00540338e-01,\n",
              "          2.03097605e-01,  2.05656202e-01,  2.08216145e-01,  2.10777454e-01,\n",
              "          2.13340146e-01,  2.15904240e-01,  2.18469754e-01,  2.21036707e-01,\n",
              "          2.23605117e-01,  2.26175004e-01,  2.28746384e-01,  2.31319279e-01,\n",
              "          2.33893705e-01,  2.36469683e-01,  2.39047230e-01,  2.41626367e-01,\n",
              "          2.44207112e-01,  2.46789484e-01,  2.49373504e-01,  2.51959189e-01,\n",
              "          2.54546561e-01,  2.57135637e-01,  2.59726438e-01,  2.62318984e-01,\n",
              "          2.64913294e-01,  2.67509388e-01,  2.70107286e-01,  2.72707009e-01,\n",
              "          2.75308576e-01,  2.77912008e-01,  2.80517325e-01,  2.83124547e-01,\n",
              "          2.85733695e-01,  2.88344790e-01,  2.90957852e-01,  2.93572903e-01,\n",
              "          2.96189962e-01,  2.98809052e-01,  3.01430193e-01,  3.04053407e-01,\n",
              "          3.06678715e-01,  3.09306138e-01,  3.11935698e-01,  3.14567416e-01,\n",
              "          3.17201315e-01,  3.19837417e-01,  3.22475743e-01,  3.25116316e-01,\n",
              "          3.27759157e-01,  3.30404290e-01,  3.33051736e-01,  3.35701519e-01,\n",
              "          3.38353661e-01,  3.41008186e-01,  3.43665115e-01,  3.46324472e-01,\n",
              "          3.48986282e-01,  3.51650566e-01,  3.54317348e-01,  3.56986653e-01,\n",
              "          3.59658504e-01,  3.62332924e-01,  3.65009939e-01,  3.67689572e-01,\n",
              "          3.70371848e-01,  3.73056792e-01,  3.75744427e-01,  3.78434779e-01,\n",
              "          3.81127874e-01,  3.83823735e-01,  3.86522388e-01,  3.89223860e-01,\n",
              "          3.91928175e-01,  3.94635359e-01,  3.97345439e-01,  4.00058440e-01,\n",
              "          4.02774389e-01,  4.05493313e-01,  4.08215237e-01,  4.10940189e-01,\n",
              "          4.13668196e-01,  4.16399284e-01,  4.19133483e-01,  4.21870818e-01,\n",
              "          4.24611318e-01,  4.27355010e-01,  4.30101924e-01,  4.32852086e-01,\n",
              "          4.35605527e-01,  4.38362274e-01,  4.41122356e-01,  4.43885803e-01,\n",
              "          4.46652644e-01,  4.49422908e-01,  4.52196626e-01,  4.54973827e-01,\n",
              "          4.57754542e-01,  4.60538801e-01,  4.63326634e-01,  4.66118073e-01,\n",
              "          4.68913149e-01,  4.71711893e-01,  4.74514337e-01,  4.77320513e-01,\n",
              "          4.80130452e-01,  4.82944188e-01,  4.85761752e-01,  4.88583178e-01,\n",
              "          4.91408498e-01,  4.94237747e-01,  4.97070957e-01,  4.99908163e-01,\n",
              "          5.02749399e-01,  5.05594699e-01,  5.08444099e-01,  5.11297632e-01,\n",
              "          5.14155335e-01,  5.17017243e-01,  5.19883391e-01,  5.22753817e-01,\n",
              "          5.25628557e-01,  5.28507646e-01,  5.31391124e-01,  5.34279026e-01,\n",
              "          5.37171392e-01,  5.40068258e-01,  5.42969663e-01,  5.45875647e-01,\n",
              "          5.48786247e-01,  5.51701504e-01,  5.54621458e-01,  5.57546147e-01,\n",
              "          5.60475614e-01,  5.63409899e-01,  5.66349043e-01,  5.69293087e-01,\n",
              "          5.72242074e-01,  5.75196045e-01,  5.78155045e-01,  5.81119115e-01,\n",
              "          5.84088300e-01,  5.87062643e-01,  5.90042188e-01,  5.93026981e-01,\n",
              "          5.96017067e-01,  5.99012491e-01,  6.02013299e-01,  6.05019539e-01,\n",
              "          6.08031256e-01,  6.11048498e-01,  6.14071313e-01,  6.17099750e-01,\n",
              "          6.20133858e-01,  6.23173684e-01,  6.26219281e-01,  6.29270697e-01,\n",
              "          6.32327983e-01,  6.35391191e-01,  6.38460373e-01,  6.41535581e-01,\n",
              "          6.44616868e-01,  6.47704287e-01,  6.50797893e-01,  6.53897740e-01,\n",
              "          6.57003883e-01,  6.60116377e-01,  6.63235280e-01,  6.66360648e-01,\n",
              "          6.69492539e-01,  6.72631010e-01,  6.75776120e-01,  6.78927930e-01,\n",
              "          6.82086498e-01,  6.85251886e-01,  6.88424155e-01,  6.91603367e-01,\n",
              "          6.94789584e-01,  6.97982871e-01,  7.01183291e-01,  7.04390909e-01,\n",
              "          7.07605791e-01,  7.10828003e-01,  7.14057613e-01,  7.17294687e-01,\n",
              "          7.20539295e-01,  7.23791507e-01,  7.27051392e-01,  7.30319022e-01,\n",
              "          7.33594468e-01,  7.36877804e-01,  7.40169103e-01,  7.43468439e-01,\n",
              "          7.46775888e-01,  7.50091527e-01,  7.53415433e-01,  7.56747683e-01,\n",
              "          7.60088358e-01,  7.63437536e-01,  7.66795301e-01,  7.70161733e-01,\n",
              "          7.73536915e-01,  7.76920933e-01,  7.80313872e-01,  7.83715817e-01,\n",
              "          7.87126857e-01,  7.90547079e-01,  7.93976575e-01,  7.97415434e-01,\n",
              "          8.00863750e-01,  8.04321614e-01,  8.07789123e-01,  8.11266372e-01,\n",
              "          8.14753457e-01,  8.18250479e-01,  8.21757535e-01,  8.25274728e-01,\n",
              "          8.28802160e-01,  8.32339934e-01,  8.35888157e-01,  8.39446935e-01,\n",
              "          8.43016376e-01,  8.46596591e-01,  8.50187690e-01,  8.53789787e-01,\n",
              "          8.57402996e-01,  8.61027434e-01,  8.64663218e-01,  8.68310468e-01,\n",
              "          8.71969305e-01,  8.75639853e-01,  8.79322237e-01,  8.83016583e-01,\n",
              "          8.86723020e-01,  8.90441678e-01,  8.94172691e-01,  8.97916193e-01,\n",
              "          9.01672321e-01,  9.05441213e-01,  9.09223011e-01,  9.13017857e-01,\n",
              "          9.16825898e-01,  9.20647280e-01,  9.24482153e-01,  9.28330671e-01,\n",
              "          9.32192988e-01,  9.36069261e-01,  9.39959651e-01,  9.43864319e-01,\n",
              "          9.47783430e-01,  9.51717154e-01,  9.55665660e-01,  9.59629122e-01,\n",
              "          9.63607717e-01,  9.67601623e-01,  9.71611024e-01,  9.75636106e-01,\n",
              "          9.79677056e-01,  9.83734067e-01,  9.87807334e-01,  9.91897058e-01,\n",
              "          9.96003439e-01,  1.00012668e+00,  1.00426700e+00,  1.00842461e+00,\n",
              "          1.01259972e+00,  1.01679256e+00,  1.02100335e+00,  1.02523232e+00,\n",
              "          1.02947970e+00,  1.03374574e+00,  1.03803068e+00,  1.04233476e+00,\n",
              "          1.04665824e+00,  1.05100137e+00,  1.05536442e+00,  1.05974765e+00,\n",
              "          1.06415133e+00,  1.06857575e+00,  1.07302119e+00,  1.07748793e+00,\n",
              "          1.08197628e+00,  1.08648653e+00,  1.09101899e+00,  1.09557397e+00,\n",
              "          1.10015180e+00,  1.10475280e+00,  1.10937731e+00,  1.11402566e+00,\n",
              "          1.11869822e+00,  1.12339532e+00,  1.12811734e+00,  1.13286465e+00,\n",
              "          1.13763763e+00,  1.14243667e+00,  1.14726217e+00,  1.15211453e+00,\n",
              "          1.15699416e+00,  1.16190151e+00,  1.16683699e+00,  1.17180107e+00,\n",
              "          1.17679419e+00,  1.18181682e+00,  1.18686944e+00,  1.19195255e+00,\n",
              "          1.19706664e+00,  1.20221223e+00,  1.20738985e+00,  1.21260004e+00,\n",
              "          1.21784337e+00,  1.22312038e+00,  1.22843168e+00,  1.23377786e+00,\n",
              "          1.23915954e+00,  1.24457735e+00,  1.25003194e+00,  1.25552398e+00,\n",
              "          1.26105415e+00,  1.26662315e+00,  1.27223172e+00,  1.27788060e+00,\n",
              "          1.28357055e+00,  1.28930237e+00,  1.29507686e+00,  1.30089485e+00,\n",
              "          1.30675722e+00,  1.31266485e+00,  1.31861865e+00,  1.32461956e+00,\n",
              "          1.33066855e+00,  1.33676663e+00,  1.34291482e+00,  1.34911421e+00,\n",
              "          1.35536588e+00,  1.36167098e+00,  1.36803067e+00,  1.37444619e+00,\n",
              "          1.38091878e+00,  1.38744975e+00,  1.39404044e+00,  1.40069224e+00,\n",
              "          1.40740661e+00,  1.41418503e+00,  1.42102906e+00,  1.42794030e+00,\n",
              "          1.43492043e+00,  1.44197119e+00,  1.44909437e+00,  1.45629184e+00,\n",
              "          1.46356555e+00,  1.47091753e+00,  1.47834989e+00,  1.48586482e+00,\n",
              "          1.49346462e+00,  1.50115166e+00,  1.50892845e+00,  1.51679758e+00,\n",
              "          1.52476177e+00,  1.53282387e+00,  1.54098684e+00,  1.54925381e+00,\n",
              "          1.55762804e+00,  1.56611295e+00,  1.57471213e+00,  1.58342935e+00,\n",
              "          1.59226859e+00,  1.60123402e+00,  1.61033003e+00,  1.61956127e+00,\n",
              "          1.62893261e+00,  1.63844924e+00,  1.64811661e+00,  1.65794051e+00,\n",
              "          1.66792707e+00,  1.67808281e+00,  1.68841463e+00,  1.69892989e+00,\n",
              "          1.70963644e+00,  1.72054262e+00,  1.73165738e+00,  1.74299028e+00,\n",
              "          1.75455157e+00,  1.76635224e+00,  1.77840415e+00,  1.79072004e+00,\n",
              "          1.80331371e+00,  1.81620005e+00,  1.82939524e+00,  1.84291686e+00,\n",
              "          1.85678408e+00,  1.87101783e+00,  1.88564107e+00,  1.90067901e+00,\n",
              "          1.91615948e+00,  1.93211325e+00,  1.94857451e+00,  1.96558137e+00,\n",
              "          1.98317650e+00,  2.00140792e+00,  2.02032992e+00,  2.04000420e+00,\n",
              "          2.06050135e+00,  2.08190261e+00,  2.10430217e+00,  2.12781017e+00,\n",
              "          2.15255643e+00,  2.17869564e+00,  2.20641415e+00,  2.23593934e+00,\n",
              "          2.26755284e+00,  2.30160949e+00,  2.33856546e+00,  2.37902149e+00,\n",
              "          2.42379214e+00,  2.47402263e+00,  2.53139899e+00,  2.59855946e+00,\n",
              "          2.67999560e+00,  2.78437841e+00,  2.93237785e+00,  3.19758950e+00]),\n",
              "  array([ 7742.3 ,  7967.26,  8061.14,  8116.21,  8141.77,  8158.27,\n",
              "          8188.3 ,  8196.11,  8228.28,  8302.21,  8302.52,  8314.32,\n",
              "          8319.53,  8324.52,  8348.19,  8363.5 ,  8392.27,  8395.82,\n",
              "          8396.5 ,  8399.08,  8409.23,  8414.66,  8417.89,  8420.04,\n",
              "          8436.45,  8448.78,  8471.8 ,  8479.85,  8486.16,  8494.86,\n",
              "          8500.46,  8503.41,  8508.53,  8514.49,  8518.06,  8527.39,\n",
              "          8529.1 ,  8533.68,  8536.02,  8544.19,  8545.3 ,  8550.  ,\n",
              "          8555.36,  8555.79,  8560.07,  8564.15,  8573.84,  8577.14,\n",
              "          8580.31,  8583.38,  8583.71,  8588.35,  8589.26,  8590.42,\n",
              "          8591.7 ,  8597.99,  8601.05,  8608.06,  8609.01,  8609.46,\n",
              "          8618.86,  8624.95,  8630.43,  8632.36,  8634.12,  8636.92,\n",
              "          8640.43,  8642.75,  8644.74,  8646.85,  8655.83,  8677.11,\n",
              "          8683.6 ,  8684.63,  8693.07,  8693.91,  8698.94,  8699.42,\n",
              "          8699.99,  8705.87,  8706.34,  8708.88,  8713.98,  8714.23,\n",
              "          8718.58,  8719.25,  8720.81,  8722.97,  8724.35,  8729.8 ,\n",
              "          8730.62,  8735.79,  8740.09,  8741.75,  8747.79,  8747.93,\n",
              "          8748.9 ,  8749.4 ,  8754.74,  8759.13,  8759.56,  8763.27,\n",
              "          8767.49,  8773.74,  8775.32,  8775.85,  8779.27,  8783.76,\n",
              "          8785.06,  8787.05,  8787.85,  8788.77,  8790.13,  8792.21,\n",
              "          8795.91,  8797.77,  8805.53,  8809.06,  8810.23,  8811.35,\n",
              "          8816.52,  8827.35,  8827.47,  8831.26,  8835.71,  8836.05,\n",
              "          8844.01,  8849.27,  8850.44,  8850.97,  8859.19,  8859.29,\n",
              "          8860.24,  8866.28,  8867.94,  8868.88,  8870.02,  8870.99,\n",
              "          8872.57,  8872.83,  8876.9 ,  8878.31,  8880.52,  8881.41,\n",
              "          8885.32,  8885.62,  8887.18,  8888.1 ,  8890.15,  8893.18,\n",
              "          8897.08,  8897.25,  8901.94,  8903.67,  8906.82,  8907.23,\n",
              "          8908.13,  8923.92,  8926.3 ,  8926.85,  8927.68,  8928.41,\n",
              "          8930.23,  8930.38,  8930.79,  8931.38,  8931.61,  8933.93,\n",
              "          8935.31,  8936.58,  8938.15,  8940.34,  8943.7 ,  8945.92,\n",
              "          8948.23,  8948.37,  8950.31,  8950.86,  8953.14,  8956.63,\n",
              "          8958.41,  8958.77,  8960.27,  8963.18,  8964.9 ,  8966.51,\n",
              "          8966.96,  8967.45,  8970.9 ,  8971.33,  8972.61,  8973.36,\n",
              "          8975.09,  8976.36,  8976.87,  8978.83,  8982.15,  8982.27,\n",
              "          8983.42,  8983.53,  8985.32,  8986.97,  8991.31,  8991.54,\n",
              "          8996.13,  8999.22,  9000.  ,  9000.44,  9002.86,  9004.47,\n",
              "          9006.22,  9006.71,  9008.02,  9008.41,  9008.64,  9009.43,\n",
              "          9014.16,  9019.13,  9021.62,  9027.31,  9028.06,  9028.3 ,\n",
              "          9032.98,  9033.43,  9033.49,  9038.25,  9040.06,  9040.76,\n",
              "          9051.31,  9052.83,  9052.95,  9057.11,  9057.45,  9058.16,\n",
              "          9058.53,  9059.37,  9061.25,  9063.96,  9072.38,  9072.82,\n",
              "          9073.55,  9074.34,  9074.69,  9077.27,  9078.01,  9079.08,\n",
              "          9080.1 ,  9080.88,  9083.44,  9087.74,  9091.7 ,  9095.34,\n",
              "          9095.56,  9098.28,  9101.36,  9106.45,  9108.46,  9112.85,\n",
              "          9113.29,  9114.78,  9115.54,  9116.68,  9117.79,  9118.95,\n",
              "          9119.48,  9123.25,  9123.89,  9124.2 ,  9125.58,  9125.94,\n",
              "          9126.71,  9127.94,  9128.28,  9129.08,  9130.9 ,  9131.69,\n",
              "          9132.98,  9133.01,  9133.83,  9134.81,  9134.87,  9135.02,\n",
              "          9135.78,  9136.48,  9137.94,  9138.53,  9141.46,  9144.12,\n",
              "          9145.02,  9145.44,  9146.98,  9147.03,  9147.26,  9148.41,\n",
              "          9149.31,  9154.01,  9154.55,  9155.54,  9156.65,  9157.16,\n",
              "          9157.64,  9160.42,  9161.48,  9163.65,  9165.39,  9168.74,\n",
              "          9171.05,  9173.24,  9173.89,  9174.5 ,  9176.5 ,  9176.87,\n",
              "          9177.96,  9180.4 ,  9181.66,  9189.54,  9190.27,  9191.57,\n",
              "          9192.07,  9194.3 ,  9195.09,  9195.13,  9196.65,  9198.7 ,\n",
              "          9199.06,  9199.44,  9199.97,  9202.15,  9203.56,  9205.06,\n",
              "          9208.16,  9210.33,  9210.59,  9211.86,  9213.17,  9216.35,\n",
              "          9216.7 ,  9217.22,  9218.66,  9219.95,  9220.3 ,  9221.6 ,\n",
              "          9222.07,  9222.84,  9223.05,  9225.47,  9228.67,  9230.19,\n",
              "          9232.  ,  9235.54,  9237.76,  9238.02,  9242.3 ,  9242.49,\n",
              "          9243.52,  9248.68,  9249.25,  9250.26,  9250.54,  9251.04,\n",
              "          9251.16,  9251.84,  9253.31,  9253.84,  9253.93,  9254.1 ,\n",
              "          9256.12,  9256.72,  9260.65,  9263.2 ,  9265.5 ,  9267.38,\n",
              "          9267.74,  9270.77,  9271.92,  9272.47,  9272.49,  9273.06,\n",
              "          9276.72,  9277.91,  9279.86,  9280.49,  9281.15,  9283.02,\n",
              "          9284.86,  9285.  ,  9285.19,  9286.63,  9286.69,  9286.94,\n",
              "          9287.22,  9290.41,  9291.03,  9291.17,  9292.61,  9294.25,\n",
              "          9295.5 ,  9297.67,  9299.68,  9303.5 ,  9304.59,  9304.87,\n",
              "          9305.44,  9307.09,  9308.01,  9309.  ,  9309.02,  9313.17,\n",
              "          9317.54,  9318.31,  9320.25,  9320.42,  9321.57,  9322.04,\n",
              "          9322.61,  9326.99,  9327.77,  9327.94,  9328.81,  9329.7 ,\n",
              "          9331.43,  9331.86,  9332.11,  9334.68,  9335.89,  9338.29,\n",
              "          9338.47,  9344.82,  9345.52,  9345.91,  9346.63,  9349.07,\n",
              "          9352.25,  9352.97,  9354.23,  9355.81,  9356.69,  9357.35,\n",
              "          9362.39,  9363.47,  9364.3 ,  9365.02,  9365.86,  9367.87,\n",
              "          9368.04,  9368.88,  9369.88,  9371.92,  9372.19,  9373.93,\n",
              "          9375.56,  9375.66,  9375.97,  9379.99,  9380.72,  9381.6 ,\n",
              "          9385.13,  9386.24,  9386.51,  9388.43,  9388.68,  9389.33,\n",
              "          9390.84,  9390.86,  9393.53,  9396.69,  9397.54,  9398.32,\n",
              "          9400.9 ,  9401.47,  9402.6 ,  9403.77,  9404.39,  9405.95,\n",
              "          9406.69,  9406.94,  9409.37,  9409.5 ,  9410.48,  9411.96,\n",
              "          9413.57,  9415.05,  9415.53,  9417.81,  9417.97,  9418.48,\n",
              "          9419.18,  9419.51,  9421.24,  9421.31,  9421.46,  9426.78,\n",
              "          9427.31,  9428.16,  9430.03,  9431.16,  9431.2 ,  9431.51,\n",
              "          9431.56,  9433.29,  9434.12,  9434.33,  9436.28,  9438.29,\n",
              "          9439.14,  9439.26,  9439.57,  9439.79,  9440.47,  9440.98,\n",
              "          9441.07,  9441.23,  9441.5 ,  9442.77,  9442.97,  9443.52,\n",
              "          9445.39,  9446.14,  9453.9 ,  9454.27,  9454.83,  9455.53,\n",
              "          9456.11,  9460.83,  9461.03,  9461.94,  9462.87,  9463.56,\n",
              "          9466.2 ,  9467.11,  9468.49,  9469.68,  9471.49,  9473.66,\n",
              "          9474.12,  9475.96,  9477.38,  9478.03,  9479.86,  9480.91,\n",
              "          9482.22,  9482.69,  9484.01,  9484.76,  9484.85,  9485.47,\n",
              "          9485.58,  9486.12,  9488.9 ,  9489.17,  9490.15,  9492.16,\n",
              "          9492.62,  9494.13,  9495.46,  9497.94,  9498.56,  9500.62,\n",
              "          9500.68,  9500.83,  9501.69,  9501.73,  9502.77,  9503.57,\n",
              "          9505.61,  9506.86,  9508.3 ,  9508.8 ,  9509.8 ,  9511.55,\n",
              "          9511.76,  9512.64,  9513.25,  9513.3 ,  9513.46,  9515.94,\n",
              "          9516.4 ,  9516.99,  9518.01,  9518.3 ,  9519.  ,  9519.  ,\n",
              "          9520.09,  9521.93,  9523.43,  9524.86,  9527.24,  9534.36,\n",
              "          9534.61,  9535.17,  9536.59,  9538.18,  9540.69,  9542.62,\n",
              "          9542.82,  9546.81,  9547.14,  9547.15,  9548.22,  9548.34,\n",
              "          9548.95,  9549.23,  9549.32,  9551.21,  9551.29,  9551.51,\n",
              "          9552.14,  9552.36,  9552.41,  9552.76,  9553.92,  9554.52,\n",
              "          9556.07,  9557.03,  9557.57,  9559.15,  9561.54,  9562.53,\n",
              "          9564.35,  9564.8 ,  9564.87,  9569.69,  9569.94,  9570.63,\n",
              "          9572.13,  9573.37,  9576.1 ,  9577.31,  9580.19,  9581.44,\n",
              "          9583.03,  9583.73,  9583.9 ,  9585.85,  9586.49,  9590.91,\n",
              "          9590.94,  9591.38,  9592.3 ,  9592.5 ,  9592.54,  9594.79,\n",
              "          9594.82,  9596.74,  9597.8 ,  9599.63,  9599.81,  9602.82,\n",
              "          9606.78,  9607.2 ,  9607.69,  9611.07,  9611.08,  9613.83,\n",
              "          9614.06,  9614.31,  9614.81,  9615.85,  9617.38,  9618.43,\n",
              "          9619.65,  9622.15,  9623.97,  9624.18,  9630.14,  9634.26,\n",
              "          9634.69,  9637.22,  9640.33,  9641.51,  9642.67,  9644.6 ,\n",
              "          9646.11,  9649.55,  9649.82,  9650.34,  9650.97,  9653.32,\n",
              "          9653.37,  9657.73,  9659.23,  9660.16,  9660.19,  9661.22,\n",
              "          9666.51,  9667.35,  9668.52,  9671.29,  9671.92,  9672.02,\n",
              "          9674.01,  9674.95,  9675.92,  9677.97,  9678.25,  9679.07,\n",
              "          9681.87,  9683.04,  9687.49,  9691.05,  9691.74,  9692.47,\n",
              "          9692.74,  9692.76,  9693.18,  9695.51,  9695.62,  9697.18,\n",
              "          9700.06,  9702.26,  9704.44,  9704.96,  9706.32,  9706.96,\n",
              "          9714.85,  9715.99,  9718.27,  9718.3 ,  9721.26,  9722.66,\n",
              "          9723.22,  9723.83,  9725.35,  9726.25,  9727.04,  9730.49,\n",
              "          9734.25,  9734.27,  9735.44,  9737.18,  9738.68,  9740.09,\n",
              "          9744.08,  9745.82,  9748.39,  9750.45,  9751.22,  9753.57,\n",
              "          9754.4 ,  9754.44,  9754.89,  9757.48,  9761.31,  9761.61,\n",
              "          9762.39,  9762.4 ,  9763.28,  9764.56,  9765.11,  9768.35,\n",
              "          9769.05,  9769.5 ,  9770.04,  9773.79,  9774.59,  9776.  ,\n",
              "          9779.52,  9781.11,  9783.78,  9785.27,  9785.29,  9786.17,\n",
              "          9789.69,  9789.91,  9793.2 ,  9801.19,  9802.89,  9803.93,\n",
              "          9804.16,  9807.55,  9808.14,  9812.29,  9815.65,  9817.15,\n",
              "          9817.51,  9819.51,  9820.4 ,  9821.68,  9824.65,  9828.53,\n",
              "          9829.26,  9830.26,  9830.55,  9832.05,  9832.62,  9833.39,\n",
              "          9833.9 ,  9834.97,  9836.09,  9838.53,  9838.65,  9838.69,\n",
              "          9839.5 ,  9846.27,  9847.15,  9848.12,  9850.3 ,  9850.48,\n",
              "          9857.41,  9862.21,  9863.25,  9865.72,  9867.6 ,  9870.13,\n",
              "          9871.79,  9878.92,  9879.53,  9879.69,  9882.24,  9883.72,\n",
              "          9894.55,  9895.99,  9898.64,  9901.4 ,  9907.16,  9907.92,\n",
              "          9909.38,  9910.47,  9912.02,  9913.43,  9915.78,  9916.49,\n",
              "          9924.94,  9928.53,  9928.68,  9928.99,  9929.69,  9931.13,\n",
              "          9932.08,  9932.69,  9935.87,  9939.67,  9940.79,  9941.27,\n",
              "          9944.67,  9947.79,  9948.34,  9951.6 ,  9955.91,  9955.98,\n",
              "          9959.86,  9965.99,  9966.44,  9966.6 ,  9967.  ,  9968.66,\n",
              "          9969.77,  9974.13,  9975.36,  9978.21,  9980.54,  9980.56,\n",
              "          9980.99,  9982.34,  9987.74,  9988.69,  9989.02,  9993.77,\n",
              "          9995.66,  9995.94,  9997.58,  9998.75, 10001.85, 10002.53,\n",
              "         10004.1 , 10005.32, 10007.24, 10007.78, 10009.99, 10014.67,\n",
              "         10022.32, 10025.07, 10026.71, 10027.57, 10028.5 , 10038.26,\n",
              "         10039.23, 10041.56, 10041.88, 10043.49, 10047.29, 10048.28,\n",
              "         10050.05, 10058.99, 10072.1 , 10073.86, 10075.58, 10076.93,\n",
              "         10077.16, 10078.12, 10081.03, 10082.84, 10085.79, 10086.83,\n",
              "         10087.17, 10091.42, 10092.26, 10093.47, 10094.79, 10095.52,\n",
              "         10099.68, 10100.51, 10103.42, 10103.46, 10110.52, 10111.63,\n",
              "         10111.65, 10112.15, 10112.44, 10114.63, 10122.61, 10129.23,\n",
              "         10130.85, 10132.95, 10133.09, 10135.51, 10136.51, 10137.91,\n",
              "         10140.98, 10148.15, 10151.02, 10153.19, 10154.31, 10159.17,\n",
              "         10168.73, 10169.3 , 10169.48, 10169.81, 10177.23, 10181.15,\n",
              "         10181.52, 10181.55, 10199.19, 10203.54, 10213.54, 10219.73,\n",
              "         10227.67, 10230.91, 10232.49, 10258.87, 10266.33, 10266.87,\n",
              "         10269.3 , 10284.24, 10286.97, 10299.75, 10300.53, 10300.74,\n",
              "         10312.53, 10314.72, 10318.19, 10336.82, 10341.18, 10345.96,\n",
              "         10358.13, 10358.97, 10360.14, 10361.32, 10361.69, 10367.6 ,\n",
              "         10370.37, 10370.81, 10371.31, 10394.1 , 10395.01, 10408.07,\n",
              "         10414.86, 10427.04, 10446.86, 10447.25, 10450.7 , 10457.61,\n",
              "         10465.06, 10482.38, 10482.53, 10487.93, 10497.37, 10501.95,\n",
              "         10527.7 , 10546.5 , 10547.9 , 10566.14, 10573.79, 10584.02,\n",
              "         10586.86, 10594.29, 10594.99, 10605.23, 10629.03, 10637.8 ,\n",
              "         10658.08, 10666.37, 10716.93, 10720.28, 10724.19, 10786.26,\n",
              "         10816.5 , 10846.5 , 10859.87, 10973.68])),\n",
              " (516.5677014557361, 9432.38629, 0.9994950554845797))"
            ]
          },
          "metadata": {},
          "execution_count": 55
        },
        {
          "output_type": "display_data",
          "data": {
            "text/plain": [
              "<Figure size 432x288 with 1 Axes>"
            ],
            "image/png": "[encoded data removed]"
          },
          "metadata": {
            "needs_background": "light"
          }
        }
      ]
    },
    {
      "cell_type": "code",
      "source": [
        "sm=np.mean(sampleMeans)\n",
        "sstd=np.std(sampleMeans)\n",
        "#95% Confidence Interval is 2standard deviations away\n",
        "f_interval_val=sm-2*sstd\n",
        "s_interval_val=sm+2*sstd\n",
        "print(\"95% Confidence Interval [ {} - {} ]\".format(f_interval_val,s_interval_val))\n",
        "#99% Confidence Interval is 3standard deviations away\n",
        "f_interval_val=sm-3*sstd\n",
        "s_interval_val=sm+3*sstd\n",
        "print(\"99% Confidence Interval [ {} - {} ]\".format(f_interval_val,s_interval_val))"
      ],
      "metadata": {
        "colab": {
          "base_uri": "https://localhost:8080/"
        },
        "id": "koD6qIqPWFWe",
        "outputId": "01802246-da7c-41c1-ba55-475c3d075187"
      },
      "execution_count": null,
      "outputs": [
        {
          "output_type": "stream",
          "name": "stdout",
          "text": [
            "95% Confidence Interval [ 8401.601312078928 - 10463.171267921072 ]\n",
            "99% Confidence Interval [ 7886.208823118393 - 10978.563756881607 ]\n"
          ]
        }
      ]
    },
    {
      "cell_type": "markdown",
      "source": [
        "**ANALYSIS** - Here we can conclude that we are **95 % sure that male customer** will spend between **8401 and 10463**"
      ],
      "metadata": {
        "id": "u3Aft0HZWdgE"
      }
    },
    {
      "cell_type": "markdown",
      "source": [
        "# **RECOMMENDATIONS:**\n",
        "1.Marketing Capmaigns should be run for the people in the age group of 26-35 and least amount of can be spend to attract the people from the age bracket of 0-17.\n",
        "\n",
        "2.Since most of the people have purchased less than 50 products,user intrest category for an item list of 50 can be defined.\n",
        "\n",
        "3.Since male customer will spend between 8401 and 10463,advertising products of this range to the male customers will be of great help.\n",
        "\n",
        "4.Since female customer will spend between 7746 and 9728,advertising products of this range to the female customers will be of great help.\n"
      ],
      "metadata": {
        "id": "YK-wqbYCXAH3"
      }
    },
    {
      "cell_type": "code",
      "source": [],
      "metadata": {
        "id": "Z-C1qcM1cfuR"
      },
      "execution_count": null,
      "outputs": []
    }
  ]
}